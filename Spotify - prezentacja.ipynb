{
  "cells": [
    {
      "cell_type": "code",
      "execution_count": null,
      "metadata": {
        "id": "IY-bpjaBCEZu"
      },
      "outputs": [],
      "source": [
        "!pip install jupyter-dash plotly"
      ]
    },
    {
      "cell_type": "code",
      "execution_count": null,
      "metadata": {
        "id": "k58j-vVKESeg",
        "tags": []
      },
      "outputs": [],
      "source": [
        "import pandas as pd\n",
        "import plotly.express as px\n",
        "import funcs\n",
        "\n",
        "df = pd.read_csv(\"./df.csv\")\n",
        "df_pl = pd.read_csv(\"./df_pl.csv\")\n",
        "\n",
        "df = df.drop(columns=['Unnamed: 0', 'Unnamed: 0.1'])\n",
        "df_pl = df_pl.drop(columns=['Unnamed: 0', 'Unnamed: 0.1'])"
      ]
    },
    {
      "cell_type": "code",
      "execution_count": null,
      "metadata": {
        "id": "MXu5kW_9WN58",
        "tags": []
      },
      "outputs": [],
      "source": [
        "genre_list_pl = list(df_pl['genre_1'].unique()) + list(df_pl['genre_2'].unique()) + list(df_pl['genre_3'].unique()) + list(df_pl['genre_4'].unique()) + list(df_pl['genre_5'].unique())\n",
        "genre_set_pl = set(genre_list_pl)\n",
        "\n",
        "genre_list = list(df['genre_1'].unique()) + list(df['genre_2'].unique()) + list(df['genre_3'].unique()) + list(df['genre_4'].unique()) + list(df['genre_5'].unique())\n",
        "genre_set = set(genre_list)"
      ]
    },
    {
      "cell_type": "code",
      "execution_count": null,
      "metadata": {
        "id": "EA00CZHax59v",
        "tags": []
      },
      "outputs": [],
      "source": [
        "#@title\n",
        "genres_count = pd.DataFrame.from_dict({\n",
        "    'count': [len(genre_set_pl), len(genre_set), 5071],\n",
        "    'label': ['Spotify Polska', 'Spotify Global', 'Spotify ogółem']\n",
        "})"
      ]
    },
    {
      "cell_type": "markdown",
      "metadata": {
        "id": "02QpmozaBQgE"
      },
      "source": [
        "# Prezentacja"
      ]
    },
    {
      "cell_type": "markdown",
      "metadata": {
        "id": "WpDapwE7BQgI"
      },
      "source": [
        "## Metodologia"
      ]
    },
    {
      "cell_type": "markdown",
      "metadata": {
        "id": "-UZ7HChwBQgK"
      },
      "source": [
        "Ranking Spotify Charts jest tworzony automatycznie co tydzień na podstawie ilości odtworzeń utworu w poprzednim tygodniu."
      ]
    },
    {
      "cell_type": "markdown",
      "metadata": {
        "id": "be9L8a4EBQgL"
      },
      "source": [
        "## Sumaryczna liczba gatunków"
      ]
    },
    {
      "cell_type": "code",
      "execution_count": null,
      "metadata": {
        "colab": {
          "base_uri": "https://localhost:8080/",
          "height": 542
        },
        "id": "EN48Hd2UBQgN",
        "outputId": "cd1906af-e378-4321-81ed-46256581676f"
      },
      "outputs": [
        {
          "data": {
            "text/html": [
              "<html>\n",
              "<head><meta charset=\"utf-8\" /></head>\n",
              "<body>\n",
              "    <div>            <script src=\"https://cdnjs.cloudflare.com/ajax/libs/mathjax/2.7.5/MathJax.js?config=TeX-AMS-MML_SVG\"></script><script type=\"text/javascript\">if (window.MathJax) {MathJax.Hub.Config({SVG: {font: \"STIX-Web\"}});}</script>                <script type=\"text/javascript\">window.PlotlyConfig = {MathJaxConfig: 'local'};</script>\n",
              "        <script src=\"https://cdn.plot.ly/plotly-2.8.3.min.js\"></script>                <div id=\"d0f88b47-a924-43aa-aaa9-8324e9d52341\" class=\"plotly-graph-div\" style=\"height:525px; width:100%;\"></div>            <script type=\"text/javascript\">                                    window.PLOTLYENV=window.PLOTLYENV || {};                                    if (document.getElementById(\"d0f88b47-a924-43aa-aaa9-8324e9d52341\")) {                    Plotly.newPlot(                        \"d0f88b47-a924-43aa-aaa9-8324e9d52341\",                        [{\"alignmentgroup\":\"True\",\"hovertemplate\":\"label=%{x}<br>count=%{y}<extra></extra>\",\"legendgroup\":\"\",\"marker\":{\"color\":\"#636efa\",\"pattern\":{\"shape\":\"\"}},\"name\":\"\",\"offsetgroup\":\"\",\"orientation\":\"v\",\"showlegend\":false,\"textposition\":\"auto\",\"x\":[\"Spotify Polska\",\"Spotify Global\",\"Spotify og\\u00f3\\u0142em\"],\"xaxis\":\"x\",\"y\":[450,551,5071],\"yaxis\":\"y\",\"type\":\"bar\"}],                        {\"template\":{\"data\":{\"bar\":[{\"error_x\":{\"color\":\"#2a3f5f\"},\"error_y\":{\"color\":\"#2a3f5f\"},\"marker\":{\"line\":{\"color\":\"#E5ECF6\",\"width\":0.5},\"pattern\":{\"fillmode\":\"overlay\",\"size\":10,\"solidity\":0.2}},\"type\":\"bar\"}],\"barpolar\":[{\"marker\":{\"line\":{\"color\":\"#E5ECF6\",\"width\":0.5},\"pattern\":{\"fillmode\":\"overlay\",\"size\":10,\"solidity\":0.2}},\"type\":\"barpolar\"}],\"carpet\":[{\"aaxis\":{\"endlinecolor\":\"#2a3f5f\",\"gridcolor\":\"white\",\"linecolor\":\"white\",\"minorgridcolor\":\"white\",\"startlinecolor\":\"#2a3f5f\"},\"baxis\":{\"endlinecolor\":\"#2a3f5f\",\"gridcolor\":\"white\",\"linecolor\":\"white\",\"minorgridcolor\":\"white\",\"startlinecolor\":\"#2a3f5f\"},\"type\":\"carpet\"}],\"choropleth\":[{\"colorbar\":{\"outlinewidth\":0,\"ticks\":\"\"},\"type\":\"choropleth\"}],\"contour\":[{\"colorbar\":{\"outlinewidth\":0,\"ticks\":\"\"},\"colorscale\":[[0.0,\"#0d0887\"],[0.1111111111111111,\"#46039f\"],[0.2222222222222222,\"#7201a8\"],[0.3333333333333333,\"#9c179e\"],[0.4444444444444444,\"#bd3786\"],[0.5555555555555556,\"#d8576b\"],[0.6666666666666666,\"#ed7953\"],[0.7777777777777778,\"#fb9f3a\"],[0.8888888888888888,\"#fdca26\"],[1.0,\"#f0f921\"]],\"type\":\"contour\"}],\"contourcarpet\":[{\"colorbar\":{\"outlinewidth\":0,\"ticks\":\"\"},\"type\":\"contourcarpet\"}],\"heatmap\":[{\"colorbar\":{\"outlinewidth\":0,\"ticks\":\"\"},\"colorscale\":[[0.0,\"#0d0887\"],[0.1111111111111111,\"#46039f\"],[0.2222222222222222,\"#7201a8\"],[0.3333333333333333,\"#9c179e\"],[0.4444444444444444,\"#bd3786\"],[0.5555555555555556,\"#d8576b\"],[0.6666666666666666,\"#ed7953\"],[0.7777777777777778,\"#fb9f3a\"],[0.8888888888888888,\"#fdca26\"],[1.0,\"#f0f921\"]],\"type\":\"heatmap\"}],\"heatmapgl\":[{\"colorbar\":{\"outlinewidth\":0,\"ticks\":\"\"},\"colorscale\":[[0.0,\"#0d0887\"],[0.1111111111111111,\"#46039f\"],[0.2222222222222222,\"#7201a8\"],[0.3333333333333333,\"#9c179e\"],[0.4444444444444444,\"#bd3786\"],[0.5555555555555556,\"#d8576b\"],[0.6666666666666666,\"#ed7953\"],[0.7777777777777778,\"#fb9f3a\"],[0.8888888888888888,\"#fdca26\"],[1.0,\"#f0f921\"]],\"type\":\"heatmapgl\"}],\"histogram\":[{\"marker\":{\"pattern\":{\"fillmode\":\"overlay\",\"size\":10,\"solidity\":0.2}},\"type\":\"histogram\"}],\"histogram2d\":[{\"colorbar\":{\"outlinewidth\":0,\"ticks\":\"\"},\"colorscale\":[[0.0,\"#0d0887\"],[0.1111111111111111,\"#46039f\"],[0.2222222222222222,\"#7201a8\"],[0.3333333333333333,\"#9c179e\"],[0.4444444444444444,\"#bd3786\"],[0.5555555555555556,\"#d8576b\"],[0.6666666666666666,\"#ed7953\"],[0.7777777777777778,\"#fb9f3a\"],[0.8888888888888888,\"#fdca26\"],[1.0,\"#f0f921\"]],\"type\":\"histogram2d\"}],\"histogram2dcontour\":[{\"colorbar\":{\"outlinewidth\":0,\"ticks\":\"\"},\"colorscale\":[[0.0,\"#0d0887\"],[0.1111111111111111,\"#46039f\"],[0.2222222222222222,\"#7201a8\"],[0.3333333333333333,\"#9c179e\"],[0.4444444444444444,\"#bd3786\"],[0.5555555555555556,\"#d8576b\"],[0.6666666666666666,\"#ed7953\"],[0.7777777777777778,\"#fb9f3a\"],[0.8888888888888888,\"#fdca26\"],[1.0,\"#f0f921\"]],\"type\":\"histogram2dcontour\"}],\"mesh3d\":[{\"colorbar\":{\"outlinewidth\":0,\"ticks\":\"\"},\"type\":\"mesh3d\"}],\"parcoords\":[{\"line\":{\"colorbar\":{\"outlinewidth\":0,\"ticks\":\"\"}},\"type\":\"parcoords\"}],\"pie\":[{\"automargin\":true,\"type\":\"pie\"}],\"scatter\":[{\"marker\":{\"colorbar\":{\"outlinewidth\":0,\"ticks\":\"\"}},\"type\":\"scatter\"}],\"scatter3d\":[{\"line\":{\"colorbar\":{\"outlinewidth\":0,\"ticks\":\"\"}},\"marker\":{\"colorbar\":{\"outlinewidth\":0,\"ticks\":\"\"}},\"type\":\"scatter3d\"}],\"scattercarpet\":[{\"marker\":{\"colorbar\":{\"outlinewidth\":0,\"ticks\":\"\"}},\"type\":\"scattercarpet\"}],\"scattergeo\":[{\"marker\":{\"colorbar\":{\"outlinewidth\":0,\"ticks\":\"\"}},\"type\":\"scattergeo\"}],\"scattergl\":[{\"marker\":{\"colorbar\":{\"outlinewidth\":0,\"ticks\":\"\"}},\"type\":\"scattergl\"}],\"scattermapbox\":[{\"marker\":{\"colorbar\":{\"outlinewidth\":0,\"ticks\":\"\"}},\"type\":\"scattermapbox\"}],\"scatterpolar\":[{\"marker\":{\"colorbar\":{\"outlinewidth\":0,\"ticks\":\"\"}},\"type\":\"scatterpolar\"}],\"scatterpolargl\":[{\"marker\":{\"colorbar\":{\"outlinewidth\":0,\"ticks\":\"\"}},\"type\":\"scatterpolargl\"}],\"scatterternary\":[{\"marker\":{\"colorbar\":{\"outlinewidth\":0,\"ticks\":\"\"}},\"type\":\"scatterternary\"}],\"surface\":[{\"colorbar\":{\"outlinewidth\":0,\"ticks\":\"\"},\"colorscale\":[[0.0,\"#0d0887\"],[0.1111111111111111,\"#46039f\"],[0.2222222222222222,\"#7201a8\"],[0.3333333333333333,\"#9c179e\"],[0.4444444444444444,\"#bd3786\"],[0.5555555555555556,\"#d8576b\"],[0.6666666666666666,\"#ed7953\"],[0.7777777777777778,\"#fb9f3a\"],[0.8888888888888888,\"#fdca26\"],[1.0,\"#f0f921\"]],\"type\":\"surface\"}],\"table\":[{\"cells\":{\"fill\":{\"color\":\"#EBF0F8\"},\"line\":{\"color\":\"white\"}},\"header\":{\"fill\":{\"color\":\"#C8D4E3\"},\"line\":{\"color\":\"white\"}},\"type\":\"table\"}]},\"layout\":{\"annotationdefaults\":{\"arrowcolor\":\"#2a3f5f\",\"arrowhead\":0,\"arrowwidth\":1},\"autotypenumbers\":\"strict\",\"coloraxis\":{\"colorbar\":{\"outlinewidth\":0,\"ticks\":\"\"}},\"colorscale\":{\"diverging\":[[0,\"#8e0152\"],[0.1,\"#c51b7d\"],[0.2,\"#de77ae\"],[0.3,\"#f1b6da\"],[0.4,\"#fde0ef\"],[0.5,\"#f7f7f7\"],[0.6,\"#e6f5d0\"],[0.7,\"#b8e186\"],[0.8,\"#7fbc41\"],[0.9,\"#4d9221\"],[1,\"#276419\"]],\"sequential\":[[0.0,\"#0d0887\"],[0.1111111111111111,\"#46039f\"],[0.2222222222222222,\"#7201a8\"],[0.3333333333333333,\"#9c179e\"],[0.4444444444444444,\"#bd3786\"],[0.5555555555555556,\"#d8576b\"],[0.6666666666666666,\"#ed7953\"],[0.7777777777777778,\"#fb9f3a\"],[0.8888888888888888,\"#fdca26\"],[1.0,\"#f0f921\"]],\"sequentialminus\":[[0.0,\"#0d0887\"],[0.1111111111111111,\"#46039f\"],[0.2222222222222222,\"#7201a8\"],[0.3333333333333333,\"#9c179e\"],[0.4444444444444444,\"#bd3786\"],[0.5555555555555556,\"#d8576b\"],[0.6666666666666666,\"#ed7953\"],[0.7777777777777778,\"#fb9f3a\"],[0.8888888888888888,\"#fdca26\"],[1.0,\"#f0f921\"]]},\"colorway\":[\"#636efa\",\"#EF553B\",\"#00cc96\",\"#ab63fa\",\"#FFA15A\",\"#19d3f3\",\"#FF6692\",\"#B6E880\",\"#FF97FF\",\"#FECB52\"],\"font\":{\"color\":\"#2a3f5f\"},\"geo\":{\"bgcolor\":\"white\",\"lakecolor\":\"white\",\"landcolor\":\"#E5ECF6\",\"showlakes\":true,\"showland\":true,\"subunitcolor\":\"white\"},\"hoverlabel\":{\"align\":\"left\"},\"hovermode\":\"closest\",\"mapbox\":{\"style\":\"light\"},\"paper_bgcolor\":\"white\",\"plot_bgcolor\":\"#E5ECF6\",\"polar\":{\"angularaxis\":{\"gridcolor\":\"white\",\"linecolor\":\"white\",\"ticks\":\"\"},\"bgcolor\":\"#E5ECF6\",\"radialaxis\":{\"gridcolor\":\"white\",\"linecolor\":\"white\",\"ticks\":\"\"}},\"scene\":{\"xaxis\":{\"backgroundcolor\":\"#E5ECF6\",\"gridcolor\":\"white\",\"gridwidth\":2,\"linecolor\":\"white\",\"showbackground\":true,\"ticks\":\"\",\"zerolinecolor\":\"white\"},\"yaxis\":{\"backgroundcolor\":\"#E5ECF6\",\"gridcolor\":\"white\",\"gridwidth\":2,\"linecolor\":\"white\",\"showbackground\":true,\"ticks\":\"\",\"zerolinecolor\":\"white\"},\"zaxis\":{\"backgroundcolor\":\"#E5ECF6\",\"gridcolor\":\"white\",\"gridwidth\":2,\"linecolor\":\"white\",\"showbackground\":true,\"ticks\":\"\",\"zerolinecolor\":\"white\"}},\"shapedefaults\":{\"line\":{\"color\":\"#2a3f5f\"}},\"ternary\":{\"aaxis\":{\"gridcolor\":\"white\",\"linecolor\":\"white\",\"ticks\":\"\"},\"baxis\":{\"gridcolor\":\"white\",\"linecolor\":\"white\",\"ticks\":\"\"},\"bgcolor\":\"#E5ECF6\",\"caxis\":{\"gridcolor\":\"white\",\"linecolor\":\"white\",\"ticks\":\"\"}},\"title\":{\"x\":0.05},\"xaxis\":{\"automargin\":true,\"gridcolor\":\"white\",\"linecolor\":\"white\",\"ticks\":\"\",\"title\":{\"standoff\":15},\"zerolinecolor\":\"white\",\"zerolinewidth\":2},\"yaxis\":{\"automargin\":true,\"gridcolor\":\"white\",\"linecolor\":\"white\",\"ticks\":\"\",\"title\":{\"standoff\":15},\"zerolinecolor\":\"white\",\"zerolinewidth\":2}}},\"xaxis\":{\"anchor\":\"y\",\"domain\":[0.0,1.0],\"title\":{\"text\":\"label\"}},\"yaxis\":{\"anchor\":\"x\",\"domain\":[0.0,1.0],\"title\":{\"text\":\"count\"}},\"legend\":{\"tracegroupgap\":0},\"margin\":{\"t\":60},\"barmode\":\"relative\"},                        {\"responsive\": true}                    ).then(function(){\n",
              "                            \n",
              "var gd = document.getElementById('d0f88b47-a924-43aa-aaa9-8324e9d52341');\n",
              "var x = new MutationObserver(function (mutations, observer) {{\n",
              "        var display = window.getComputedStyle(gd).display;\n",
              "        if (!display || display === 'none') {{\n",
              "            console.log([gd, 'removed!']);\n",
              "            Plotly.purge(gd);\n",
              "            observer.disconnect();\n",
              "        }}\n",
              "}});\n",
              "\n",
              "// Listen for the removal of the full notebook cells\n",
              "var notebookContainer = gd.closest('#notebook-container');\n",
              "if (notebookContainer) {{\n",
              "    x.observe(notebookContainer, {childList: true});\n",
              "}}\n",
              "\n",
              "// Listen for the clearing of the current output cell\n",
              "var outputEl = gd.closest('.output');\n",
              "if (outputEl) {{\n",
              "    x.observe(outputEl, {childList: true});\n",
              "}}\n",
              "\n",
              "                        })                };                            </script>        </div>\n",
              "</body>\n",
              "</html>"
            ]
          },
          "metadata": {},
          "output_type": "display_data"
        }
      ],
      "source": [
        "px.bar(genres_count, x='label', y='count') # https://everynoise.com/engenremap.html"
      ]
    },
    {
      "cell_type": "markdown",
      "metadata": {
        "id": "J_9nu4lnBQgP"
      },
      "source": [
        "## Rozkład gatunków 2016-2022"
      ]
    },
    {
      "cell_type": "markdown",
      "metadata": {
        "id": "3tbfMY4OBQgR"
      },
      "source": [
        "### Spotify Global"
      ]
    },
    {
      "cell_type": "code",
      "execution_count": null,
      "metadata": {
        "id": "vVnC_AHfBQgS"
      },
      "outputs": [],
      "source": [
        "sum1 = df['genre_1'].value_counts().reset_index()\n",
        "sum2 = df['genre_2'].value_counts().reset_index()"
      ]
    },
    {
      "cell_type": "code",
      "execution_count": null,
      "metadata": {
        "id": "KD5VhApeBQgT"
      },
      "outputs": [],
      "source": [
        "sum1= sum1.merge(sum2, on='index', how='left')\n",
        "\n",
        "sum1['sum'] = sum1['genre_1'] + sum1['genre_2']"
      ]
    },
    {
      "cell_type": "code",
      "execution_count": null,
      "metadata": {
        "colab": {
          "base_uri": "https://localhost:8080/",
          "height": 542
        },
        "id": "E4aZTegMBQgV",
        "outputId": "d7568d88-f3b0-48f3-c8d7-4da4896c0763"
      },
      "outputs": [
        {
          "data": {
            "text/html": [
              "<html>\n",
              "<head><meta charset=\"utf-8\" /></head>\n",
              "<body>\n",
              "    <div>            <script src=\"https://cdnjs.cloudflare.com/ajax/libs/mathjax/2.7.5/MathJax.js?config=TeX-AMS-MML_SVG\"></script><script type=\"text/javascript\">if (window.MathJax) {MathJax.Hub.Config({SVG: {font: \"STIX-Web\"}});}</script>                <script type=\"text/javascript\">window.PlotlyConfig = {MathJaxConfig: 'local'};</script>\n",
              "        <script src=\"https://cdn.plot.ly/plotly-2.8.3.min.js\"></script>                <div id=\"51b2c19a-e646-4793-9182-cf2b0f818719\" class=\"plotly-graph-div\" style=\"height:525px; width:100%;\"></div>            <script type=\"text/javascript\">                                    window.PLOTLYENV=window.PLOTLYENV || {};                                    if (document.getElementById(\"51b2c19a-e646-4793-9182-cf2b0f818719\")) {                    Plotly.newPlot(                        \"51b2c19a-e646-4793-9182-cf2b0f818719\",                        [{\"domain\":{\"x\":[0.0,1.0],\"y\":[0.0,1.0]},\"hovertemplate\":\"index=%{label}<br>sum=%{value}<extra></extra>\",\"labels\":[\"pop\",\"rap\",\"latin\",\"edm\",\"electropop\",\"rock\",\"emo rap\",\"chicago rap\",\"trap latino\",\"dance pop\",\"colombian pop\",\"modern rock\",\"trap\",\"latin pop\",\"reggaeton\",\"hip hop\",\"melodic rap\",\"house\",\"r&b\",\"canadian pop\"],\"legendgroup\":\"\",\"name\":\"\",\"showlegend\":true,\"values\":[22988.0,10321.0,7520.0,5615.0,3991.0,1755.0,1271.0,1144.0,544.0,6177.0,502.0,1349.0,4340.0,521.0,6348.0,1408.0,1051.0,668.0,668.0,3071.0],\"type\":\"pie\"}],                        {\"template\":{\"data\":{\"bar\":[{\"error_x\":{\"color\":\"#2a3f5f\"},\"error_y\":{\"color\":\"#2a3f5f\"},\"marker\":{\"line\":{\"color\":\"#E5ECF6\",\"width\":0.5},\"pattern\":{\"fillmode\":\"overlay\",\"size\":10,\"solidity\":0.2}},\"type\":\"bar\"}],\"barpolar\":[{\"marker\":{\"line\":{\"color\":\"#E5ECF6\",\"width\":0.5},\"pattern\":{\"fillmode\":\"overlay\",\"size\":10,\"solidity\":0.2}},\"type\":\"barpolar\"}],\"carpet\":[{\"aaxis\":{\"endlinecolor\":\"#2a3f5f\",\"gridcolor\":\"white\",\"linecolor\":\"white\",\"minorgridcolor\":\"white\",\"startlinecolor\":\"#2a3f5f\"},\"baxis\":{\"endlinecolor\":\"#2a3f5f\",\"gridcolor\":\"white\",\"linecolor\":\"white\",\"minorgridcolor\":\"white\",\"startlinecolor\":\"#2a3f5f\"},\"type\":\"carpet\"}],\"choropleth\":[{\"colorbar\":{\"outlinewidth\":0,\"ticks\":\"\"},\"type\":\"choropleth\"}],\"contour\":[{\"colorbar\":{\"outlinewidth\":0,\"ticks\":\"\"},\"colorscale\":[[0.0,\"#0d0887\"],[0.1111111111111111,\"#46039f\"],[0.2222222222222222,\"#7201a8\"],[0.3333333333333333,\"#9c179e\"],[0.4444444444444444,\"#bd3786\"],[0.5555555555555556,\"#d8576b\"],[0.6666666666666666,\"#ed7953\"],[0.7777777777777778,\"#fb9f3a\"],[0.8888888888888888,\"#fdca26\"],[1.0,\"#f0f921\"]],\"type\":\"contour\"}],\"contourcarpet\":[{\"colorbar\":{\"outlinewidth\":0,\"ticks\":\"\"},\"type\":\"contourcarpet\"}],\"heatmap\":[{\"colorbar\":{\"outlinewidth\":0,\"ticks\":\"\"},\"colorscale\":[[0.0,\"#0d0887\"],[0.1111111111111111,\"#46039f\"],[0.2222222222222222,\"#7201a8\"],[0.3333333333333333,\"#9c179e\"],[0.4444444444444444,\"#bd3786\"],[0.5555555555555556,\"#d8576b\"],[0.6666666666666666,\"#ed7953\"],[0.7777777777777778,\"#fb9f3a\"],[0.8888888888888888,\"#fdca26\"],[1.0,\"#f0f921\"]],\"type\":\"heatmap\"}],\"heatmapgl\":[{\"colorbar\":{\"outlinewidth\":0,\"ticks\":\"\"},\"colorscale\":[[0.0,\"#0d0887\"],[0.1111111111111111,\"#46039f\"],[0.2222222222222222,\"#7201a8\"],[0.3333333333333333,\"#9c179e\"],[0.4444444444444444,\"#bd3786\"],[0.5555555555555556,\"#d8576b\"],[0.6666666666666666,\"#ed7953\"],[0.7777777777777778,\"#fb9f3a\"],[0.8888888888888888,\"#fdca26\"],[1.0,\"#f0f921\"]],\"type\":\"heatmapgl\"}],\"histogram\":[{\"marker\":{\"pattern\":{\"fillmode\":\"overlay\",\"size\":10,\"solidity\":0.2}},\"type\":\"histogram\"}],\"histogram2d\":[{\"colorbar\":{\"outlinewidth\":0,\"ticks\":\"\"},\"colorscale\":[[0.0,\"#0d0887\"],[0.1111111111111111,\"#46039f\"],[0.2222222222222222,\"#7201a8\"],[0.3333333333333333,\"#9c179e\"],[0.4444444444444444,\"#bd3786\"],[0.5555555555555556,\"#d8576b\"],[0.6666666666666666,\"#ed7953\"],[0.7777777777777778,\"#fb9f3a\"],[0.8888888888888888,\"#fdca26\"],[1.0,\"#f0f921\"]],\"type\":\"histogram2d\"}],\"histogram2dcontour\":[{\"colorbar\":{\"outlinewidth\":0,\"ticks\":\"\"},\"colorscale\":[[0.0,\"#0d0887\"],[0.1111111111111111,\"#46039f\"],[0.2222222222222222,\"#7201a8\"],[0.3333333333333333,\"#9c179e\"],[0.4444444444444444,\"#bd3786\"],[0.5555555555555556,\"#d8576b\"],[0.6666666666666666,\"#ed7953\"],[0.7777777777777778,\"#fb9f3a\"],[0.8888888888888888,\"#fdca26\"],[1.0,\"#f0f921\"]],\"type\":\"histogram2dcontour\"}],\"mesh3d\":[{\"colorbar\":{\"outlinewidth\":0,\"ticks\":\"\"},\"type\":\"mesh3d\"}],\"parcoords\":[{\"line\":{\"colorbar\":{\"outlinewidth\":0,\"ticks\":\"\"}},\"type\":\"parcoords\"}],\"pie\":[{\"automargin\":true,\"type\":\"pie\"}],\"scatter\":[{\"marker\":{\"colorbar\":{\"outlinewidth\":0,\"ticks\":\"\"}},\"type\":\"scatter\"}],\"scatter3d\":[{\"line\":{\"colorbar\":{\"outlinewidth\":0,\"ticks\":\"\"}},\"marker\":{\"colorbar\":{\"outlinewidth\":0,\"ticks\":\"\"}},\"type\":\"scatter3d\"}],\"scattercarpet\":[{\"marker\":{\"colorbar\":{\"outlinewidth\":0,\"ticks\":\"\"}},\"type\":\"scattercarpet\"}],\"scattergeo\":[{\"marker\":{\"colorbar\":{\"outlinewidth\":0,\"ticks\":\"\"}},\"type\":\"scattergeo\"}],\"scattergl\":[{\"marker\":{\"colorbar\":{\"outlinewidth\":0,\"ticks\":\"\"}},\"type\":\"scattergl\"}],\"scattermapbox\":[{\"marker\":{\"colorbar\":{\"outlinewidth\":0,\"ticks\":\"\"}},\"type\":\"scattermapbox\"}],\"scatterpolar\":[{\"marker\":{\"colorbar\":{\"outlinewidth\":0,\"ticks\":\"\"}},\"type\":\"scatterpolar\"}],\"scatterpolargl\":[{\"marker\":{\"colorbar\":{\"outlinewidth\":0,\"ticks\":\"\"}},\"type\":\"scatterpolargl\"}],\"scatterternary\":[{\"marker\":{\"colorbar\":{\"outlinewidth\":0,\"ticks\":\"\"}},\"type\":\"scatterternary\"}],\"surface\":[{\"colorbar\":{\"outlinewidth\":0,\"ticks\":\"\"},\"colorscale\":[[0.0,\"#0d0887\"],[0.1111111111111111,\"#46039f\"],[0.2222222222222222,\"#7201a8\"],[0.3333333333333333,\"#9c179e\"],[0.4444444444444444,\"#bd3786\"],[0.5555555555555556,\"#d8576b\"],[0.6666666666666666,\"#ed7953\"],[0.7777777777777778,\"#fb9f3a\"],[0.8888888888888888,\"#fdca26\"],[1.0,\"#f0f921\"]],\"type\":\"surface\"}],\"table\":[{\"cells\":{\"fill\":{\"color\":\"#EBF0F8\"},\"line\":{\"color\":\"white\"}},\"header\":{\"fill\":{\"color\":\"#C8D4E3\"},\"line\":{\"color\":\"white\"}},\"type\":\"table\"}]},\"layout\":{\"annotationdefaults\":{\"arrowcolor\":\"#2a3f5f\",\"arrowhead\":0,\"arrowwidth\":1},\"autotypenumbers\":\"strict\",\"coloraxis\":{\"colorbar\":{\"outlinewidth\":0,\"ticks\":\"\"}},\"colorscale\":{\"diverging\":[[0,\"#8e0152\"],[0.1,\"#c51b7d\"],[0.2,\"#de77ae\"],[0.3,\"#f1b6da\"],[0.4,\"#fde0ef\"],[0.5,\"#f7f7f7\"],[0.6,\"#e6f5d0\"],[0.7,\"#b8e186\"],[0.8,\"#7fbc41\"],[0.9,\"#4d9221\"],[1,\"#276419\"]],\"sequential\":[[0.0,\"#0d0887\"],[0.1111111111111111,\"#46039f\"],[0.2222222222222222,\"#7201a8\"],[0.3333333333333333,\"#9c179e\"],[0.4444444444444444,\"#bd3786\"],[0.5555555555555556,\"#d8576b\"],[0.6666666666666666,\"#ed7953\"],[0.7777777777777778,\"#fb9f3a\"],[0.8888888888888888,\"#fdca26\"],[1.0,\"#f0f921\"]],\"sequentialminus\":[[0.0,\"#0d0887\"],[0.1111111111111111,\"#46039f\"],[0.2222222222222222,\"#7201a8\"],[0.3333333333333333,\"#9c179e\"],[0.4444444444444444,\"#bd3786\"],[0.5555555555555556,\"#d8576b\"],[0.6666666666666666,\"#ed7953\"],[0.7777777777777778,\"#fb9f3a\"],[0.8888888888888888,\"#fdca26\"],[1.0,\"#f0f921\"]]},\"colorway\":[\"#636efa\",\"#EF553B\",\"#00cc96\",\"#ab63fa\",\"#FFA15A\",\"#19d3f3\",\"#FF6692\",\"#B6E880\",\"#FF97FF\",\"#FECB52\"],\"font\":{\"color\":\"#2a3f5f\"},\"geo\":{\"bgcolor\":\"white\",\"lakecolor\":\"white\",\"landcolor\":\"#E5ECF6\",\"showlakes\":true,\"showland\":true,\"subunitcolor\":\"white\"},\"hoverlabel\":{\"align\":\"left\"},\"hovermode\":\"closest\",\"mapbox\":{\"style\":\"light\"},\"paper_bgcolor\":\"white\",\"plot_bgcolor\":\"#E5ECF6\",\"polar\":{\"angularaxis\":{\"gridcolor\":\"white\",\"linecolor\":\"white\",\"ticks\":\"\"},\"bgcolor\":\"#E5ECF6\",\"radialaxis\":{\"gridcolor\":\"white\",\"linecolor\":\"white\",\"ticks\":\"\"}},\"scene\":{\"xaxis\":{\"backgroundcolor\":\"#E5ECF6\",\"gridcolor\":\"white\",\"gridwidth\":2,\"linecolor\":\"white\",\"showbackground\":true,\"ticks\":\"\",\"zerolinecolor\":\"white\"},\"yaxis\":{\"backgroundcolor\":\"#E5ECF6\",\"gridcolor\":\"white\",\"gridwidth\":2,\"linecolor\":\"white\",\"showbackground\":true,\"ticks\":\"\",\"zerolinecolor\":\"white\"},\"zaxis\":{\"backgroundcolor\":\"#E5ECF6\",\"gridcolor\":\"white\",\"gridwidth\":2,\"linecolor\":\"white\",\"showbackground\":true,\"ticks\":\"\",\"zerolinecolor\":\"white\"}},\"shapedefaults\":{\"line\":{\"color\":\"#2a3f5f\"}},\"ternary\":{\"aaxis\":{\"gridcolor\":\"white\",\"linecolor\":\"white\",\"ticks\":\"\"},\"baxis\":{\"gridcolor\":\"white\",\"linecolor\":\"white\",\"ticks\":\"\"},\"bgcolor\":\"#E5ECF6\",\"caxis\":{\"gridcolor\":\"white\",\"linecolor\":\"white\",\"ticks\":\"\"}},\"title\":{\"x\":0.05},\"xaxis\":{\"automargin\":true,\"gridcolor\":\"white\",\"linecolor\":\"white\",\"ticks\":\"\",\"title\":{\"standoff\":15},\"zerolinecolor\":\"white\",\"zerolinewidth\":2},\"yaxis\":{\"automargin\":true,\"gridcolor\":\"white\",\"linecolor\":\"white\",\"ticks\":\"\",\"title\":{\"standoff\":15},\"zerolinecolor\":\"white\",\"zerolinewidth\":2}}},\"legend\":{\"tracegroupgap\":0},\"margin\":{\"t\":60}},                        {\"responsive\": true}                    ).then(function(){\n",
              "                            \n",
              "var gd = document.getElementById('51b2c19a-e646-4793-9182-cf2b0f818719');\n",
              "var x = new MutationObserver(function (mutations, observer) {{\n",
              "        var display = window.getComputedStyle(gd).display;\n",
              "        if (!display || display === 'none') {{\n",
              "            console.log([gd, 'removed!']);\n",
              "            Plotly.purge(gd);\n",
              "            observer.disconnect();\n",
              "        }}\n",
              "}});\n",
              "\n",
              "// Listen for the removal of the full notebook cells\n",
              "var notebookContainer = gd.closest('#notebook-container');\n",
              "if (notebookContainer) {{\n",
              "    x.observe(notebookContainer, {childList: true});\n",
              "}}\n",
              "\n",
              "// Listen for the clearing of the current output cell\n",
              "var outputEl = gd.closest('.output');\n",
              "if (outputEl) {{\n",
              "    x.observe(outputEl, {childList: true});\n",
              "}}\n",
              "\n",
              "                        })                };                            </script>        </div>\n",
              "</body>\n",
              "</html>"
            ]
          },
          "metadata": {},
          "output_type": "display_data"
        }
      ],
      "source": [
        "px.pie(sum1[sum1['sum'] > 500], values='sum', names='index')"
      ]
    },
    {
      "cell_type": "markdown",
      "metadata": {
        "id": "WIsZSRfABQgW"
      },
      "source": [
        "### Spotify Polska"
      ]
    },
    {
      "cell_type": "code",
      "execution_count": null,
      "metadata": {
        "id": "Pe65Az_tBQgX"
      },
      "outputs": [],
      "source": [
        "sum1 = df_pl['genre_1'].value_counts().reset_index()\n",
        "sum2 = df_pl['genre_2'].value_counts().reset_index()"
      ]
    },
    {
      "cell_type": "code",
      "execution_count": null,
      "metadata": {
        "id": "R74l2ZP5BQgY"
      },
      "outputs": [],
      "source": [
        "sum1= sum1.merge(sum2, on='index', how='left')\n",
        "\n",
        "sum1['sum'] = sum1['genre_1'] + sum1['genre_2']"
      ]
    },
    {
      "cell_type": "code",
      "execution_count": null,
      "metadata": {
        "colab": {
          "base_uri": "https://localhost:8080/",
          "height": 542
        },
        "id": "sbRTiJkyBQgZ",
        "outputId": "56fcead0-a4c9-4cc2-d0d9-335b19261684"
      },
      "outputs": [
        {
          "data": {
            "text/html": [
              "<html>\n",
              "<head><meta charset=\"utf-8\" /></head>\n",
              "<body>\n",
              "    <div>            <script src=\"https://cdnjs.cloudflare.com/ajax/libs/mathjax/2.7.5/MathJax.js?config=TeX-AMS-MML_SVG\"></script><script type=\"text/javascript\">if (window.MathJax) {MathJax.Hub.Config({SVG: {font: \"STIX-Web\"}});}</script>                <script type=\"text/javascript\">window.PlotlyConfig = {MathJaxConfig: 'local'};</script>\n",
              "        <script src=\"https://cdn.plot.ly/plotly-2.8.3.min.js\"></script>                <div id=\"f8edc0fd-09eb-4eee-86e7-868704524809\" class=\"plotly-graph-div\" style=\"height:525px; width:100%;\"></div>            <script type=\"text/javascript\">                                    window.PLOTLYENV=window.PLOTLYENV || {};                                    if (document.getElementById(\"f8edc0fd-09eb-4eee-86e7-868704524809\")) {                    Plotly.newPlot(                        \"f8edc0fd-09eb-4eee-86e7-868704524809\",                        [{\"domain\":{\"x\":[0.0,1.0],\"y\":[0.0,1.0]},\"hovertemplate\":\"index=%{label}<br>sum=%{value}<extra></extra>\",\"labels\":[\"polish hip hop\",\"dance pop\",\"polish alternative rap\",\"polish pop\",\"pop\",\"polish alternative\",\"art pop\",\"modern rock\",\"edm\",\"canadian pop\",\"canadian contemporary r&b\",\"hip hop\",\"electro house\",\"melodic rap\",\"brostep\",\"electropop\",\"rap\",\"polish trap\"],\"legendgroup\":\"\",\"name\":\"\",\"showlegend\":true,\"values\":[23470.0,11000.0,3271.0,4926.0,7969.0,1509.0,1032.0,1425.0,4731.0,1521.0,535.0,1033.0,517.0,896.0,533.0,1372.0,733.0,14676.0],\"type\":\"pie\"}],                        {\"template\":{\"data\":{\"bar\":[{\"error_x\":{\"color\":\"#2a3f5f\"},\"error_y\":{\"color\":\"#2a3f5f\"},\"marker\":{\"line\":{\"color\":\"#E5ECF6\",\"width\":0.5},\"pattern\":{\"fillmode\":\"overlay\",\"size\":10,\"solidity\":0.2}},\"type\":\"bar\"}],\"barpolar\":[{\"marker\":{\"line\":{\"color\":\"#E5ECF6\",\"width\":0.5},\"pattern\":{\"fillmode\":\"overlay\",\"size\":10,\"solidity\":0.2}},\"type\":\"barpolar\"}],\"carpet\":[{\"aaxis\":{\"endlinecolor\":\"#2a3f5f\",\"gridcolor\":\"white\",\"linecolor\":\"white\",\"minorgridcolor\":\"white\",\"startlinecolor\":\"#2a3f5f\"},\"baxis\":{\"endlinecolor\":\"#2a3f5f\",\"gridcolor\":\"white\",\"linecolor\":\"white\",\"minorgridcolor\":\"white\",\"startlinecolor\":\"#2a3f5f\"},\"type\":\"carpet\"}],\"choropleth\":[{\"colorbar\":{\"outlinewidth\":0,\"ticks\":\"\"},\"type\":\"choropleth\"}],\"contour\":[{\"colorbar\":{\"outlinewidth\":0,\"ticks\":\"\"},\"colorscale\":[[0.0,\"#0d0887\"],[0.1111111111111111,\"#46039f\"],[0.2222222222222222,\"#7201a8\"],[0.3333333333333333,\"#9c179e\"],[0.4444444444444444,\"#bd3786\"],[0.5555555555555556,\"#d8576b\"],[0.6666666666666666,\"#ed7953\"],[0.7777777777777778,\"#fb9f3a\"],[0.8888888888888888,\"#fdca26\"],[1.0,\"#f0f921\"]],\"type\":\"contour\"}],\"contourcarpet\":[{\"colorbar\":{\"outlinewidth\":0,\"ticks\":\"\"},\"type\":\"contourcarpet\"}],\"heatmap\":[{\"colorbar\":{\"outlinewidth\":0,\"ticks\":\"\"},\"colorscale\":[[0.0,\"#0d0887\"],[0.1111111111111111,\"#46039f\"],[0.2222222222222222,\"#7201a8\"],[0.3333333333333333,\"#9c179e\"],[0.4444444444444444,\"#bd3786\"],[0.5555555555555556,\"#d8576b\"],[0.6666666666666666,\"#ed7953\"],[0.7777777777777778,\"#fb9f3a\"],[0.8888888888888888,\"#fdca26\"],[1.0,\"#f0f921\"]],\"type\":\"heatmap\"}],\"heatmapgl\":[{\"colorbar\":{\"outlinewidth\":0,\"ticks\":\"\"},\"colorscale\":[[0.0,\"#0d0887\"],[0.1111111111111111,\"#46039f\"],[0.2222222222222222,\"#7201a8\"],[0.3333333333333333,\"#9c179e\"],[0.4444444444444444,\"#bd3786\"],[0.5555555555555556,\"#d8576b\"],[0.6666666666666666,\"#ed7953\"],[0.7777777777777778,\"#fb9f3a\"],[0.8888888888888888,\"#fdca26\"],[1.0,\"#f0f921\"]],\"type\":\"heatmapgl\"}],\"histogram\":[{\"marker\":{\"pattern\":{\"fillmode\":\"overlay\",\"size\":10,\"solidity\":0.2}},\"type\":\"histogram\"}],\"histogram2d\":[{\"colorbar\":{\"outlinewidth\":0,\"ticks\":\"\"},\"colorscale\":[[0.0,\"#0d0887\"],[0.1111111111111111,\"#46039f\"],[0.2222222222222222,\"#7201a8\"],[0.3333333333333333,\"#9c179e\"],[0.4444444444444444,\"#bd3786\"],[0.5555555555555556,\"#d8576b\"],[0.6666666666666666,\"#ed7953\"],[0.7777777777777778,\"#fb9f3a\"],[0.8888888888888888,\"#fdca26\"],[1.0,\"#f0f921\"]],\"type\":\"histogram2d\"}],\"histogram2dcontour\":[{\"colorbar\":{\"outlinewidth\":0,\"ticks\":\"\"},\"colorscale\":[[0.0,\"#0d0887\"],[0.1111111111111111,\"#46039f\"],[0.2222222222222222,\"#7201a8\"],[0.3333333333333333,\"#9c179e\"],[0.4444444444444444,\"#bd3786\"],[0.5555555555555556,\"#d8576b\"],[0.6666666666666666,\"#ed7953\"],[0.7777777777777778,\"#fb9f3a\"],[0.8888888888888888,\"#fdca26\"],[1.0,\"#f0f921\"]],\"type\":\"histogram2dcontour\"}],\"mesh3d\":[{\"colorbar\":{\"outlinewidth\":0,\"ticks\":\"\"},\"type\":\"mesh3d\"}],\"parcoords\":[{\"line\":{\"colorbar\":{\"outlinewidth\":0,\"ticks\":\"\"}},\"type\":\"parcoords\"}],\"pie\":[{\"automargin\":true,\"type\":\"pie\"}],\"scatter\":[{\"marker\":{\"colorbar\":{\"outlinewidth\":0,\"ticks\":\"\"}},\"type\":\"scatter\"}],\"scatter3d\":[{\"line\":{\"colorbar\":{\"outlinewidth\":0,\"ticks\":\"\"}},\"marker\":{\"colorbar\":{\"outlinewidth\":0,\"ticks\":\"\"}},\"type\":\"scatter3d\"}],\"scattercarpet\":[{\"marker\":{\"colorbar\":{\"outlinewidth\":0,\"ticks\":\"\"}},\"type\":\"scattercarpet\"}],\"scattergeo\":[{\"marker\":{\"colorbar\":{\"outlinewidth\":0,\"ticks\":\"\"}},\"type\":\"scattergeo\"}],\"scattergl\":[{\"marker\":{\"colorbar\":{\"outlinewidth\":0,\"ticks\":\"\"}},\"type\":\"scattergl\"}],\"scattermapbox\":[{\"marker\":{\"colorbar\":{\"outlinewidth\":0,\"ticks\":\"\"}},\"type\":\"scattermapbox\"}],\"scatterpolar\":[{\"marker\":{\"colorbar\":{\"outlinewidth\":0,\"ticks\":\"\"}},\"type\":\"scatterpolar\"}],\"scatterpolargl\":[{\"marker\":{\"colorbar\":{\"outlinewidth\":0,\"ticks\":\"\"}},\"type\":\"scatterpolargl\"}],\"scatterternary\":[{\"marker\":{\"colorbar\":{\"outlinewidth\":0,\"ticks\":\"\"}},\"type\":\"scatterternary\"}],\"surface\":[{\"colorbar\":{\"outlinewidth\":0,\"ticks\":\"\"},\"colorscale\":[[0.0,\"#0d0887\"],[0.1111111111111111,\"#46039f\"],[0.2222222222222222,\"#7201a8\"],[0.3333333333333333,\"#9c179e\"],[0.4444444444444444,\"#bd3786\"],[0.5555555555555556,\"#d8576b\"],[0.6666666666666666,\"#ed7953\"],[0.7777777777777778,\"#fb9f3a\"],[0.8888888888888888,\"#fdca26\"],[1.0,\"#f0f921\"]],\"type\":\"surface\"}],\"table\":[{\"cells\":{\"fill\":{\"color\":\"#EBF0F8\"},\"line\":{\"color\":\"white\"}},\"header\":{\"fill\":{\"color\":\"#C8D4E3\"},\"line\":{\"color\":\"white\"}},\"type\":\"table\"}]},\"layout\":{\"annotationdefaults\":{\"arrowcolor\":\"#2a3f5f\",\"arrowhead\":0,\"arrowwidth\":1},\"autotypenumbers\":\"strict\",\"coloraxis\":{\"colorbar\":{\"outlinewidth\":0,\"ticks\":\"\"}},\"colorscale\":{\"diverging\":[[0,\"#8e0152\"],[0.1,\"#c51b7d\"],[0.2,\"#de77ae\"],[0.3,\"#f1b6da\"],[0.4,\"#fde0ef\"],[0.5,\"#f7f7f7\"],[0.6,\"#e6f5d0\"],[0.7,\"#b8e186\"],[0.8,\"#7fbc41\"],[0.9,\"#4d9221\"],[1,\"#276419\"]],\"sequential\":[[0.0,\"#0d0887\"],[0.1111111111111111,\"#46039f\"],[0.2222222222222222,\"#7201a8\"],[0.3333333333333333,\"#9c179e\"],[0.4444444444444444,\"#bd3786\"],[0.5555555555555556,\"#d8576b\"],[0.6666666666666666,\"#ed7953\"],[0.7777777777777778,\"#fb9f3a\"],[0.8888888888888888,\"#fdca26\"],[1.0,\"#f0f921\"]],\"sequentialminus\":[[0.0,\"#0d0887\"],[0.1111111111111111,\"#46039f\"],[0.2222222222222222,\"#7201a8\"],[0.3333333333333333,\"#9c179e\"],[0.4444444444444444,\"#bd3786\"],[0.5555555555555556,\"#d8576b\"],[0.6666666666666666,\"#ed7953\"],[0.7777777777777778,\"#fb9f3a\"],[0.8888888888888888,\"#fdca26\"],[1.0,\"#f0f921\"]]},\"colorway\":[\"#636efa\",\"#EF553B\",\"#00cc96\",\"#ab63fa\",\"#FFA15A\",\"#19d3f3\",\"#FF6692\",\"#B6E880\",\"#FF97FF\",\"#FECB52\"],\"font\":{\"color\":\"#2a3f5f\"},\"geo\":{\"bgcolor\":\"white\",\"lakecolor\":\"white\",\"landcolor\":\"#E5ECF6\",\"showlakes\":true,\"showland\":true,\"subunitcolor\":\"white\"},\"hoverlabel\":{\"align\":\"left\"},\"hovermode\":\"closest\",\"mapbox\":{\"style\":\"light\"},\"paper_bgcolor\":\"white\",\"plot_bgcolor\":\"#E5ECF6\",\"polar\":{\"angularaxis\":{\"gridcolor\":\"white\",\"linecolor\":\"white\",\"ticks\":\"\"},\"bgcolor\":\"#E5ECF6\",\"radialaxis\":{\"gridcolor\":\"white\",\"linecolor\":\"white\",\"ticks\":\"\"}},\"scene\":{\"xaxis\":{\"backgroundcolor\":\"#E5ECF6\",\"gridcolor\":\"white\",\"gridwidth\":2,\"linecolor\":\"white\",\"showbackground\":true,\"ticks\":\"\",\"zerolinecolor\":\"white\"},\"yaxis\":{\"backgroundcolor\":\"#E5ECF6\",\"gridcolor\":\"white\",\"gridwidth\":2,\"linecolor\":\"white\",\"showbackground\":true,\"ticks\":\"\",\"zerolinecolor\":\"white\"},\"zaxis\":{\"backgroundcolor\":\"#E5ECF6\",\"gridcolor\":\"white\",\"gridwidth\":2,\"linecolor\":\"white\",\"showbackground\":true,\"ticks\":\"\",\"zerolinecolor\":\"white\"}},\"shapedefaults\":{\"line\":{\"color\":\"#2a3f5f\"}},\"ternary\":{\"aaxis\":{\"gridcolor\":\"white\",\"linecolor\":\"white\",\"ticks\":\"\"},\"baxis\":{\"gridcolor\":\"white\",\"linecolor\":\"white\",\"ticks\":\"\"},\"bgcolor\":\"#E5ECF6\",\"caxis\":{\"gridcolor\":\"white\",\"linecolor\":\"white\",\"ticks\":\"\"}},\"title\":{\"x\":0.05},\"xaxis\":{\"automargin\":true,\"gridcolor\":\"white\",\"linecolor\":\"white\",\"ticks\":\"\",\"title\":{\"standoff\":15},\"zerolinecolor\":\"white\",\"zerolinewidth\":2},\"yaxis\":{\"automargin\":true,\"gridcolor\":\"white\",\"linecolor\":\"white\",\"ticks\":\"\",\"title\":{\"standoff\":15},\"zerolinecolor\":\"white\",\"zerolinewidth\":2}}},\"legend\":{\"tracegroupgap\":0},\"margin\":{\"t\":60}},                        {\"responsive\": true}                    ).then(function(){\n",
              "                            \n",
              "var gd = document.getElementById('f8edc0fd-09eb-4eee-86e7-868704524809');\n",
              "var x = new MutationObserver(function (mutations, observer) {{\n",
              "        var display = window.getComputedStyle(gd).display;\n",
              "        if (!display || display === 'none') {{\n",
              "            console.log([gd, 'removed!']);\n",
              "            Plotly.purge(gd);\n",
              "            observer.disconnect();\n",
              "        }}\n",
              "}});\n",
              "\n",
              "// Listen for the removal of the full notebook cells\n",
              "var notebookContainer = gd.closest('#notebook-container');\n",
              "if (notebookContainer) {{\n",
              "    x.observe(notebookContainer, {childList: true});\n",
              "}}\n",
              "\n",
              "// Listen for the clearing of the current output cell\n",
              "var outputEl = gd.closest('.output');\n",
              "if (outputEl) {{\n",
              "    x.observe(outputEl, {childList: true});\n",
              "}}\n",
              "\n",
              "                        })                };                            </script>        </div>\n",
              "</body>\n",
              "</html>"
            ]
          },
          "metadata": {},
          "output_type": "display_data"
        }
      ],
      "source": [
        "px.pie(sum1[sum1['sum'] > 500], values='sum', names='index')"
      ]
    },
    {
      "cell_type": "markdown",
      "metadata": {
        "id": "JuO8nVJaBQgZ"
      },
      "source": [
        "## Rozkład top 10 gatunków w czasie"
      ]
    },
    {
      "cell_type": "markdown",
      "metadata": {
        "id": "_hs17DT8BQga"
      },
      "source": [
        "### Spotify Global"
      ]
    },
    {
      "cell_type": "code",
      "execution_count": null,
      "metadata": {
        "id": "Tfx_d0YnBQgb"
      },
      "outputs": [],
      "source": [
        "import funcs\n",
        "\n",
        "df = funcs.df_week_timestamp_to_monthly_period(df)"
      ]
    },
    {
      "cell_type": "code",
      "execution_count": null,
      "metadata": {
        "id": "4FwmD3sBBQgc",
        "tags": []
      },
      "outputs": [],
      "source": [
        "data = df.groupby('week_timestamp')['genre_1'].apply(lambda x: x.value_counts().head(10)).reset_index(name='Count')\n",
        "labels = data.week_timestamp.unique()\n",
        "\n",
        "labels = map(lambda x: x.strftime('%Y-%m'), labels)\n",
        "labels = list(labels)"
      ]
    },
    {
      "cell_type": "code",
      "execution_count": null,
      "metadata": {
        "colab": {
          "base_uri": "https://localhost:8080/",
          "height": 672
        },
        "id": "JQ-AXlRGIIY1",
        "outputId": "47dcc94e-9ed5-43eb-e2b4-33d8310c5214",
        "tags": []
      },
      "outputs": [
        {
          "data": {
            "application/javascript": "(async (port, path, width, height, cache, element) => {\n    if (!google.colab.kernel.accessAllowed && !cache) {\n      return;\n    }\n    element.appendChild(document.createTextNode(''));\n    const url = await google.colab.kernel.proxyPort(port, {cache});\n    const iframe = document.createElement('iframe');\n    iframe.src = new URL(path, url).toString();\n    iframe.height = height;\n    iframe.width = width;\n    iframe.style.border = 0;\n    element.appendChild(iframe);\n  })(8051, \"/\", \"100%\", 650, false, window.element)",
            "text/plain": [
              "<IPython.core.display.Javascript object>"
            ]
          },
          "metadata": {},
          "output_type": "display_data"
        }
      ],
      "source": [
        "funcs.generate_pie_chart(data, labels)"
      ]
    },
    {
      "cell_type": "markdown",
      "metadata": {
        "id": "orVCwlJyBCg5"
      },
      "source": [
        "### Spotify Polska"
      ]
    },
    {
      "cell_type": "code",
      "execution_count": null,
      "metadata": {
        "id": "37k__Z0zBQgf",
        "tags": []
      },
      "outputs": [],
      "source": [
        "df_pl = funcs.df_week_timestamp_to_monthly_period(df_pl)"
      ]
    },
    {
      "cell_type": "code",
      "execution_count": null,
      "metadata": {
        "colab": {
          "base_uri": "https://localhost:8080/",
          "height": 672
        },
        "id": "RTCWOfHSBQgf",
        "outputId": "355339ae-2557-4de2-a7ac-233325b5af36"
      },
      "outputs": [
        {
          "data": {
            "application/javascript": "(async (port, path, width, height, cache, element) => {\n    if (!google.colab.kernel.accessAllowed && !cache) {\n      return;\n    }\n    element.appendChild(document.createTextNode(''));\n    const url = await google.colab.kernel.proxyPort(port, {cache});\n    const iframe = document.createElement('iframe');\n    iframe.src = new URL(path, url).toString();\n    iframe.height = height;\n    iframe.width = width;\n    iframe.style.border = 0;\n    element.appendChild(iframe);\n  })(8051, \"/\", \"100%\", 650, false, window.element)",
            "text/plain": [
              "<IPython.core.display.Javascript object>"
            ]
          },
          "metadata": {},
          "output_type": "display_data"
        }
      ],
      "source": [
        "data_pl = df_pl.groupby('week_timestamp')['genre_1'].apply(lambda x: x.value_counts().head(10)).reset_index(name='Count')\n",
        "labels_pl = data_pl.week_timestamp.unique()\n",
        "\n",
        "labels_pl = map(lambda x: x.strftime('%Y-%m'), labels_pl)\n",
        "labels_pl = list(labels_pl)\n",
        "\n",
        "funcs.generate_pie_chart(data_pl, labels_pl)"
      ]
    },
    {
      "cell_type": "markdown",
      "metadata": {
        "id": "IP0mSgIwBQgg"
      },
      "source": [
        "## Liczba unikalnych gatunków w czasie"
      ]
    },
    {
      "cell_type": "code",
      "execution_count": null,
      "metadata": {
        "colab": {
          "base_uri": "https://localhost:8080/",
          "height": 542
        },
        "id": "UblXA2_lFm3y",
        "outputId": "03abdbc8-2f08-4531-9a92-cc35070b896d",
        "tags": []
      },
      "outputs": [
        {
          "data": {
            "text/html": [
              "<html>\n",
              "<head><meta charset=\"utf-8\" /></head>\n",
              "<body>\n",
              "    <div>            <script src=\"https://cdnjs.cloudflare.com/ajax/libs/mathjax/2.7.5/MathJax.js?config=TeX-AMS-MML_SVG\"></script><script type=\"text/javascript\">if (window.MathJax) {MathJax.Hub.Config({SVG: {font: \"STIX-Web\"}});}</script>                <script type=\"text/javascript\">window.PlotlyConfig = {MathJaxConfig: 'local'};</script>\n",
              "        <script src=\"https://cdn.plot.ly/plotly-2.8.3.min.js\"></script>                <div id=\"e2830773-27a1-4638-802c-c44deefaa960\" class=\"plotly-graph-div\" style=\"height:525px; width:100%;\"></div>            <script type=\"text/javascript\">                                    window.PLOTLYENV=window.PLOTLYENV || {};                                    if (document.getElementById(\"e2830773-27a1-4638-802c-c44deefaa960\")) {                    Plotly.newPlot(                        \"e2830773-27a1-4638-802c-c44deefaa960\",                        [{\"hovertemplate\":\"label=Spotify Global<br>week_timestamp=%{x}<br>genre_1=%{y}<extra></extra>\",\"legendgroup\":\"Spotify Global\",\"line\":{\"color\":\"#636efa\",\"dash\":\"solid\"},\"marker\":{\"symbol\":\"circle\"},\"mode\":\"lines\",\"name\":\"Spotify Global\",\"orientation\":\"v\",\"showlegend\":true,\"x\":[\"2016-12\",\"2017-01\",\"2017-02\",\"2017-03\",\"2017-04\",\"2017-05\",\"2017-06\",\"2017-07\",\"2017-08\",\"2017-09\",\"2017-10\",\"2017-11\",\"2017-12\",\"2018-01\",\"2018-02\",\"2018-03\",\"2018-04\",\"2018-05\",\"2018-06\",\"2018-07\",\"2018-08\",\"2018-09\",\"2018-10\",\"2018-11\",\"2018-12\",\"2019-01\",\"2019-02\",\"2019-03\",\"2019-04\",\"2019-05\",\"2019-06\",\"2019-07\",\"2019-08\",\"2019-09\",\"2019-10\",\"2019-11\",\"2019-12\",\"2020-01\",\"2020-02\",\"2020-03\",\"2020-04\",\"2020-05\",\"2020-06\",\"2020-07\",\"2020-08\",\"2020-09\",\"2020-10\",\"2020-11\",\"2020-12\",\"2021-01\",\"2021-02\",\"2021-03\",\"2021-04\",\"2021-05\",\"2021-06\",\"2021-07\",\"2021-08\",\"2021-09\",\"2021-10\",\"2021-11\",\"2021-12\",\"2022-01\",\"2022-02\",\"2022-03\",\"2022-04\",\"2022-05\"],\"xaxis\":\"x\",\"y\":[138,131,131,130,108,112,115,117,118,115,119,134,149,125,123,121,128,135,132,124,132,137,110,143,154,132,134,129,132,130,129,130,123,121,133,138,163,123,118,119,120,108,124,138,126,146,151,162,169,130,147,145,138,153,152,159,158,174,177,172,189,161,175,181,168,159],\"yaxis\":\"y\",\"type\":\"scatter\"},{\"hovertemplate\":\"label=Spotify Polska<br>week_timestamp=%{x}<br>genre_1=%{y}<extra></extra>\",\"legendgroup\":\"Spotify Polska\",\"line\":{\"color\":\"#EF553B\",\"dash\":\"solid\"},\"marker\":{\"symbol\":\"circle\"},\"mode\":\"lines\",\"name\":\"Spotify Polska\",\"orientation\":\"v\",\"showlegend\":true,\"x\":[\"2016-12\",\"2017-01\",\"2017-02\",\"2017-03\",\"2017-04\",\"2017-05\",\"2017-06\",\"2017-07\",\"2017-08\",\"2017-09\",\"2017-10\",\"2017-11\",\"2017-12\",\"2018-01\",\"2018-02\",\"2018-03\",\"2018-04\",\"2018-05\",\"2018-06\",\"2018-07\",\"2018-08\",\"2018-09\",\"2018-10\",\"2018-11\",\"2018-12\",\"2019-01\",\"2019-02\",\"2019-03\",\"2019-04\",\"2019-05\",\"2019-06\",\"2019-07\",\"2019-08\",\"2019-09\",\"2019-10\",\"2019-11\",\"2019-12\",\"2020-01\",\"2020-02\",\"2020-03\",\"2020-04\",\"2020-05\",\"2020-06\",\"2020-07\",\"2020-08\",\"2020-09\",\"2020-10\",\"2020-11\",\"2020-12\",\"2021-01\",\"2021-02\",\"2021-03\",\"2021-04\",\"2021-05\",\"2021-06\",\"2021-07\",\"2021-08\",\"2021-09\",\"2021-10\",\"2021-11\",\"2021-12\",\"2022-01\",\"2022-02\",\"2022-03\",\"2022-04\",\"2022-05\"],\"xaxis\":\"x\",\"y\":[149,153,135,142,129,149,121,126,124,116,118,141,162,145,117,118,121,123,119,110,98,96,111,122,145,108,101,90,99,109,94,80,78,77,70,79,121,71,56,66,75,78,80,77,70,60,63,80,119,70,78,85,72,78,74,72,71,82,76,87,117,69,63,70,57,67],\"yaxis\":\"y\",\"type\":\"scatter\"}],                        {\"template\":{\"data\":{\"bar\":[{\"error_x\":{\"color\":\"#2a3f5f\"},\"error_y\":{\"color\":\"#2a3f5f\"},\"marker\":{\"line\":{\"color\":\"#E5ECF6\",\"width\":0.5},\"pattern\":{\"fillmode\":\"overlay\",\"size\":10,\"solidity\":0.2}},\"type\":\"bar\"}],\"barpolar\":[{\"marker\":{\"line\":{\"color\":\"#E5ECF6\",\"width\":0.5},\"pattern\":{\"fillmode\":\"overlay\",\"size\":10,\"solidity\":0.2}},\"type\":\"barpolar\"}],\"carpet\":[{\"aaxis\":{\"endlinecolor\":\"#2a3f5f\",\"gridcolor\":\"white\",\"linecolor\":\"white\",\"minorgridcolor\":\"white\",\"startlinecolor\":\"#2a3f5f\"},\"baxis\":{\"endlinecolor\":\"#2a3f5f\",\"gridcolor\":\"white\",\"linecolor\":\"white\",\"minorgridcolor\":\"white\",\"startlinecolor\":\"#2a3f5f\"},\"type\":\"carpet\"}],\"choropleth\":[{\"colorbar\":{\"outlinewidth\":0,\"ticks\":\"\"},\"type\":\"choropleth\"}],\"contour\":[{\"colorbar\":{\"outlinewidth\":0,\"ticks\":\"\"},\"colorscale\":[[0.0,\"#0d0887\"],[0.1111111111111111,\"#46039f\"],[0.2222222222222222,\"#7201a8\"],[0.3333333333333333,\"#9c179e\"],[0.4444444444444444,\"#bd3786\"],[0.5555555555555556,\"#d8576b\"],[0.6666666666666666,\"#ed7953\"],[0.7777777777777778,\"#fb9f3a\"],[0.8888888888888888,\"#fdca26\"],[1.0,\"#f0f921\"]],\"type\":\"contour\"}],\"contourcarpet\":[{\"colorbar\":{\"outlinewidth\":0,\"ticks\":\"\"},\"type\":\"contourcarpet\"}],\"heatmap\":[{\"colorbar\":{\"outlinewidth\":0,\"ticks\":\"\"},\"colorscale\":[[0.0,\"#0d0887\"],[0.1111111111111111,\"#46039f\"],[0.2222222222222222,\"#7201a8\"],[0.3333333333333333,\"#9c179e\"],[0.4444444444444444,\"#bd3786\"],[0.5555555555555556,\"#d8576b\"],[0.6666666666666666,\"#ed7953\"],[0.7777777777777778,\"#fb9f3a\"],[0.8888888888888888,\"#fdca26\"],[1.0,\"#f0f921\"]],\"type\":\"heatmap\"}],\"heatmapgl\":[{\"colorbar\":{\"outlinewidth\":0,\"ticks\":\"\"},\"colorscale\":[[0.0,\"#0d0887\"],[0.1111111111111111,\"#46039f\"],[0.2222222222222222,\"#7201a8\"],[0.3333333333333333,\"#9c179e\"],[0.4444444444444444,\"#bd3786\"],[0.5555555555555556,\"#d8576b\"],[0.6666666666666666,\"#ed7953\"],[0.7777777777777778,\"#fb9f3a\"],[0.8888888888888888,\"#fdca26\"],[1.0,\"#f0f921\"]],\"type\":\"heatmapgl\"}],\"histogram\":[{\"marker\":{\"pattern\":{\"fillmode\":\"overlay\",\"size\":10,\"solidity\":0.2}},\"type\":\"histogram\"}],\"histogram2d\":[{\"colorbar\":{\"outlinewidth\":0,\"ticks\":\"\"},\"colorscale\":[[0.0,\"#0d0887\"],[0.1111111111111111,\"#46039f\"],[0.2222222222222222,\"#7201a8\"],[0.3333333333333333,\"#9c179e\"],[0.4444444444444444,\"#bd3786\"],[0.5555555555555556,\"#d8576b\"],[0.6666666666666666,\"#ed7953\"],[0.7777777777777778,\"#fb9f3a\"],[0.8888888888888888,\"#fdca26\"],[1.0,\"#f0f921\"]],\"type\":\"histogram2d\"}],\"histogram2dcontour\":[{\"colorbar\":{\"outlinewidth\":0,\"ticks\":\"\"},\"colorscale\":[[0.0,\"#0d0887\"],[0.1111111111111111,\"#46039f\"],[0.2222222222222222,\"#7201a8\"],[0.3333333333333333,\"#9c179e\"],[0.4444444444444444,\"#bd3786\"],[0.5555555555555556,\"#d8576b\"],[0.6666666666666666,\"#ed7953\"],[0.7777777777777778,\"#fb9f3a\"],[0.8888888888888888,\"#fdca26\"],[1.0,\"#f0f921\"]],\"type\":\"histogram2dcontour\"}],\"mesh3d\":[{\"colorbar\":{\"outlinewidth\":0,\"ticks\":\"\"},\"type\":\"mesh3d\"}],\"parcoords\":[{\"line\":{\"colorbar\":{\"outlinewidth\":0,\"ticks\":\"\"}},\"type\":\"parcoords\"}],\"pie\":[{\"automargin\":true,\"type\":\"pie\"}],\"scatter\":[{\"marker\":{\"colorbar\":{\"outlinewidth\":0,\"ticks\":\"\"}},\"type\":\"scatter\"}],\"scatter3d\":[{\"line\":{\"colorbar\":{\"outlinewidth\":0,\"ticks\":\"\"}},\"marker\":{\"colorbar\":{\"outlinewidth\":0,\"ticks\":\"\"}},\"type\":\"scatter3d\"}],\"scattercarpet\":[{\"marker\":{\"colorbar\":{\"outlinewidth\":0,\"ticks\":\"\"}},\"type\":\"scattercarpet\"}],\"scattergeo\":[{\"marker\":{\"colorbar\":{\"outlinewidth\":0,\"ticks\":\"\"}},\"type\":\"scattergeo\"}],\"scattergl\":[{\"marker\":{\"colorbar\":{\"outlinewidth\":0,\"ticks\":\"\"}},\"type\":\"scattergl\"}],\"scattermapbox\":[{\"marker\":{\"colorbar\":{\"outlinewidth\":0,\"ticks\":\"\"}},\"type\":\"scattermapbox\"}],\"scatterpolar\":[{\"marker\":{\"colorbar\":{\"outlinewidth\":0,\"ticks\":\"\"}},\"type\":\"scatterpolar\"}],\"scatterpolargl\":[{\"marker\":{\"colorbar\":{\"outlinewidth\":0,\"ticks\":\"\"}},\"type\":\"scatterpolargl\"}],\"scatterternary\":[{\"marker\":{\"colorbar\":{\"outlinewidth\":0,\"ticks\":\"\"}},\"type\":\"scatterternary\"}],\"surface\":[{\"colorbar\":{\"outlinewidth\":0,\"ticks\":\"\"},\"colorscale\":[[0.0,\"#0d0887\"],[0.1111111111111111,\"#46039f\"],[0.2222222222222222,\"#7201a8\"],[0.3333333333333333,\"#9c179e\"],[0.4444444444444444,\"#bd3786\"],[0.5555555555555556,\"#d8576b\"],[0.6666666666666666,\"#ed7953\"],[0.7777777777777778,\"#fb9f3a\"],[0.8888888888888888,\"#fdca26\"],[1.0,\"#f0f921\"]],\"type\":\"surface\"}],\"table\":[{\"cells\":{\"fill\":{\"color\":\"#EBF0F8\"},\"line\":{\"color\":\"white\"}},\"header\":{\"fill\":{\"color\":\"#C8D4E3\"},\"line\":{\"color\":\"white\"}},\"type\":\"table\"}]},\"layout\":{\"annotationdefaults\":{\"arrowcolor\":\"#2a3f5f\",\"arrowhead\":0,\"arrowwidth\":1},\"autotypenumbers\":\"strict\",\"coloraxis\":{\"colorbar\":{\"outlinewidth\":0,\"ticks\":\"\"}},\"colorscale\":{\"diverging\":[[0,\"#8e0152\"],[0.1,\"#c51b7d\"],[0.2,\"#de77ae\"],[0.3,\"#f1b6da\"],[0.4,\"#fde0ef\"],[0.5,\"#f7f7f7\"],[0.6,\"#e6f5d0\"],[0.7,\"#b8e186\"],[0.8,\"#7fbc41\"],[0.9,\"#4d9221\"],[1,\"#276419\"]],\"sequential\":[[0.0,\"#0d0887\"],[0.1111111111111111,\"#46039f\"],[0.2222222222222222,\"#7201a8\"],[0.3333333333333333,\"#9c179e\"],[0.4444444444444444,\"#bd3786\"],[0.5555555555555556,\"#d8576b\"],[0.6666666666666666,\"#ed7953\"],[0.7777777777777778,\"#fb9f3a\"],[0.8888888888888888,\"#fdca26\"],[1.0,\"#f0f921\"]],\"sequentialminus\":[[0.0,\"#0d0887\"],[0.1111111111111111,\"#46039f\"],[0.2222222222222222,\"#7201a8\"],[0.3333333333333333,\"#9c179e\"],[0.4444444444444444,\"#bd3786\"],[0.5555555555555556,\"#d8576b\"],[0.6666666666666666,\"#ed7953\"],[0.7777777777777778,\"#fb9f3a\"],[0.8888888888888888,\"#fdca26\"],[1.0,\"#f0f921\"]]},\"colorway\":[\"#636efa\",\"#EF553B\",\"#00cc96\",\"#ab63fa\",\"#FFA15A\",\"#19d3f3\",\"#FF6692\",\"#B6E880\",\"#FF97FF\",\"#FECB52\"],\"font\":{\"color\":\"#2a3f5f\"},\"geo\":{\"bgcolor\":\"white\",\"lakecolor\":\"white\",\"landcolor\":\"#E5ECF6\",\"showlakes\":true,\"showland\":true,\"subunitcolor\":\"white\"},\"hoverlabel\":{\"align\":\"left\"},\"hovermode\":\"closest\",\"mapbox\":{\"style\":\"light\"},\"paper_bgcolor\":\"white\",\"plot_bgcolor\":\"#E5ECF6\",\"polar\":{\"angularaxis\":{\"gridcolor\":\"white\",\"linecolor\":\"white\",\"ticks\":\"\"},\"bgcolor\":\"#E5ECF6\",\"radialaxis\":{\"gridcolor\":\"white\",\"linecolor\":\"white\",\"ticks\":\"\"}},\"scene\":{\"xaxis\":{\"backgroundcolor\":\"#E5ECF6\",\"gridcolor\":\"white\",\"gridwidth\":2,\"linecolor\":\"white\",\"showbackground\":true,\"ticks\":\"\",\"zerolinecolor\":\"white\"},\"yaxis\":{\"backgroundcolor\":\"#E5ECF6\",\"gridcolor\":\"white\",\"gridwidth\":2,\"linecolor\":\"white\",\"showbackground\":true,\"ticks\":\"\",\"zerolinecolor\":\"white\"},\"zaxis\":{\"backgroundcolor\":\"#E5ECF6\",\"gridcolor\":\"white\",\"gridwidth\":2,\"linecolor\":\"white\",\"showbackground\":true,\"ticks\":\"\",\"zerolinecolor\":\"white\"}},\"shapedefaults\":{\"line\":{\"color\":\"#2a3f5f\"}},\"ternary\":{\"aaxis\":{\"gridcolor\":\"white\",\"linecolor\":\"white\",\"ticks\":\"\"},\"baxis\":{\"gridcolor\":\"white\",\"linecolor\":\"white\",\"ticks\":\"\"},\"bgcolor\":\"#E5ECF6\",\"caxis\":{\"gridcolor\":\"white\",\"linecolor\":\"white\",\"ticks\":\"\"}},\"title\":{\"x\":0.05},\"xaxis\":{\"automargin\":true,\"gridcolor\":\"white\",\"linecolor\":\"white\",\"ticks\":\"\",\"title\":{\"standoff\":15},\"zerolinecolor\":\"white\",\"zerolinewidth\":2},\"yaxis\":{\"automargin\":true,\"gridcolor\":\"white\",\"linecolor\":\"white\",\"ticks\":\"\",\"title\":{\"standoff\":15},\"zerolinecolor\":\"white\",\"zerolinewidth\":2}}},\"xaxis\":{\"anchor\":\"y\",\"domain\":[0.0,1.0],\"title\":{\"text\":\"Data\"},\"rangeslider\":{\"visible\":true},\"type\":\"date\"},\"yaxis\":{\"anchor\":\"x\",\"domain\":[0.0,1.0],\"title\":{\"text\":\"Ilo\\u015b\\u0107 gatunk\\u00f3w\"}},\"legend\":{\"title\":{\"text\":\"label\"},\"tracegroupgap\":0},\"title\":{\"text\":\"Ilo\\u015b\\u0107 gatunk\\u00f3w wzgl\\u0119dem czasu\"}},                        {\"responsive\": true}                    ).then(function(){\n",
              "                            \n",
              "var gd = document.getElementById('e2830773-27a1-4638-802c-c44deefaa960');\n",
              "var x = new MutationObserver(function (mutations, observer) {{\n",
              "        var display = window.getComputedStyle(gd).display;\n",
              "        if (!display || display === 'none') {{\n",
              "            console.log([gd, 'removed!']);\n",
              "            Plotly.purge(gd);\n",
              "            observer.disconnect();\n",
              "        }}\n",
              "}});\n",
              "\n",
              "// Listen for the removal of the full notebook cells\n",
              "var notebookContainer = gd.closest('#notebook-container');\n",
              "if (notebookContainer) {{\n",
              "    x.observe(notebookContainer, {childList: true});\n",
              "}}\n",
              "\n",
              "// Listen for the clearing of the current output cell\n",
              "var outputEl = gd.closest('.output');\n",
              "if (outputEl) {{\n",
              "    x.observe(outputEl, {childList: true});\n",
              "}}\n",
              "\n",
              "                        })                };                            </script>        </div>\n",
              "</body>\n",
              "</html>"
            ]
          },
          "metadata": {},
          "output_type": "display_data"
        }
      ],
      "source": [
        "genres_df = funcs.genres_to_one_column(df)\n",
        "genres_df_pl = funcs.genres_to_one_column(df_pl)\n",
        "\n",
        "data = genres_df.groupby('week_timestamp').nunique()\n",
        "data_pl = genres_df_pl.groupby('week_timestamp').nunique()\n",
        "\n",
        "data_pl['label'] = 'Spotify Polska'\n",
        "data['label'] = 'Spotify Global'\n",
        "\n",
        "data.index = data.index.to_timestamp().strftime(\"%Y-%m\")\n",
        "data_pl.index = data_pl.index.to_timestamp().strftime(\"%Y-%m\")\n",
        "\n",
        "data_final = pd.concat([data, data_pl], ignore_index=False)\n",
        "\n",
        "funcs.generate_timeline_chart(data_final)"
      ]
    },
    {
      "cell_type": "markdown",
      "metadata": {
        "id": "ge4qN8qiHqFj"
      },
      "source": [
        "### Sezonowość"
      ]
    },
    {
      "cell_type": "markdown",
      "metadata": {
        "id": "gvGIuFsgBQgj"
      },
      "source": [
        "Na wykresie widać pewien trend, a mianowicie: w grudniu zawsze następuje skok w liczbie unikalnych gatunków muzyki.\n",
        "Jest to spowodowane prawdopodobnie kolędami i świątecznymi piosenkami, które wykraczają poza obecną modę w muzyce popularnej."
      ]
    },
    {
      "cell_type": "markdown",
      "metadata": {
        "id": "6-BEw5_ABQgj"
      },
      "source": [
        "### Przyczyna różnicy"
      ]
    },
    {
      "cell_type": "markdown",
      "metadata": {
        "id": "k0r_LY6_BQgk"
      },
      "source": [
        "Są dwie prawdopodobne przyczyny różnicy:\n",
        "\n",
        "- techniczna, tj. modele sztucznej inteligencji lepiej klasyfikują gatunki dla zagranicznych piosenek\n",
        "- globalna, tj. intuicyjną konsekwencją rozważania globalnego rankingu jest to, że będzie on bardziej zróżnicowanych niż ranking lokalny"
      ]
    },
    {
      "cell_type": "markdown",
      "metadata": {
        "id": "Dlhvw00aBQgk"
      },
      "source": [
        "## Najpopularniejsi artyści"
      ]
    },
    {
      "cell_type": "markdown",
      "metadata": {
        "id": "hSCLwD0xBQgl"
      },
      "source": [
        "Jako ilość unikalnych piosenek w danym miesiącu w rankingu."
      ]
    },
    {
      "cell_type": "code",
      "execution_count": null,
      "metadata": {
        "id": "3hKMlVQ4BQgl"
      },
      "outputs": [],
      "source": [
        "sub_pl = df_pl.drop_duplicates(subset=['track_uri', 'week_timestamp'])\n",
        "sub = df.drop_duplicates(subset=['track_uri', 'week_timestamp'])\n",
        "\n",
        "data_pl = sub_pl['artist_1_name'].value_counts().reset_index()\n",
        "data = sub['artist_1_name'].value_counts().reset_index()"
      ]
    },
    {
      "cell_type": "code",
      "execution_count": null,
      "metadata": {
        "colab": {
          "base_uri": "https://localhost:8080/",
          "height": 637
        },
        "id": "Niq2UsPyBQgm",
        "outputId": "8e821918-c821-4544-daf6-3579b1536bfa"
      },
      "outputs": [
        {
          "data": {
            "text/html": [
              "<html>\n",
              "<head><meta charset=\"utf-8\" /></head>\n",
              "<body>\n",
              "    <div>            <script src=\"https://cdnjs.cloudflare.com/ajax/libs/mathjax/2.7.5/MathJax.js?config=TeX-AMS-MML_SVG\"></script><script type=\"text/javascript\">if (window.MathJax) {MathJax.Hub.Config({SVG: {font: \"STIX-Web\"}});}</script>                <script type=\"text/javascript\">window.PlotlyConfig = {MathJaxConfig: 'local'};</script>\n",
              "        <script src=\"https://cdn.plot.ly/plotly-2.8.3.min.js\"></script>                <div id=\"1f1b5f54-0ebe-4879-a08c-c1c236447fe6\" class=\"plotly-graph-div\" style=\"height:600px; width:1500px;\"></div>            <script type=\"text/javascript\">                                    window.PLOTLYENV=window.PLOTLYENV || {};                                    if (document.getElementById(\"1f1b5f54-0ebe-4879-a08c-c1c236447fe6\")) {                    Plotly.newPlot(                        \"1f1b5f54-0ebe-4879-a08c-c1c236447fe6\",                        [{\"x\":[\"Taco Hemingway\",\"Bedoes\",\"Mata\",\"Quebonafide\",\"sanah\",\"White 2115\",\"Ed Sheeran\",\"\\u017babson\",\"Kizo\",\"Tymek\",\"Dawid Podsiad\\u0142o\",\"Bia\\u0142as\",\"Young Igi\",\"TACONAFIDE\",\"PRO8L3M\",\"Malik Montana\",\"Billie Eilish\",\"chillwagon\",\"Sobel\",\"Szpaku\",\"SB Maffija\",\"Imagine Dragons\",\"Ariana Grande\",\"The Weeknd\",\"Jan-Rapowanie\",\"Dua Lipa\",\"Reto\",\"Guzior\",\"Post Malone\",\"Paluch\",\"Shawn Mendes\",\"Otsochodzi\",\"Oki\",\"schafter\",\"The Chainsmokers\",\"Drake\",\"Sarius\",\"XXXTENTACION\",\"Calvin Harris\",\"Harry Styles\",\"Ti\\u00ebsto\",\"Travis Scott\",\"Deemz\",\"Ava Max\",\"Kukon\",\"Chivas\",\"Sok\\u00f3\\u0142\",\"Robin Schulz\",\"Camila Cabello\",\"Smolasty\",\"Twenty One Pilots\",\"Selena Gomez\",\"Alan Walker\",\"Lil Nas X\",\"David Guetta\",\"Kygo\",\"Sia\",\"BTS\",\"Justin Bieber\",\"Gedz\",\"Kartky\",\"Pezet\",\"Clean Bandit\",\"Ofenbach\",\"K\\u0119K\\u0119\",\"Kabe\",\"Major Lazer\",\"5 Seconds of Summer\",\"Jonas Blue\",\"Lady Gaga\",\"PlanBe\",\"Kubi Producent\",\"Lana Del Rey\",\"Marshmello\",\"Olivia Rodrigo\",\"Young Leosia\",\"Maroon 5\",\"The Neighbourhood\",\"Jax Jones\",\"BLACHA\",\"Martin Garrix\",\"Kendrick Lamar\",\"Doja Cat\",\"Lil Peep\",\"Jason Derulo\",\"Kali\",\"Ekipa\",\"Sam Smith\",\"Avicii\",\"Miley Cyrus\",\"Eminem\",\"Kanye West\",\"Lewis Capaldi\",\"Young Multi\",\"be vis\",\"Taylor Swift\",\"OneRepublic\",\"Miyo\",\"Alberto\",\"M\\u00e5neskin\",\"Daria Zawia\\u0142ow\",\"Queen\",\"Axwell /\\\\ Ingrosso\",\"Adele\",\"ZAYN\",\"Khalid\",\"Wac Toja\",\"M\\u0119skie Granie Orkiestra 2018\",\"Arctic Monkeys\",\"Halsey\",\"Favst\",\"MEDUZA\",\"DJ Snake\",\"Lost Frequencies\",\"Rita Ora\",\"Zedd\",\"Rudimental\",\"G-Eazy\",\"Jonas Brothers\",\"Linkin Park\",\"Coldplay\",\"Justin Timberlake\",\"Michael Bubl\\u00e9\",\"Margaret\",\"Avi\",\"Mark Ronson\",\"Sentino\",\"Luis Fonsi\",\"Bebe Rexha\",\"Katy Perry\",\"Cardi B\",\"Joel Corry\",\"Ronnie Ferrari\",\"Mr. Polska\",\"Kortez\",\"Lauv\",\"Felix Jaehn\",\"SHANGUY\",\"Charlie Puth\",\"Zara Larsson\",\"O.S.T.R.\",\"Kinny Zimmer\",\"Julia Michaels\",\"Trill Pem\",\"Abel de Jong\",\"Kungs\",\"Regard\",\"Hailee Steinfeld\",\"Lil Uzi Vert\",\"Niall Horan\",\"Wiatr\",\"Lord Huron\",\"Future\",\"Sigala\",\"Kacperczyk\",\"6ix9ine\",\"2K\",\"Sean Paul\",\"Lorde\",\"Juice WRLD\",\"Portugal. The Man\",\"Liam Payne\",\"Vance Joy\",\"SAINt JHN\",\"Qry\",\"Mabel\",\"C-BooL\",\"Bruno Mars\",\"DJ Khaled\",\"Janusz Walczuk\",\"Rag'n'Bone Man\",\"Dynoro\",\"Kwiat Jab\\u0142oni\",\"Tones And I\",\"Bitamina\",\"Dawid Kwiatkowski\",\"Beteo\",\"Cheat Codes\",\"Dennis Lloyd\",\"Panic! At The Disco\",\"Mike Perry\",\"BARANOVSKI\",\"Justin Hurwitz\",\"Martin Jensen\",\"Mariah Carey\",\"Ellie Goulding\",\"Jacu\\u015b\",\"Magiera\",\"Gromee\",\"J Balvin\",\"Viki Gabor\",\"The White Stripes\",\"Labrinth\",\"Lil Pump\",\"Migos\",\"A$AP Rocky\",\"The Vamps\",\"James Arthur\",\"Burak Yeter\",\"Galantis\",\"Anne-Marie\",\"Alvaro Soler\",\"Macklemore & Ryan Lewis\",\"Kacper Blonsky\",\"Zeamsone\",\"The Kid LAROI\",\"Logic\",\"Rae Sremmurd\",\"mgng\",\"Dean Lewis\",\"Alec Benjamin\",\"Pusher\",\"Rihanna\",\"Shakira\",\"Filipek\",\"Rammstein\",\"Kaz Ba\\u0142agane\",\"George Ezra\",\"Pawe\\u0142 Domaga\\u0142a\",\"Olszakumpel\",\"24kGoldn\",\"C0PIK\",\"Gorillaz\",\"Masno\",\"Florence + The Machine\",\"Macklemore\",\"Don Diablo\",\"The Dumplings\",\"Kokab\",\"VIZE\",\"French Montana\",\"Riton\",\"Ania Dabrowska\",\"Tom Odell\",\"DNCE\",\"Glass Animals\",\"Childish Gambino\",\"Diho\",\"Daria\",\"Alok\",\"Black Eyed Peas\",\"Oliwka Brazil\",\"CatchUp\",\"Loud Luxury\",\"Nicky Jam\",\"The Clash\",\"Lanek\",\"Alessia Cara\",\"Sir Mich\",\"AronChupa\",\"Powfu\",\"Alle Farben\",\"Enrique Iglesias\",\"M\\u0119skie Granie Orkiestra 2021\",\"Drenchill\",\"Micha\\u0142 Szczygie\\u0142\",\"Eldzhey\",\"Purple Disco Machine\",\"Topic\",\"LP\",\"Gibbs\",\"Martin Solveig\",\"Fifth Harmony\",\"Lil Wayne\",\"blackbear\",\"Elton John\",\"Little Mix\",\"BORCREW\",\"Solar\",\"Surf Curse\",\"Marie\",\"Zdech\\u0142y Osa\",\"Welshly Arms\",\"Wham!\",\"Duke Dumont\",\"P!nk\",\"Demi Lovato\",\"Dean Martin\",\"Frank Sinatra\",\"Hodak\",\"DaBaby\",\"Krzysztof Zalewski\",\"Mrozu\",\"GOLEC UORKIESTRA\",\"Brodka\",\"Bazzi\",\"Jon Bellion\",\"The xx\",\"benny blanco\",\"SKUTE BOBO\",\"Qbik\",\"bryska\",\"Julia Wieniawa\",\"Brenda Lee\",\"Nea\",\"Trevor Daniel\",\"Olivia Addams\",\"Years & Years\",\"Hozier\",\"CNCO\",\"Kris Kross Amsterdam\",\"Alice Merton\",\"21 Savage\",\"Conan Gray\",\"Roddy Ricch\",\"Machine Gun Kelly\",\"Sarsa\",\"Shouse\",\"Steve Aoki\",\"Lipa\",\"M\\u0119skie Granie Orkiestra 2019\",\"KYLE\",\"Tyga\",\"Tate McRae\",\"twocolors\",\"Tyler, The Creator\",\"Andy Williams\",\"Minelli\",\"Fukaj\",\"The Ronettes\",\"Foster The People\",\"BLACKPINK\",\"Arizona Zervas\",\"Kuban\",\"The Prince Karma\",\"Deys\",\"Mike Posner\",\"Kylie Minogue\",\"Lukas Graham\",\"Cleo\",\"MARUV\",\"KALEO\",\"Daddy Yankee\",\"Kodak Black\",\"Josef Bratan\",\"Ryan Gosling\",\"Shakin' Stevens\",\"Bonobo\",\"Maggie Lindemann\",\"Natalia Szroeder\",\"Internet Money\",\"Surf Mesa\",\"Masked Wolf\",\"Kayah\",\"Nat King Cole\",\"Troye Sivan\",\"Daryl Hall & John Oates\",\"Filatov & Karas\",\"Chris Rea\",\"Adi Nowak\",\"Muniek Staszczyk\",\"Borixon\",\"SHAED\",\"M\\u00d8\",\"Jaymes Young\",\"Jawsh 685\",\"Farruko\",\"Gaullin\",\"Duncan Laurence\",\"Desiigner\",\"Kronkel Dom\",\"Noah Cyrus\",\"MASNY BEN\",\"Bing Crosby\",\"John Legend\",\"Britney Spears\",\"Merk & Kremont\",\"NF\",\"SZA\",\"ATB\",\"Cat Dealers\",\"Nirvana\",\"Pop Smoke\",\"Big Sean\",\"Sof\\u00eda Reyes\",\"Rusina\",\"VINAI\",\"Studio Accantus\",\"Foo Fighters\",\"AJR\",\"Petit Biscuit\",\"ACRAZE\",\"Lykke Li\",\"StaySolidRocky\",\"Armin van Buuren\",\"M\\u0119skie Granie Orkiestra 2020\",\"Feder\",\"Sabrina Carpenter\",\"GAYLE\",\"Pentatonix\",\"Dermot Kennedy\",\"Lizzo\",\"ZetHa\",\"Louis Tomlinson\",\"Michele Morrone\",\"Julia Po\\u015bnik\",\"BENEE\",\"Dimitri Vegas & Like Mike\",\"Majestic\",\"Paul McCartney\",\"Perry Como\",\"Sara James\",\"M\\u0142odypago\",\"Elley Duh\\u00e9\",\"Gawryle\",\"Matthew Koma\",\"Flume\",\"Kacper HTA\",\"Kiiara\",\"Matheo\",\"Tom Walker\",\"Rat City\",\"ItaloBrothers\",\"Danny Ocean\",\"JACKBOYS\",\"Ashnikko\",\"Maanam\",\"Grzegorz Hy\\u017cy\",\"James Bay\",\"Nathan Evans\",\"Jos\\u00e9 Feliciano\",\"Madison Mars\",\"Bobby Helms\",\"Salvador\",\"Nico Santos\",\"LA Vision\",\"Toby Romeo\",\"JP Cooper\",\"Vice\",\"FRIZ\",\"LIZOT\",\"Foushe\\u00e9\",\"Lil Dicky\",\"Becky G\",\"Bibi\\u010d\",\"Emma Stone\",\"X Ambassadors\",\"Lil Mosey\",\"Kesha\",\"Milky Chance\",\"Olivia Holt\",\"Jub\\u00ebl\",\"Roksana W\\u0119giel\",\"WALK THE MOON\",\"Ma\\u0142pa\",\"Train\",\"Stevie Wonder\",\"John Lennon\",\"Band Aid\",\"Moon Taxi\",\"Y2K\",\"Dwa S\\u0142awy\",\"Stanis\\u0142aw Soyka\",\"Jack Harlow\",\"Mykola Dmytrovych Leontovych\",\"A R I Z O N A\",\"Megan Thee Stallion\",\"CJ\",\"DZIARMA\",\"Fast Life Sharky\",\"Dawid, Artysta\",\"Smith & Thell\",\"KIDS SEE GHOSTS\",\"m\\u0142ody klakson\",\"Karolina Stanis\\u0142awczyk\",\"Tribbs\",\"Pedro Cap\\u00f3\",\"Vicetone\",\"Krzysztof Krawczyk\",\"HVME\",\"White Widow\",\"Shellerini\",\"El Profesor\",\"Daj To G\\u0142o\\u015bniej\",\"Tom Grennan\",\"Mother Mother\",\"Julia Rocka\",\"S\\u0142o\\u0144\",\"Ashe\",\"The Walters\",\"BoyWithUke\",\"THE SCOTTS\",\"Surfaces\",\"Dotan\",\"Kamil Bednarek\",\"K/DA\",\"Popkiller M\\u0142ode Wilki\",\"Yves V\",\"Szczyl\",\"Melanie Martinez\",\"Michael Patrick Kelly\",\"TOTO\",\"NEIKED\",\"Skaldowie\",\"Offset\",\"Slade\",\"Maciej Zielinski\",\"Brett Eldredge\",\"Rasmentalism\",\"S\\u0142awomir\",\"Cashmere Cat\",\"R3HAB\",\"Cliff Richard\",\"Kelly Clarkson\",\"Idina Menzel\",\"Nicki Minaj\",\"J. Cole\",\"Hearts & Colors\",\"Melanie Thornton\",\"DVBBS\",\"Lil Xan\",\"BlocBoy JB\",\"Tove Lo\",\"Leona Lewis\",\"Maluma\",\"Czerwone Gitary\",\"Sage The Gemini\",\"Snakehips\",\"Gwen Stefani\",\"Edyta Gorniak\",\"Tabb And Sound`N`Grace\",\"HUGEL\",\"Ryszard Rynkowski\",\"Skrillex\",\"Kuba\\u0144czyk\",\"FRENSHIP\",\"Arne\",\"MARINA\",\"Mahmut Orhan\",\"Garrett Nash\",\"Bryan Adams\",\"Lil Tecca\",\"Kobik\",\"TUZZA Globale\",\"Maciej Musia\\u0142owski\",\"Flo Rida\",\"Tom Petty and the Heartbreakers\",\"Stanaj\",\"Bella Poarch\",\"Mlodyskiny\",\"Two Feet\",\"Joel Adams\",\"Saweetie\",\"Macy Gray\",\"Pretenders\",\"Pharrell Williams\",\"LANY\",\"ElyOtto\",\"WIP Bros\",\"Starley\",\"Nause\",\"Godface Killa\",\"Disciples\",\"Matt Simons\",\"Banx & Ranx\",\"Gucci Mane\",\"Silk City\",\"Mac Miller\",\"Gryffin\",\"Betta Lemme\",\"NOTD\",\"Piotr Ziola\",\"Dove Cameron\",\"Sam Hunt\",\"MAX\",\"King Princess\",\"Big Shaq\",\"Cheatz\",\"Ritt Momney\",\"Mikolas Josef\",\"Artur Rojek\",\"Don Toliver\",\"La La Land Cast\",\"LUM!X\",\"Lanberry\",\"Loote\",\"Sad Eye\",\"Mat McHugh\",\"Fall Out Boy\",\"Marcin Maciejczak\",\"Jamie Cullum\",\"Jennifer Lopez\",\"Ray Dalton\",\"Mahmood\",\"NIZA\",\"Wallows\",\"Aaron Carter\",\"Outkast\",\"Depeche Mode\",\"Nick Jonas\",\"Cypis\",\"Manu Pilas\",\"alt-J\",\"Organek\",\"Sam Feldt\",\"Michael Kiwanuka\",\"Dominic Fike\",\"League of Legends\",\"Dr. SWAG\",\"Ashley O\",\"Chris Brown\",\"Stephen Puth\",\"Thirty Seconds To Mars\",\"Young Thug\",\"Jetlagz\",\"Ochman\",\"Mustard\",\"Jess Glynne\",\"Bring Me The Horizon\",\"Justin Wellington\",\"G-Girls\",\"Tommy Cash\",\"PLK\",\"Oliver Tree\",\"Siles\",\"girl in red\",\"LISA\",\"Alesso\",\"San Holo\",\"Swedish House Mafia\",\"Amaarae\",\"Luke Christopher\",\"George Michael\",\"ScHoolboy Q\",\"GAZIROVKA\",\"Nevada\",\"Paktofonika\",\"John Mayer\",\"Echosmith\",\"Holy Molly\",\"Flirtini\",\"Gruby AK47\",\"Nosowska\",\"Diplo\",\"Remo\",\"Sheck Wes\",\"THE ANXIETY\",\"Moli\",\"Amin\\u00e9\",\"Passenger\",\"Isaiah Firebrace\",\"Nelly Furtado\",\"\\u0141obuzy\",\"Kali Uchis\",\"A Boogie Wit da Hoodie\",\"The Jackson 5\",\"Gym Class Heroes\",\"Michael Jackson\",\"AURORA\",\"V\\u00c9RIT\\u00c9\",\"Matoma\",\"KREAM\",\"Katarzyna Cerekwicka\",\"Rafa\\u0142 Borzozowski & Ma\\u0142gorzata Burdzel\",\"Burl Ives\",\"Syberia Tdw\",\"JP Saxe\",\"K Koke\",\"Japczan\",\"Yung Lean\",\"RIP SCOTTY\",\"ROSAL\\u00cdA\",\"Igo\",\"Grey\",\"Shawn Hook\",\"Smash Mouth\",\"QueQuality\",\"PARTYNEXTDOOR\",\"State of Sound\",\"Imany\",\"Miszel\",\"Waima\",\"Agnieszka Chylinska\",\"Trinidad Cardona\",\"DR. VODKA\",\"Elvis Presley\",\"DaChoyce\",\"Shelley FKA DRAM\",\"SALES\",\"James Hersey\",\"carolesdaughter\",\"CKay\",\"Patrick Watson\",\"MiC LOWRY\",\"Steve Lacy\",\"Polo G\",\"Thomas Gold\",\"MaRina\",\"Szymi Szyms\",\"Chance the Rapper\",\"Rebzyyx\",\"Christina Aguilera\",\"Rain Radio\",\"Tony Bennett\",\"Go_A\",\"Curtis Waters\",\"Paramore\",\"Bo Burnham\",\"esceh\",\"SexMasterka\",\"Dream\",\"John Gibbons\",\"The Boy Next Door\",\"Edward Sharpe & The Magnetic Zeros\",\"Jay Rock\",\"Dan + Shay\",\"Bonus RPK\",\"Keala Settle\",\"Zac Efron\",\"B\\u00d8RNS\",\"Sitek\",\"Ali Gatie\",\"Riverdale Cast\",\"Kamerzysta\",\"The Beach Boys\",\"Eurythmics\",\"Roan\",\"The Carters\",\"M\\u0119skie Granie Orkiestra\",\"YUNGBLUD\",\"Bad Bunny\",\"Blue Cafe\",\"Mela Koteluk\",\"Zbigniew Preisner\",\"Gesaffelstein\",\"Beyonc\\u00e9\",\"Throttle\",\"Meek Mill\",\"Zeppy Zep\",\"TGD\",\"Natalia Nykiel\",\"Fisz Emade Tworzywo\",\"Cash Cash\",\"Madison Beer\",\"Matthew Wilder\",\"Rich The Kid\",\"BROCKHAMPTON\",\"Crystal Fighters\",\"The Main Level\",\"Capital Cities\",\"Dj.Frodo\",\"Joji\",\"Charli XCX\",\"Glee Cast\",\"Noah Kahan\",\"Coals\",\"Darlene Love\",\"Quavo\",\"Maty Noyes\",\"Francuz Mordo\",\"CORPSE\",\"Of Monsters and Men\",\"PSY\",\"B.R.O\",\"Kuki\",\"Eleni Foureira\",\"*NSYNC\",\"2115\",\"Netta\",\"Tevvez\",\"The Lumineers\",\"Gjon's Tears\",\"Kasia Kowalska\",\"Natalia Kukulska\",\"Carly Rae Jepsen\",\"Stan Kenton\",\"Robin Thicke\",\"Da\\u00f0i Freyr\",\"Icona Pop\",\"Blind Channel\",\"PlayaPhonk\",\"Avril Lavigne\",\"KALUSH\",\"Marek Grechuta\",\"Kindler Shah\",\"Deorro\",\"GACEK\",\"Stromae\",\"AC/DC\",\"Sylwia Grzeszczak\",\"Tromba\",\"E V\",\"Spice Girls\",\"Boney M.\",\"Klingande\",\"C\\u00e9line Dion\",\"Tame Impala\",\"Doda\",\"Kim Cesarion\",\"Vundabar\",\"Vince Staples\",\"Amy Grant\",\"Bruce Springsteen\",\"Daft Punk\",\"Whethan\",\"Bishop Briggs\",\"Sofi Tukker\",\"Becky Hill\",\"Louis The Child\",\"Emma Louise\",\"Lauren Spencer-Smith\",\"INNA\",\"Destiny's Child\",\"Eartha Kitt\",\"Aymi\",\"niteboi\",\"Vito Bambino\",\"Sufjan Stevens\",\"Duck Sauce\",\"Mikromusic\",\"Zino\",\"LMFAO\",\"Gladys Knight & The Pips\",\"Fergie\",\"Bee Gees\",\"Ralph Kaminski\",\"Stray Kids\",\"Paul Rosenberg\",\"James Brown & The Famous Flames\",\"Trippie Redd\",\"\\u0141\\u0105ki \\u0141an\",\"Dido\",\"The Cranberries\",\"Tion Wayne\",\"Giveon\",\"Anna Wyszkoni\",\"Kings of Leon\",\"Miquela\",\"Stormzy\",\"Queens of the Stone Age\",\"U2\",\"System Of A Down\",\"True Damage\",\"Major SPZ\",\"Royal Blood\",\"Papa Roach\",\"Red Hot Chili Peppers\",\"Jessie Ware\",\"The Police\",\"Frank Ocean\",\"LASERY\",\"Stargate\",\"HEAVYWEIGHT\",\"James Hype\",\"N.E.R.D\",\"DMN\",\"Bag Raiders\",\"Corinne Bailey Rae\",\"Hurts\",\"P\\u0142omie\\u0144 81\",\"HAIM\",\"Fleetwood Mac\",\"Meghan Trainor\",\"Ricky Martin\",\"Sonya Belousova\",\"M\\u0119skie Granie Orkiestra 2017\",\"Bastille\",\"Playboi Carti\",\"Lil Yachty\",\"JAY-Z\",\"Soundgarden\",\"Zbigniew Wodecki\",\"Ilinca\",\"Robin Bengtsson\",\"JOWST\",\"Sunstroke Project\",\"Salvador Sobral\",\"Fresh N Dope\",\"Agust D\",\"Kristian Kostov\",\"Blanche\",\"Electric Light Orchestra\",\"Donguralesko\",\"The Pogues\",\"JRY\",\"TOOL\",\"Ma\\u0142ach\",\"John Denver\",\"Lil Tjay\",\"Marvin Gaye\",\"Ril\\u00e8s\",\"Podulka\",\"Peter Manos\",\"Yello\",\"Lady Pank\",\"ROS\\u00c9\",\"a-ha\",\"Pamela Stone\",\"alyona alyona\",\"A$AP Ferg\",\"Ka\\u015bka Sochacka\",\"Trebunie-Tutki\",\"Bob Dylan\",\"The Script\",\"Greg Lake\",\"Urszula\",\"Mate.O\",\"Magda Steczkowska\",\"Pat Metheny\",\"Chuck Berry\",\"Disturbed\",\"The Beatles\",\"Raz Dwa Trzy\",\"Aretha Franklin\",\"Anuel AA\",\"ALMA\",\"Xxanaxx\",\"Eis\",\"Anitta\",\"Young Slash\",\"Studio Killers\",\"Keanu Silva\",\"Roxie\",\"Daya\",\"Jacek Stachursky\",\"Billy Hayes\",\"M.I.A.\",\"Nathan Goshen\",\"S Club 7\",\"Jack \\u00dc\",\"Don&RL9\",\"Sobota\",\"Grzegorz Turnau\",\"Krzysztof Kilja\\u0144ski\",\"Kehlani\",\"Cornelia Jakobs\"],\"y\":[452,433,317,300,288,270,256,231,215,212,207,190,190,188,186,183,182,180,179,177,176,173,165,162,158,156,154,151,148,136,135,131,129,117,109,101,97,95,93,92,84,83,77,77,75,74,74,74,73,73,71,71,71,70,70,70,69,69,68,68,67,67,64,64,63,63,62,62,59,59,56,56,56,55,55,55,55,55,54,53,51,51,51,51,49,49,48,48,48,46,46,45,45,45,44,43,43,43,43,42,42,42,41,41,41,40,40,40,40,39,38,36,36,35,34,34,34,33,33,33,33,32,32,32,31,31,31,31,31,31,31,30,30,30,30,30,30,30,30,30,29,29,28,28,28,28,27,27,27,27,27,26,26,25,25,25,25,25,25,24,24,24,24,24,24,24,24,23,23,23,23,23,22,22,22,22,22,22,22,22,21,21,21,21,21,20,20,20,20,20,20,20,20,20,19,19,19,19,19,19,19,19,19,18,18,18,18,18,18,18,17,17,17,17,17,17,17,17,17,17,16,16,16,16,16,16,16,16,16,16,16,16,16,16,16,16,16,16,15,15,15,15,15,15,15,15,15,15,14,14,14,14,14,14,14,14,14,14,13,13,13,13,13,13,13,13,13,13,13,12,12,12,12,12,12,12,12,12,12,12,12,12,12,12,12,12,12,12,12,11,11,11,11,11,11,11,11,11,10,10,10,10,10,10,10,10,10,10,10,10,10,10,10,10,10,10,9,9,9,9,9,9,9,9,9,9,9,9,9,9,9,9,9,9,9,9,9,9,9,9,9,9,9,8,8,8,8,8,8,8,8,8,8,8,8,8,8,8,8,8,8,8,8,8,8,8,8,8,8,8,8,8,7,7,7,7,7,7,7,7,7,7,7,7,7,7,7,7,7,7,7,7,7,7,7,7,7,7,7,7,6,6,6,6,6,6,6,6,6,6,6,6,6,6,6,6,6,6,6,6,6,6,6,6,6,6,6,6,6,6,6,6,6,6,6,6,6,6,6,6,6,6,6,6,6,6,6,6,6,6,6,6,6,6,6,6,6,6,5,5,5,5,5,5,5,5,5,5,5,5,5,5,5,5,5,5,5,5,5,5,5,5,5,5,5,5,5,5,5,5,5,5,5,5,5,5,5,5,5,5,5,5,5,5,5,5,5,5,5,5,5,5,5,5,5,5,5,5,5,5,4,4,4,4,4,4,4,4,4,4,4,4,4,4,4,4,4,4,4,4,4,4,4,4,4,4,4,4,4,4,4,4,4,4,4,4,4,4,4,4,4,4,4,4,4,4,4,4,4,4,4,4,3,3,3,3,3,3,3,3,3,3,3,3,3,3,3,3,3,3,3,3,3,3,3,3,3,3,3,3,3,3,3,3,3,3,3,3,3,3,3,3,3,3,3,3,3,3,3,3,3,3,3,3,3,3,3,3,3,3,3,3,3,3,3,3,3,3,3,3,3,3,3,3,3,3,3,3,3,3,3,3,3,3,3,2,2,2,2,2,2,2,2,2,2,2,2,2,2,2,2,2,2,2,2,2,2,2,2,2,2,2,2,2,2,2,2,2,2,2,2,2,2,2,2,2,2,2,2,2,2,2,2,2,2,2,2,2,2,2,2,2,2,2,2,2,2,2,2,2,2,2,2,2,2,2,2,2,2,2,2,2,2,2,2,2,2,2,2,2,2,2,2,1,1,1,1,1,1,1,1,1,1,1,1,1,1,1,1,1,1,1,1,1,1,1,1,1,1,1,1,1,1,1,1,1,1,1,1,1,1,1,1,1,1,1,1,1,1,1,1,1,1,1,1,1,1,1,1,1,1,1,1,1,1,1,1,1,1,1,1,1,1,1,1,1,1,1,1,1,1,1,1,1,1,1,1,1,1,1,1,1,1,1,1,1,1,1,1,1,1,1,1,1,1,1,1,1,1,1,1,1,1,1,1,1,1,1,1,1,1,1,1,1,1,1,1,1,1,1,1,1,1,1,1,1,1,1,1,1,1,1,1,1,1,1,1,1,1,1,1,1,1,1,1,1,1,1,1,1,1,1,1,1,1,1,1,1,1,1,1,1,1,1,1,1,1,1,1,1,1,1,1,1,1,1],\"type\":\"bar\",\"xaxis\":\"x\",\"yaxis\":\"y\"},{\"x\":[\"Ed Sheeran\",\"Post Malone\",\"Drake\",\"Billie Eilish\",\"XXXTENTACION\",\"The Weeknd\",\"Ariana Grande\",\"Juice WRLD\",\"Bad Bunny\",\"Taylor Swift\",\"The Chainsmokers\",\"J Balvin\",\"Travis Scott\",\"Imagine Dragons\",\"Shawn Mendes\",\"Dua Lipa\",\"Justin Bieber\",\"Eminem\",\"BTS\",\"Harry Styles\",\"Ozuna\",\"Khalid\",\"Queen\",\"Maroon 5\",\"Kendrick Lamar\",\"Doja Cat\",\"Olivia Rodrigo\",\"Sam Smith\",\"Lil Uzi Vert\",\"Maluma\",\"Bruno Mars\",\"Lil Nas X\",\"Camila Cabello\",\"Lady Gaga\",\"Marshmello\",\"Avicii\",\"Pop Smoke\",\"Rauw Alejandro\",\"Kygo\",\"Lewis Capaldi\",\"Lauv\",\"Future\",\"Calvin Harris\",\"James Arthur\",\"Migos\",\"Cardi B\",\"Anuel AA\",\"Selena Gomez\",\"J. Cole\",\"Daddy Yankee\",\"Sebastian Yatra\",\"Kanye West\",\"KAROL G\",\"Adele\",\"Halsey\",\"6ix9ine\",\"Nicky Jam\",\"Martin Garrix\",\"21 Savage\",\"Sech\",\"DaBaby\",\"Logic\",\"Lil Baby\",\"Coldplay\",\"DJ Khaled\",\"Twenty One Pilots\",\"Polo G\",\"Ava Max\",\"DJ Snake\",\"Clean Bandit\",\"Jonas Blue\",\"Luis Fonsi\",\"Bazzi\",\"Charlie Puth\",\"Kodak Black\",\"David Guetta\",\"Sia\",\"Camilo\",\"ZAYN\",\"Jason Derulo\",\"John Legend\",\"Ti\\u00ebsto\",\"5 Seconds of Summer\",\"Major Lazer\",\"Bebe Rexha\",\"Piso 21\",\"The Kid LAROI\",\"The Neighbourhood\",\"Zedd\",\"Alan Walker\",\"OneRepublic\",\"Machine Gun Kelly\",\"Tones And I\",\"Manuel Turizo\",\"Tyler, The Creator\",\"Young Thug\",\"A Boogie Wit da Hoodie\",\"Jack Harlow\",\"MEDUZA\",\"Nio Garcia\",\"Michael Bubl\\u00e9\",\"Miley Cyrus\",\"Jonas Brothers\",\"ROSAL\\u00cdA\",\"Becky G\",\"BLACKPINK\",\"Arctic Monkeys\",\"Lil Tecca\",\"Hailee Steinfeld\",\"blackbear\",\"G-Eazy\",\"Shakira\",\"Trippie Redd\",\"Panic! At The Disco\",\"Katy Perry\",\"Anne-Marie\",\"Paulo Londra\",\"benny blanco\",\"Dean Lewis\",\"Lizzo\",\"Oasis\",\"Dalex\",\"Roddy Ricch\",\"Chris Brown\",\"24kGoldn\",\"Lana Del Rey\",\"Big Sean\",\"Anitta\",\"Lil Wayne\",\"Justin Quiles\",\"Conan Gray\",\"Julia Michaels\",\"Tyga\",\"The Killers\",\"Wisin\",\"Linkin Park\",\"Myke Towers\",\"Jhay Cortez\",\"Rae Sremmurd\",\"Demi Lovato\",\"Megan Thee Stallion\",\"YNW Melly\",\"Robin Schulz\",\"Capital Bra\",\"Lil Mosey\",\"Danny Ocean\",\"French Montana\",\"Joji\",\"Niall Horan\",\"M\\u00e5neskin\",\"Joel Corry\",\"Regard\",\"Black Eyed Peas\",\"Rita Ora\",\"Tate McRae\",\"Farruko\",\"Jax Jones\",\"CNCO\",\"Childish Gambino\",\"Gucci Mane\",\"Liam Payne\",\"Justin Timberlake\",\"Kina\",\"Offset\",\"Axwell /\\\\ Ingrosso\",\"SZA\",\"Lorde\",\"Hozier\",\"Zion & Lennox\",\"Little Mix\",\"SAINt JHN\",\"Zara Larsson\",\"Bizarrap\",\"Internet Money\",\"Sean Paul\",\"Lil Peep\",\"P!nk\",\"Gunna\",\"Lunay\",\"Apache 207\",\"Ellie Goulding\",\"Mustard\",\"Labrinth\",\"Nicki Minaj\",\"Mac Miller\",\"NF\",\"Lil Tjay\",\"Ali Gatie\",\"Playboi Carti\",\"Reik\",\"Arizona Zervas\",\"Cheat Codes\",\"Lil Pump\",\"Don Toliver\",\"Tainy\",\"A$AP Rocky\",\"Nirvana\",\"Alec Benjamin\",\"Rich The Kid\",\"Trevor Daniel\",\"Metro Boomin\",\"Meek Mill\",\"Tame Impala\",\"NLE Choppa\",\"Noah Cyrus\",\"Vance Joy\",\"JP Saxe\",\"Elton John\",\"NAV\",\"Alessia Cara\",\"Jason Mraz\",\"Powfu\",\"Mora\",\"KYLE\",\"Rudimental\",\"CKay\",\"Macklemore\",\"Natti Natasha\",\"Glass Animals\",\"Rihanna\",\"Riton\",\"Carlos Vives\",\"Loud Luxury\",\"Topic\",\"TWICE\",\"TOTO\",\"Enrique Iglesias\",\"Mariah Carey\",\"Dominic Fike\",\"Chance the Rapper\",\"Frank Sinatra\",\"Mau y Ricky\",\"Alex Rose\",\"Ofenbach\",\"Dynoro\",\"The Police\",\"Jawsh 685\",\"Masked Wolf\",\"Duncan Laurence\",\"Famous Dex\",\"Bonez MC\",\"Portugal. The Man\",\"Mabel\",\"Galantis\",\"Lukas Graham\",\"Fifth Harmony\",\"Beyonc\\u00e9\",\"George Ezra\",\"Dan + Shay\",\"Pedro Cap\\u00f3\",\"Ufo361\",\"Morgan Wallen\",\"Bing Crosby\",\"Lil Skies\",\"BlocBoy JB\",\"Y2K\",\"Gusttavo Lima\",\"Nacho\",\"2 Chainz\",\"Surf Curse\",\"Tom Odell\",\"Fleetwood Mac\",\"TINI\",\"Wolfine\",\"Tiago PZK\",\"Dean Martin\",\"Saweetie\",\"Arcangel\",\"Kid Cudi\",\"Sleepy Hallow\",\"Bobby Helms\",\"JACKBOYS\",\"Andy Williams\",\"Mark Ronson\",\"LISA\",\"Surfaces\",\"YG\",\"Sheck Wes\",\"Rag'n'Bone Man\",\"Mar\\u00edlia Mendon\\u00e7a\",\"Tory Lanez\",\"Giveon\",\"Yandel\",\"NEIKED\",\"CJ\",\"Alok\",\"Martin Jensen\",\"Wham!\",\"Dennis Lloyd\",\"Hugh Jackman\",\"Lele Pons\",\"Samra\",\"Brenda Lee\",\"Brytiago\",\"Chris Jedi\",\"Henrique & Juliano\",\"Troye Sivan\",\"Macklemore & Ryan Lewis\",\"Sof\\u00eda Reyes\",\"BoyWithUke\",\"Surf Mesa\",\"Steve Aoki\",\"Kali Uchis\",\"C. Tangana\",\"Maggie Lindemann\",\"Lord Huron\",\"Nat King Cole\",\"Mike Posner\",\"Stormzy\",\"The Jackson 5\",\"Feid\",\"Jay Wheeler\",\"Lil Dicky\",\"John Mayer\",\"Ruth B.\",\"Rich Music LTD\",\"Steve Lacy\",\"Romeo Santos\",\"Baby Keem\",\"Aventura\",\"Sfera Ebbasta\",\"Rvssian\",\"A$AP Ferg\",\"StaySolidRocky\",\"MERO\",\"Sam Hunt\",\"Starley\",\"Ashnikko\",\"PNL\",\"The Ronettes\",\"Lost Frequencies\",\"Paul McCartney\",\"zzoilo\",\"Huncho Jack\",\"SHAED\",\"Louis Tomlinson\",\"PEDRO SAMPAIO\",\"Alex Sensation\",\"Lil Yachty\",\"Jo\\u00e3o Gomes\",\"Pink Sweat$\",\"Lil Xan\",\"Swedish House Mafia\",\"Diplo\",\"Gym Class Heroes\",\"Boza\",\"Sam Feldt\",\"Band Aid\",\"Amin\\u00e9\",\"The Walters\",\"Quavo\",\"AJR\",\"Ricky Martin\",\"Desiigner\",\"Jaymes Young\",\"Kungs\",\"Why Don't We\",\"Cashmere Cat\",\"Ritt Momney\",\"Gera MX\",\"Passenger\",\"Tom Walker\",\"Kesha\",\"KSI\",\"Kevin Roldan\",\"B\\u00d8RNS\",\"Trueno\",\"Gorillaz\",\"Alesso\",\"Shelley FKA DRAM\",\"Os Bar\\u00f5es Da Pisadinha\",\"Kane Brown\",\"Keala Settle\",\"Sabrina Carpenter\",\"Aya Nakamura\",\"Coolio\",\"Joey Montana\",\"BENEE\",\"ATB\",\"Burak Yeter\",\"Frank Ocean\",\"Loredana\",\"Los Legendarios\",\"ScHoolboy Q\",\"M\\u00d8\",\"Flipp Dinero\",\"GAYLE\",\"Jerry Di\",\"Majestic\",\"Ella Mai\",\"BANNERS\",\"Kehlani\",\"IAmChino\",\"Britney Spears\",\"Harry Nach\",\"Wiz Khalifa\",\"Silk City\",\"JP Cooper\",\"The Rare Occasions\",\"Blessd\",\"Hugo & Guilherme\",\"DJ Luian\",\"The Vamps\",\"ACRAZE\",\"Gotye\",\"Jon Bellion\",\"KIDS SEE GHOSTS\",\"Alvaro Soler\",\"NOTD\",\"YBN Nahmir\",\"BROCKHAMPTON\",\"THE ANXIETY\",\"Don Omar\",\"KHEA\",\"Marc Segu\\u00ed\",\"Shouse\",\"ITZY\",\"Madison Beer\",\"John Lennon\",\"Kelly Clarkson\",\"Pitbull\",\"Zac Efron\",\"bbno$\",\"MAX\",\"Z\\u00e9 Felipe\",\"Lauren Spencer-Smith\",\"Jos\\u00e9 Feliciano\",\"Melanie Martinez\",\"Cosculluela\",\"THE SCOTTS\",\"Duki\",\"Thomas Rhett\",\"Jess Glynne\",\"Vice\",\"WILLOW\",\"Matu\\u00ea\",\"Luciano\",\"Mahmood\",\"Gesaffelstein\",\"Normani\",\"MC Fioti\",\"HVME\",\"Chris Rea\",\"Mykola Dmytrovych Leontovych\",\"Elvis Presley\",\"Z\\u00e9 Neto & Cristiano\",\"Ski Mask The Slump God\",\"Miguel\",\"R3HAB\",\"Skrillex\",\"Oliver Tree\",\"Ryan Castro\",\"Wisin & Yandel\",\"Bruce Springsteen\",\"Summer Walker\",\"Carolina Gait\\u00e1n - La Gaita\",\"Eartha Kitt\",\"Clairo\",\"Dr. Dre\",\"Michael Jackson\",\"Elley Duh\\u00e9\",\"Bausa\",\"Niack\",\"Jay Rock\",\"Ty Dolla $ign\",\"Rod Wave\",\"Quality Control\",\"The Pogues\",\"Blanco Brown\",\"DNCE\",\"Thalia\",\"Sigala\",\"D\\u00edmelo Flow\",\"Israel & Rodolffo\",\"Matheus Fernandes\",\"Dimitri Vegas & Like Mike\",\"Ayo & Teo\",\"Sam Fischer\",\"Curtis Waters\",\"Wallows\",\"Blueface\",\"Dave\",\"DripReport\",\"Burl Ives\",\"LANY\",\"Perry Como\",\"Shakin' Stevens\",\"Chuck Berry\",\"Guaynaa\",\"Luude\",\"IVE\",\"Pentatonix\",\"Red Velvet\",\"Garrett Nash\",\"Petit Biscuit\",\"Jeremy Zucker\",\"Dreamville\",\"KC Rebell\",\"PARTYNEXTDOOR\",\"RAF Camora\",\"ItaloBrothers\",\"Ninho\",\"George Henrique & Rodrigo\",\"Idina Menzel\",\"Christian Nodal\",\"Xam\\u00e3\",\"Aaron Smith\",\"Ant Saunders\",\"Chino & Nacho\",\"Joyner Lucas\",\"Stephanie Beatriz\",\"Jorge & Mateus\",\"Mother Mother\",\"Charly Black\",\"Journey\",\"Sage The Gemini\",\"Jesse & Joy\",\"Bella Poarch\",\"Snakehips\",\"Milly\",\"Big Shaq\",\"Amaarae\",\"Pharrell Williams\",\"Meghan Trainor\",\"Rochy RD\",\"Nathan Evans\",\"The Beach Boys\",\"ElyOtto\",\"Kylie Minogue\",\"RIN\",\"Daryl Hall & John Oates\",\"Dj Guuga\",\"Young Stoner Life\",\"ROS\\u00c9\",\"AURORA\",\"Tarc\\u00edsio do Acordeon\",\"Gabry Ponte\",\"Ingratax\",\"Olivia Holt\",\"Earth, Wind & Fire\",\"Ramz\",\"The xx\",\"Abraham Mateo\",\"Blxst\",\"Years & Years\",\"Cali Y El Dandee\",\"Jorja Smith\",\"dhruv\",\"FRENSHIP\",\"PUBLIC\",\"Bryson Tiller\",\"Justin Wellington\",\"The 1975\",\"Luan Santana\",\"Walker Hayes\",\"Rob $tone\",\"Yo Gotti\",\"PinkPantheress\",\"Moon Taxi\",\"S1mba\",\"Luke Christopher\",\"Leslie Grace\",\"Calibre 50\",\"Pashanim\",\"Lu\\u00edsa Sonza\",\"Tom Grennan\",\"*NSYNC\",\"Tai Verdes\",\"Clinton Kane\",\"King Princess\",\"Mari Fernandez\",\"sangiovanni\",\"Ashe\",\"Avine Vinny\",\"Flo Rida\",\"Andy Grammer\",\"Nea\",\"Kris Kross Amsterdam\",\"50 Cent\",\"CORPSE\",\"Calboy\",\"La Pantera\",\"Tony Bennett\",\"Leona Lewis\",\"Paramore\",\"Gwen Stefani\",\"Shirin David\",\"Stevie Wonder\",\"Darlene Love\",\"Dove Cameron\",\"Propanity\",\"Daniel Caesar\",\"Foushe\\u00e9\",\"Jessica Darrow\",\"Jonas Esticado\",\"Em Beihold\",\"Shindy\",\"salem ilese\",\"Tay-K\",\"Calum Scott\",\"Headie One\",\"Salmo\",\"DJ Ivis\",\"Conkarah\",\"Nick Jonas\",\"Benson Boone\",\"Daya\",\"Pooh Shiesty\",\"Juju\",\"Ra\\u00ed Saia Rodada\",\"Nevada\",\"Avril Lavigne\",\"Juan Mag\\u00e1n\",\"Hearts & Colors\",\"MC Kevin o Chris\",\"Peach Tree Rascals\",\"KitschKrieg\",\"Wesley Safad\\u00e3o\",\"Eslabon Armado\",\"AC/DC\",\"Jnr Choi\",\"Fireboy DML\",\"Prince Royce\",\"G Herbo\",\"Mc Anjim\",\"A-Wall\",\"Stray Kids\",\"Tanishk Bagchi\",\"Jasleen Royal\",\"Master KG\",\"$uicideboy$\",\"V\",\"WhoHeem\",\"Money Man\",\"Kofs\",\"Felix Jaehn\",\"Paulo Pires\",\"TOKYO\\u2019S REVENGE\",\"Bring Me The Horizon\",\"ZAAC\",\"Diego & Victor Hugo\",\"a-ha\",\"siouxxie sixxsta\",\"Malu\",\"Stromae\",\"Tion Wayne\",\"Vedo\",\"Emmy Meli\",\"StarBoi3\",\"Mc Davi\",\"RealestK\",\"Cochise\",\"Trinidad Cardona\",\"Bo Burnham\",\"Jamie Miller\",\"cakal\",\"Dayvi\",\"Gaullin\",\"AP Dhillon\",\"Alejo\",\"Residente\",\"George Michael\",\"Ryan Gosling\",\"Stanaj\",\"MACHETE\",\"Ashley O\",\"Davi Kneip\",\"James Bay\",\"Beach House\",\"Chefin\",\"Muni Long\",\"Bomba Est\\u00e9reo\",\"Chase Atlantic\",\"Dardan\",\"Alvaro Diaz\",\"A R I Z O N A\",\"San Holo\",\"DVBBS\",\"Banx & Ranx\",\"Boney M.\",\"Isaiah Firebrace\",\"Eno\",\"Pusha T\",\"Louis The Child\",\"TOMORROW X TOGETHER\",\"Amenazzy\",\"Tropkillaz\",\"ChocQuibTown\",\"Bryce Vine\",\"Armin van Buuren\",\"Brett Eldredge\",\"Cris Mj\",\"Bryant Myers\",\"Ella Fitzgerald\",\"KREAM\",\"Marian Hill\",\"Astrid S\",\"N.E.R.D\",\"Eden Mu\\u00f1oz\",\"Aaron Carter\",\"Takeoff\",\"Zay Hilfigerrr\",\"Loren Allred\",\"Felipe Ara\\u00fajo\",\"Ziv Zaifman\",\"K/DA\",\"Dad\\u00e1 Bolad\\u00e3o\",\"The Carters\",\"Mike Perry\",\"AnnenMayKantereit\",\"Kiiara\",\"NIKI\",\"Dj Kass\",\"Flume\",\"JENNIE\",\"Charli XCX\",\"Noriel\",\"Foster The People\",\"Bushido\",\"Russ Millions\",\"Brent Faiyaz\",\"Monsieur Perin\\u00e9\",\"Maite Perroni\",\"Smokepurpp\",\"4*TOWN (From Disney and Pixar\\u2019s Turning Red)\",\"Shawn Hook\",\"6LACK\",\"DMX\",\"MARINA\",\"Mura Masa\",\"Yeat\",\"Rusherking\",\"JVKE\",\"Farid Bang\",\"Yahritza Y Su Esencia\",\"Beach Bunny\",\"Gryffin\",\"The Script\",\"Nas\",\"La La Land Cast\",\"Shae Gill\",\"Vince Staples\",\"SOB X RBE\",\"Smiley\",\"Belly\",\"Leah Kate\",\"Emilia\",\"Kevin Kaarl\",\"The Cranberries\",\"Polim\\u00e1 Westcoast\",\"Becky Hill\",\"Sefo\",\"Maria Becerra\",\"John Amplificado\",\"ABBA\",\"Fall Out Boy\",\"Chl\\u00f6e\",\"Bag Raiders\",\"Zacari\",\"Jessi\",\"Florida Georgia Line\",\"Seeb\",\"Matheus & Kauan\",\"Milky Chance\",\"Crissin\",\"Felipe Amorim\",\"DJ Patrick Muniz\",\"Ivan Cornejo\",\"Mr.Kitty\",\"Tulus\",\"My Chemical Romance\",\"Sarah Cothran\",\"Fedez\",\"Jimin\",\"Vegedream\",\"BLANCO\",\"MYA\",\"BANDIDO\",\"MKTO\",\"PnB Rock\",\"Marc E. Bassy\",\"Marc Anthony\",\"Sara Kays\",\"Nause\",\"Rick Ross\",\"SALES\",\"Alexander 23\",\"Vundabar\",\"Norm Ender\",\"Blue Ivy\",\"Summer Cem\",\"Tyla Yaweh\",\"Kep1er\",\"MC G15\",\"Young M.A\",\"Kontra K\",\"Yung Lean\",\"Rammstein\",\"Kawe\",\"Cash Cash\",\"Juanfran\",\"Fero47\",\"Paloma Mami\",\"Cordae\",\"Natalie Taylor\",\"Lil Durk\",\"Nimo\",\"Matthew Wilder\",\"Thiaguinho MT\",\"Donny Hathaway\",\"Jennifer Lopez\",\"Gradur\",\"tha Supreme\",\"Edison Lighthouse\",\"Marracash\",\"Omar Montes\",\"WOS\",\"YoungBoy Never Broke Again\",\"Murda\",\"Diane Guerrero\",\"Dermot Kennedy\",\"Gambi\",\"Sub Urban\",\"Vicetone\",\"Swae Lee\",\"FLETCHER\",\"Miksu / Macloud\",\"Luke Combs\",\"ENHYPEN\",\"Reynmen\",\"James Hersey\",\"Damso\",\"Fuego\",\"Jung Kook\",\"Fivio Foreign\",\"Octavian\",\"MC L da Vinte\",\"Nelly Furtado\",\"DDG\",\"Migrantes\",\"Eagles\",\"Petter Ferraz\",\"KASIMIR1441\",\"DJ Matt D\",\"State of Sound\",\"Central Cee\",\"One Direction\",\"Bea Miller\",\"Maren Morris\",\"187 Strassenbande\",\"VIZE\",\"Jowell & Randy\",\"El Alfa\",\"YUNGBLUD\",\"Irama\",\"UZI\",\"Kevin Gates\",\"Nicky Youre\",\"Daft Punk\",\"LE SSERAFIM\",\"Stephen Sanchez\",\"KALUSH\",\"SiM\",\"Sam Ryder\",\"Chanel\",\"The Goo Goo Dolls\",\"MC Rogerinho\",\"TREASURE\",\"Jovem Dionisio\",\"Foo Fighters\",\"Morat\",\"Omah Lay\",\"Alonzo\",\"Slade\",\"Ak4:20\",\"Rockwell\",\"aespa\",\"JIN\",\"PSY\",\"Red Hot Chili Peppers\",\"t-low\",\"$NOT\",\"King Von\",\"Tokischa\",\"(G)I-DLE\",\"La rappresentante di lista\",\"Rkomi\",\"Amy Grant\",\"girl in red\",\"BIGBANG\",\"Skylar Grey\",\"MC Levin\",\"The Game\",\"Guns N' Roses\",\"Wizzard\",\"Southside\",\"David Kushner\",\"Nardo Wick\",\"Teto\",\"Thirty Seconds To Mars\",\"WizKid\",\"Judy Garland\",\"Paul Rosenberg\",\"Social House\",\"Frenna\",\"Russ\",\"GASHI\",\"Veysel\",\"Mumford & Sons\",\"Anderson .Paak\",\"Stargate\",\"Ray Parker Jr.\",\"EXO\",\"Stan Kenton\",\"Peter Manos\",\"Gene Autry\",\"Tove Lo\",\"LX\",\"DENNIS\",\"M\\u00e1rcia Fellipe\",\"Gabriel Diniz\",\"James Blake\",\"Luch\\u00e8\",\"The Rudeboyz\",\"Ultimo\",\"Azet\",\"Solange\",\"Cauty\",\"Nipsey Hussle\",\"Don Patricio\",\"Aretha Franklin\",\"MiC LOWRY\",\"Montez\",\"KALEO\",\"Thomas Gold\",\"Tom Petty\",\"Joakim Lundell\",\"Grey\",\"De La Ghetto\",\"Vince Guaraldi Trio\",\"MC Kevinho\",\"Outkast\",\"MC's Jhowzinho & Kadinho\",\"Matt Terry\",\"Michelle Williams\",\"Carnage\",\"Ghali\",\"Ab-Soul\",\"Aitana\",\"Mozzy\",\"MC Loma e As G\\u00eameas Lacra\\u00e7\\u00e3o\",\"V\\u00c9RIT\\u00c9\",\"Poo Bear\",\"Capo Plaza\",\"Mason Ramsey\",\"MC MM\",\"Charlie Charles\",\"Florence + The Machine\",\"Netta\",\"Eleni Foureira\",\"Tee Grizzley\",\"Joel Adams\",\"Slipknot\",\"Gemitaiz\",\"Nekfeu\",\"H.E.R.\",\"twocolors\",\"13 Organis\\u00e9\",\"Trio Vegabaje\\u00f1o\",\"Studio Killers\",\"347aidan\",\"Erica Banks\",\"Joey Bada$$\",\"Madame\",\"Francesca Michielin\",\"Booba\",\"Hippie Sabotage\",\"Pamungkas\",\"Zoe Wees\",\"Mimi Webb\",\"Naomi Scott\",\"Barbara Pravi\",\"Blind Channel\",\"Go_A\",\"Gjon's Tears\",\"Dream\",\"Da\\u00f0i Freyr\",\"Mc Poze do Rodo\",\"Soso Maness\",\"Matt Maltese\",\"MC Zaquin\",\"Big Red Machine\",\"Bas\",\"BIA\",\"Red Velvet - IRENE & SEULGI\",\"Boomdabash\",\"iann dior\",\"Shablo\",\"Kalazh44\",\"Mambo Kingz\",\"JAY-Z\",\"The Cratez\",\"Sido\",\"j-hope\",\"SuperM\",\"thasup\",\"True Damage\",\"Iggy Azalea\",\"Train\",\"C\\u00e9line Dion\",\"Boef\",\"Maes\",\"Gzuz\",\"Joker Bra\",\"K CAMP\",\"Jhen\\u00e9 Aiko\",\"Shiva\",\"Zuna\",\"Banda MS de Sergio Liz\\u00e1rraga\",\"IU\",\"Agust D\",\"jxdn\",\"AK AUSSERKONTROLLE\",\"KALIM\",\"Bosh\",\"Paloma Faith\"],\"y\":[431,398,356,317,298,253,248,243,233,231,220,202,181,175,170,170,165,162,162,150,145,140,127,125,123,117,117,112,111,110,109,103,102,102,101,99,98,98,97,92,91,91,91,85,85,84,84,83,81,80,79,76,74,71,68,67,66,66,64,64,64,63,61,60,59,55,55,54,54,54,53,52,52,52,51,51,50,49,49,49,49,49,48,48,48,47,46,46,46,45,44,44,44,44,43,41,41,41,41,40,40,40,40,39,39,39,38,37,37,37,37,37,36,36,35,35,35,35,35,35,35,34,34,34,33,33,33,33,32,32,32,32,32,32,32,32,32,32,32,31,31,31,31,31,31,31,31,31,31,30,30,30,30,29,28,28,28,28,28,27,27,27,26,26,26,26,25,25,25,25,25,25,25,25,25,25,24,24,24,24,24,24,24,23,23,23,22,22,22,22,21,21,21,21,21,21,21,21,20,20,20,20,20,19,19,19,19,19,19,19,19,19,18,18,18,18,18,18,18,17,17,17,17,17,17,17,17,17,17,17,17,16,16,16,16,16,16,16,16,16,16,16,16,16,16,16,15,15,15,15,15,15,14,14,14,14,14,14,14,14,14,14,13,13,13,13,13,13,13,13,13,13,12,12,12,12,12,12,12,12,12,12,12,12,12,12,12,11,11,11,11,11,11,11,11,11,11,11,11,11,11,11,11,11,11,11,10,10,10,10,10,10,10,10,10,10,10,10,10,10,10,10,10,10,10,10,10,10,9,9,9,9,9,9,9,9,9,9,9,9,9,9,9,9,9,9,9,9,9,9,9,9,9,9,8,8,8,8,8,8,8,8,8,8,8,8,8,8,8,8,8,8,8,8,8,8,8,8,8,8,8,8,8,8,8,8,8,7,7,7,7,7,7,7,7,7,7,7,7,7,7,7,7,7,7,7,7,7,7,7,7,7,7,7,7,7,7,7,7,7,7,7,7,7,7,7,7,7,7,7,7,7,7,7,7,6,6,6,6,6,6,6,6,6,6,6,6,6,6,6,6,6,6,6,6,6,6,6,6,6,6,6,6,6,6,6,6,6,6,6,6,6,6,6,6,6,6,6,6,6,6,6,6,6,6,6,6,6,5,5,5,5,5,5,5,5,5,5,5,5,5,5,5,5,5,5,5,5,5,5,5,5,5,5,5,5,5,5,5,5,5,5,5,5,5,5,5,5,5,5,5,5,5,5,5,5,5,5,5,5,5,5,5,5,5,5,5,5,4,4,4,4,4,4,4,4,4,4,4,4,4,4,4,4,4,4,4,4,4,4,4,4,4,4,4,4,4,4,4,4,4,4,4,4,4,4,4,4,4,4,4,4,4,4,4,4,4,4,4,4,4,4,4,4,4,4,4,4,4,4,4,4,4,4,4,4,4,4,4,4,4,3,3,3,3,3,3,3,3,3,3,3,3,3,3,3,3,3,3,3,3,3,3,3,3,3,3,3,3,3,3,3,3,3,3,3,3,3,3,3,3,3,3,3,3,3,3,3,3,3,3,3,3,3,3,3,3,3,3,3,3,3,3,3,3,3,3,3,3,3,3,3,3,3,3,3,3,3,3,3,3,3,3,3,3,3,3,3,3,3,3,3,3,3,3,3,3,2,2,2,2,2,2,2,2,2,2,2,2,2,2,2,2,2,2,2,2,2,2,2,2,2,2,2,2,2,2,2,2,2,2,2,2,2,2,2,2,2,2,2,2,2,2,2,2,2,2,2,2,2,2,2,2,2,2,2,2,2,2,2,2,2,2,2,2,2,2,2,2,2,2,2,2,2,2,2,2,2,2,2,2,2,2,2,2,2,2,2,2,2,2,2,2,2,2,2,2,2,2,2,2,2,2,2,2,2,2,2,2,2,2,2,2,2,2,2,2,2,2,2,2,2,2,2,2,2,2,2,2,2,2,2,2,2,2,1,1,1,1,1,1,1,1,1,1,1,1,1,1,1,1,1,1,1,1,1,1,1,1,1,1,1,1,1,1,1,1,1,1,1,1,1,1,1,1,1,1,1,1,1,1,1,1,1,1,1,1,1,1,1,1,1,1,1,1,1,1,1,1,1,1,1,1,1,1,1,1,1,1,1,1,1,1,1,1,1,1,1,1,1,1,1,1,1,1,1,1,1,1,1,1,1,1,1,1,1,1,1,1,1,1,1,1,1,1,1,1,1,1,1,1,1,1,1,1,1,1,1,1,1,1,1,1,1,1,1,1,1,1,1,1,1,1,1,1,1,1,1,1,1,1,1,1,1,1,1,1,1,1,1,1,1,1,1,1,1,1,1,1,1,1,1,1,1,1,1],\"type\":\"bar\",\"xaxis\":\"x2\",\"yaxis\":\"y2\"}],                        {\"template\":{\"data\":{\"bar\":[{\"error_x\":{\"color\":\"#2a3f5f\"},\"error_y\":{\"color\":\"#2a3f5f\"},\"marker\":{\"line\":{\"color\":\"#E5ECF6\",\"width\":0.5},\"pattern\":{\"fillmode\":\"overlay\",\"size\":10,\"solidity\":0.2}},\"type\":\"bar\"}],\"barpolar\":[{\"marker\":{\"line\":{\"color\":\"#E5ECF6\",\"width\":0.5},\"pattern\":{\"fillmode\":\"overlay\",\"size\":10,\"solidity\":0.2}},\"type\":\"barpolar\"}],\"carpet\":[{\"aaxis\":{\"endlinecolor\":\"#2a3f5f\",\"gridcolor\":\"white\",\"linecolor\":\"white\",\"minorgridcolor\":\"white\",\"startlinecolor\":\"#2a3f5f\"},\"baxis\":{\"endlinecolor\":\"#2a3f5f\",\"gridcolor\":\"white\",\"linecolor\":\"white\",\"minorgridcolor\":\"white\",\"startlinecolor\":\"#2a3f5f\"},\"type\":\"carpet\"}],\"choropleth\":[{\"colorbar\":{\"outlinewidth\":0,\"ticks\":\"\"},\"type\":\"choropleth\"}],\"contour\":[{\"colorbar\":{\"outlinewidth\":0,\"ticks\":\"\"},\"colorscale\":[[0.0,\"#0d0887\"],[0.1111111111111111,\"#46039f\"],[0.2222222222222222,\"#7201a8\"],[0.3333333333333333,\"#9c179e\"],[0.4444444444444444,\"#bd3786\"],[0.5555555555555556,\"#d8576b\"],[0.6666666666666666,\"#ed7953\"],[0.7777777777777778,\"#fb9f3a\"],[0.8888888888888888,\"#fdca26\"],[1.0,\"#f0f921\"]],\"type\":\"contour\"}],\"contourcarpet\":[{\"colorbar\":{\"outlinewidth\":0,\"ticks\":\"\"},\"type\":\"contourcarpet\"}],\"heatmap\":[{\"colorbar\":{\"outlinewidth\":0,\"ticks\":\"\"},\"colorscale\":[[0.0,\"#0d0887\"],[0.1111111111111111,\"#46039f\"],[0.2222222222222222,\"#7201a8\"],[0.3333333333333333,\"#9c179e\"],[0.4444444444444444,\"#bd3786\"],[0.5555555555555556,\"#d8576b\"],[0.6666666666666666,\"#ed7953\"],[0.7777777777777778,\"#fb9f3a\"],[0.8888888888888888,\"#fdca26\"],[1.0,\"#f0f921\"]],\"type\":\"heatmap\"}],\"heatmapgl\":[{\"colorbar\":{\"outlinewidth\":0,\"ticks\":\"\"},\"colorscale\":[[0.0,\"#0d0887\"],[0.1111111111111111,\"#46039f\"],[0.2222222222222222,\"#7201a8\"],[0.3333333333333333,\"#9c179e\"],[0.4444444444444444,\"#bd3786\"],[0.5555555555555556,\"#d8576b\"],[0.6666666666666666,\"#ed7953\"],[0.7777777777777778,\"#fb9f3a\"],[0.8888888888888888,\"#fdca26\"],[1.0,\"#f0f921\"]],\"type\":\"heatmapgl\"}],\"histogram\":[{\"marker\":{\"pattern\":{\"fillmode\":\"overlay\",\"size\":10,\"solidity\":0.2}},\"type\":\"histogram\"}],\"histogram2d\":[{\"colorbar\":{\"outlinewidth\":0,\"ticks\":\"\"},\"colorscale\":[[0.0,\"#0d0887\"],[0.1111111111111111,\"#46039f\"],[0.2222222222222222,\"#7201a8\"],[0.3333333333333333,\"#9c179e\"],[0.4444444444444444,\"#bd3786\"],[0.5555555555555556,\"#d8576b\"],[0.6666666666666666,\"#ed7953\"],[0.7777777777777778,\"#fb9f3a\"],[0.8888888888888888,\"#fdca26\"],[1.0,\"#f0f921\"]],\"type\":\"histogram2d\"}],\"histogram2dcontour\":[{\"colorbar\":{\"outlinewidth\":0,\"ticks\":\"\"},\"colorscale\":[[0.0,\"#0d0887\"],[0.1111111111111111,\"#46039f\"],[0.2222222222222222,\"#7201a8\"],[0.3333333333333333,\"#9c179e\"],[0.4444444444444444,\"#bd3786\"],[0.5555555555555556,\"#d8576b\"],[0.6666666666666666,\"#ed7953\"],[0.7777777777777778,\"#fb9f3a\"],[0.8888888888888888,\"#fdca26\"],[1.0,\"#f0f921\"]],\"type\":\"histogram2dcontour\"}],\"mesh3d\":[{\"colorbar\":{\"outlinewidth\":0,\"ticks\":\"\"},\"type\":\"mesh3d\"}],\"parcoords\":[{\"line\":{\"colorbar\":{\"outlinewidth\":0,\"ticks\":\"\"}},\"type\":\"parcoords\"}],\"pie\":[{\"automargin\":true,\"type\":\"pie\"}],\"scatter\":[{\"marker\":{\"colorbar\":{\"outlinewidth\":0,\"ticks\":\"\"}},\"type\":\"scatter\"}],\"scatter3d\":[{\"line\":{\"colorbar\":{\"outlinewidth\":0,\"ticks\":\"\"}},\"marker\":{\"colorbar\":{\"outlinewidth\":0,\"ticks\":\"\"}},\"type\":\"scatter3d\"}],\"scattercarpet\":[{\"marker\":{\"colorbar\":{\"outlinewidth\":0,\"ticks\":\"\"}},\"type\":\"scattercarpet\"}],\"scattergeo\":[{\"marker\":{\"colorbar\":{\"outlinewidth\":0,\"ticks\":\"\"}},\"type\":\"scattergeo\"}],\"scattergl\":[{\"marker\":{\"colorbar\":{\"outlinewidth\":0,\"ticks\":\"\"}},\"type\":\"scattergl\"}],\"scattermapbox\":[{\"marker\":{\"colorbar\":{\"outlinewidth\":0,\"ticks\":\"\"}},\"type\":\"scattermapbox\"}],\"scatterpolar\":[{\"marker\":{\"colorbar\":{\"outlinewidth\":0,\"ticks\":\"\"}},\"type\":\"scatterpolar\"}],\"scatterpolargl\":[{\"marker\":{\"colorbar\":{\"outlinewidth\":0,\"ticks\":\"\"}},\"type\":\"scatterpolargl\"}],\"scatterternary\":[{\"marker\":{\"colorbar\":{\"outlinewidth\":0,\"ticks\":\"\"}},\"type\":\"scatterternary\"}],\"surface\":[{\"colorbar\":{\"outlinewidth\":0,\"ticks\":\"\"},\"colorscale\":[[0.0,\"#0d0887\"],[0.1111111111111111,\"#46039f\"],[0.2222222222222222,\"#7201a8\"],[0.3333333333333333,\"#9c179e\"],[0.4444444444444444,\"#bd3786\"],[0.5555555555555556,\"#d8576b\"],[0.6666666666666666,\"#ed7953\"],[0.7777777777777778,\"#fb9f3a\"],[0.8888888888888888,\"#fdca26\"],[1.0,\"#f0f921\"]],\"type\":\"surface\"}],\"table\":[{\"cells\":{\"fill\":{\"color\":\"#EBF0F8\"},\"line\":{\"color\":\"white\"}},\"header\":{\"fill\":{\"color\":\"#C8D4E3\"},\"line\":{\"color\":\"white\"}},\"type\":\"table\"}]},\"layout\":{\"annotationdefaults\":{\"arrowcolor\":\"#2a3f5f\",\"arrowhead\":0,\"arrowwidth\":1},\"autotypenumbers\":\"strict\",\"coloraxis\":{\"colorbar\":{\"outlinewidth\":0,\"ticks\":\"\"}},\"colorscale\":{\"diverging\":[[0,\"#8e0152\"],[0.1,\"#c51b7d\"],[0.2,\"#de77ae\"],[0.3,\"#f1b6da\"],[0.4,\"#fde0ef\"],[0.5,\"#f7f7f7\"],[0.6,\"#e6f5d0\"],[0.7,\"#b8e186\"],[0.8,\"#7fbc41\"],[0.9,\"#4d9221\"],[1,\"#276419\"]],\"sequential\":[[0.0,\"#0d0887\"],[0.1111111111111111,\"#46039f\"],[0.2222222222222222,\"#7201a8\"],[0.3333333333333333,\"#9c179e\"],[0.4444444444444444,\"#bd3786\"],[0.5555555555555556,\"#d8576b\"],[0.6666666666666666,\"#ed7953\"],[0.7777777777777778,\"#fb9f3a\"],[0.8888888888888888,\"#fdca26\"],[1.0,\"#f0f921\"]],\"sequentialminus\":[[0.0,\"#0d0887\"],[0.1111111111111111,\"#46039f\"],[0.2222222222222222,\"#7201a8\"],[0.3333333333333333,\"#9c179e\"],[0.4444444444444444,\"#bd3786\"],[0.5555555555555556,\"#d8576b\"],[0.6666666666666666,\"#ed7953\"],[0.7777777777777778,\"#fb9f3a\"],[0.8888888888888888,\"#fdca26\"],[1.0,\"#f0f921\"]]},\"colorway\":[\"#636efa\",\"#EF553B\",\"#00cc96\",\"#ab63fa\",\"#FFA15A\",\"#19d3f3\",\"#FF6692\",\"#B6E880\",\"#FF97FF\",\"#FECB52\"],\"font\":{\"color\":\"#2a3f5f\"},\"geo\":{\"bgcolor\":\"white\",\"lakecolor\":\"white\",\"landcolor\":\"#E5ECF6\",\"showlakes\":true,\"showland\":true,\"subunitcolor\":\"white\"},\"hoverlabel\":{\"align\":\"left\"},\"hovermode\":\"closest\",\"mapbox\":{\"style\":\"light\"},\"paper_bgcolor\":\"white\",\"plot_bgcolor\":\"#E5ECF6\",\"polar\":{\"angularaxis\":{\"gridcolor\":\"white\",\"linecolor\":\"white\",\"ticks\":\"\"},\"bgcolor\":\"#E5ECF6\",\"radialaxis\":{\"gridcolor\":\"white\",\"linecolor\":\"white\",\"ticks\":\"\"}},\"scene\":{\"xaxis\":{\"backgroundcolor\":\"#E5ECF6\",\"gridcolor\":\"white\",\"gridwidth\":2,\"linecolor\":\"white\",\"showbackground\":true,\"ticks\":\"\",\"zerolinecolor\":\"white\"},\"yaxis\":{\"backgroundcolor\":\"#E5ECF6\",\"gridcolor\":\"white\",\"gridwidth\":2,\"linecolor\":\"white\",\"showbackground\":true,\"ticks\":\"\",\"zerolinecolor\":\"white\"},\"zaxis\":{\"backgroundcolor\":\"#E5ECF6\",\"gridcolor\":\"white\",\"gridwidth\":2,\"linecolor\":\"white\",\"showbackground\":true,\"ticks\":\"\",\"zerolinecolor\":\"white\"}},\"shapedefaults\":{\"line\":{\"color\":\"#2a3f5f\"}},\"ternary\":{\"aaxis\":{\"gridcolor\":\"white\",\"linecolor\":\"white\",\"ticks\":\"\"},\"baxis\":{\"gridcolor\":\"white\",\"linecolor\":\"white\",\"ticks\":\"\"},\"bgcolor\":\"#E5ECF6\",\"caxis\":{\"gridcolor\":\"white\",\"linecolor\":\"white\",\"ticks\":\"\"}},\"title\":{\"x\":0.05},\"xaxis\":{\"automargin\":true,\"gridcolor\":\"white\",\"linecolor\":\"white\",\"ticks\":\"\",\"title\":{\"standoff\":15},\"zerolinecolor\":\"white\",\"zerolinewidth\":2},\"yaxis\":{\"automargin\":true,\"gridcolor\":\"white\",\"linecolor\":\"white\",\"ticks\":\"\",\"title\":{\"standoff\":15},\"zerolinecolor\":\"white\",\"zerolinewidth\":2}}},\"xaxis\":{\"anchor\":\"y\",\"domain\":[0.0,0.45],\"title\":{\"text\":\"Artysta\"}},\"yaxis\":{\"anchor\":\"x\",\"domain\":[0.0,1.0],\"title\":{\"text\":\"Ilo\\u015b\\u0107 wyst\\u0105pie\\u0144 w rankingu\"}},\"xaxis2\":{\"anchor\":\"y2\",\"domain\":[0.55,1.0],\"title\":{\"text\":\"Artysta\"}},\"yaxis2\":{\"anchor\":\"x2\",\"domain\":[0.0,1.0],\"title\":{\"text\":\"Ilo\\u015b\\u0107 wyst\\u0105pie\\u0144 w rankingu\"}},\"annotations\":[{\"font\":{\"size\":16},\"showarrow\":false,\"text\":\"Spotify Polska\",\"x\":0.225,\"xanchor\":\"center\",\"xref\":\"paper\",\"y\":1.0,\"yanchor\":\"bottom\",\"yref\":\"paper\"},{\"font\":{\"size\":16},\"showarrow\":false,\"text\":\"Spotify Global\",\"x\":0.775,\"xanchor\":\"center\",\"xref\":\"paper\",\"y\":1.0,\"yanchor\":\"bottom\",\"yref\":\"paper\"}],\"title\":{\"text\":\"Najpopularniejsi arty\\u015bci\"},\"height\":600,\"width\":1500},                        {\"responsive\": true}                    ).then(function(){\n",
              "                            \n",
              "var gd = document.getElementById('1f1b5f54-0ebe-4879-a08c-c1c236447fe6');\n",
              "var x = new MutationObserver(function (mutations, observer) {{\n",
              "        var display = window.getComputedStyle(gd).display;\n",
              "        if (!display || display === 'none') {{\n",
              "            console.log([gd, 'removed!']);\n",
              "            Plotly.purge(gd);\n",
              "            observer.disconnect();\n",
              "        }}\n",
              "}});\n",
              "\n",
              "// Listen for the removal of the full notebook cells\n",
              "var notebookContainer = gd.closest('#notebook-container');\n",
              "if (notebookContainer) {{\n",
              "    x.observe(notebookContainer, {childList: true});\n",
              "}}\n",
              "\n",
              "// Listen for the clearing of the current output cell\n",
              "var outputEl = gd.closest('.output');\n",
              "if (outputEl) {{\n",
              "    x.observe(outputEl, {childList: true});\n",
              "}}\n",
              "\n",
              "                        })                };                            </script>        </div>\n",
              "</body>\n",
              "</html>"
            ]
          },
          "metadata": {},
          "output_type": "display_data"
        }
      ],
      "source": [
        "from plotly.subplots import make_subplots\n",
        "import plotly.graph_objects as go\n",
        "\n",
        "fig = make_subplots(rows=1, cols=2, subplot_titles=[\"Spotify Polska\", \"Spotify Global\"])\n",
        "\n",
        "fig.add_trace(\n",
        "    go.Bar(x=data_pl['index'], y=data_pl['artist_1_name']),\n",
        "    row=1, col=1\n",
        ")\n",
        "fig.add_trace(\n",
        "    go.Bar(x=data['index'], y=data['artist_1_name'], ),\n",
        "    row=1, col=2\n",
        ")\n",
        "\n",
        "fig['layout']['xaxis']['title']='Artysta'\n",
        "fig['layout']['xaxis2']['title']='Artysta'\n",
        "fig['layout']['yaxis']['title']='Ilość wystąpień w rankingu'\n",
        "fig['layout']['yaxis2']['title']='Ilość wystąpień w rankingu'\n",
        "\n",
        "fig.update_layout(height=600, width=1500, title_text=\"Najpopularniejsi artyści\")\n",
        "fig.show()"
      ]
    },
    {
      "cell_type": "markdown",
      "metadata": {
        "id": "2FhZppJpBQgs"
      },
      "source": [
        "## Średni czas od daty premiery, a do pierwszego pojawienia się w Weekly Top 100"
      ]
    },
    {
      "cell_type": "code",
      "execution_count": null,
      "metadata": {
        "id": "zEenydt3BQgt"
      },
      "outputs": [],
      "source": [
        "df = funcs.calculate_days_diff(df)\n",
        "df_pl = funcs.calculate_days_diff(df_pl)\n",
        "\n",
        "df = df.drop_duplicates(subset=['track_uri'])\n",
        "df_pl = df_pl.drop_duplicates(subset=['track_uri'])\n",
        "\n",
        "df = df[df['date_diff'] > 0]\n",
        "df_pl = df_pl[df_pl['date_diff'] > 0]"
      ]
    },
    {
      "cell_type": "code",
      "execution_count": null,
      "metadata": {
        "id": "qIxaJDEfBQgt"
      },
      "outputs": [],
      "source": [
        "#df = df[df['week_timestamp'].dt.month != 12]\n",
        "#df_pl = df_pl[df_pl['week_timestamp'].dt.month != 12]\n",
        "\n",
        "df['label'] = 'Spotify Global'\n",
        "df_pl['label'] = 'Spotify Polska'"
      ]
    },
    {
      "cell_type": "markdown",
      "metadata": {
        "id": "ZKMwPvgwBQgu"
      },
      "source": [
        "### Średnia"
      ]
    },
    {
      "cell_type": "markdown",
      "metadata": {
        "id": "kLwSX1-kBQgv"
      },
      "source": [
        "Średnia w przeciwieństwie do mediany jest podatna na anomalie/outliery. "
      ]
    },
    {
      "cell_type": "code",
      "execution_count": null,
      "metadata": {
        "colab": {
          "base_uri": "https://localhost:8080/",
          "height": 542
        },
        "id": "NDLptj6CBQgv",
        "outputId": "88f8ceff-7ddb-4466-b209-1640a2af352f"
      },
      "outputs": [
        {
          "data": {
            "text/html": [
              "<html>\n",
              "<head><meta charset=\"utf-8\" /></head>\n",
              "<body>\n",
              "    <div>            <script src=\"https://cdnjs.cloudflare.com/ajax/libs/mathjax/2.7.5/MathJax.js?config=TeX-AMS-MML_SVG\"></script><script type=\"text/javascript\">if (window.MathJax) {MathJax.Hub.Config({SVG: {font: \"STIX-Web\"}});}</script>                <script type=\"text/javascript\">window.PlotlyConfig = {MathJaxConfig: 'local'};</script>\n",
              "        <script src=\"https://cdn.plot.ly/plotly-2.8.3.min.js\"></script>                <div id=\"f291ea6b-bbda-4ef5-9fa3-6938b390815d\" class=\"plotly-graph-div\" style=\"height:525px; width:100%;\"></div>            <script type=\"text/javascript\">                                    window.PLOTLYENV=window.PLOTLYENV || {};                                    if (document.getElementById(\"f291ea6b-bbda-4ef5-9fa3-6938b390815d\")) {                    Plotly.newPlot(                        \"f291ea6b-bbda-4ef5-9fa3-6938b390815d\",                        [{\"hovertemplate\":\"label=Spotify Global<br>week_timestamp=%{x}<br>date_diff=%{y}<extra></extra>\",\"legendgroup\":\"Spotify Global\",\"line\":{\"color\":\"#636efa\",\"dash\":\"solid\"},\"marker\":{\"symbol\":\"circle\"},\"mode\":\"lines\",\"name\":\"Spotify Global\",\"orientation\":\"v\",\"showlegend\":true,\"x\":[\"2016-12\",\"2017-01\",\"2017-02\",\"2017-03\",\"2017-04\",\"2017-05\",\"2017-06\",\"2017-07\",\"2017-08\",\"2017-09\",\"2017-10\",\"2017-11\",\"2017-12\",\"2018-01\",\"2018-02\",\"2018-03\",\"2018-04\",\"2018-05\",\"2018-06\",\"2018-07\",\"2018-08\",\"2018-09\",\"2018-10\",\"2018-11\",\"2018-12\",\"2019-01\",\"2019-02\",\"2019-03\",\"2019-04\",\"2019-05\",\"2019-06\",\"2019-07\",\"2019-08\",\"2019-09\",\"2019-10\",\"2019-11\",\"2019-12\",\"2020-01\",\"2020-02\",\"2020-03\",\"2020-04\",\"2020-05\",\"2020-06\",\"2020-07\",\"2020-08\",\"2020-09\",\"2020-10\",\"2020-11\",\"2020-12\",\"2021-01\",\"2021-02\",\"2021-03\",\"2021-04\",\"2021-05\",\"2021-06\",\"2021-07\",\"2021-08\",\"2021-09\",\"2021-10\",\"2021-11\",\"2021-12\",\"2022-01\",\"2022-02\",\"2022-03\",\"2022-04\",\"2022-05\"],\"xaxis\":\"x\",\"y\":[1975.6931818181818,916.7878787878788,476.125,30.29032258064516,32.18604651162791,18.135135135135137,111.58333333333333,1034.2903225806451,16.66216216216216,58.58536585365854,372.73809523809524,245.46666666666667,2095.714285714286,591.3880597014926,50.36363636363637,229.4875,251.6206896551724,18.271929824561404,34.01724137931034,224.46153846153845,368.3939393939394,156.9,35.54081632653061,2055.873786407767,4430.691358024691,315.92727272727274,348.1551724137931,260.18055555555554,13.897435897435898,24.04705882352941,246.29333333333332,202.77631578947367,56.80246913580247,8.896103896103897,54.41025641025641,216.5,2799.4736842105262,177.64444444444445,152.29761904761904,15.821428571428571,69.8840579710145,20.651515151515152,171.3181818181818,62.44144144144144,219.625,181.5090909090909,422.3521126760563,197.13793103448276,1204.2727272727273,437.175,882.6216216216217,441.67857142857144,545.0483870967741,49.833333333333336,154.29787234042553,38.86734693877551,130.82758620689654,258.7909090909091,868.8,395.37254901960785,1764.15,939.1269841269841,974.0,752.6031746031746,507.8888888888889,141.5108695652174],\"yaxis\":\"y\",\"type\":\"scatter\"},{\"hovertemplate\":\"label=Spotify Polska<br>week_timestamp=%{x}<br>date_diff=%{y}<extra></extra>\",\"legendgroup\":\"Spotify Polska\",\"line\":{\"color\":\"#EF553B\",\"dash\":\"solid\"},\"marker\":{\"symbol\":\"circle\"},\"mode\":\"lines\",\"name\":\"Spotify Polska\",\"orientation\":\"v\",\"showlegend\":true,\"x\":[\"2016-12\",\"2017-01\",\"2017-02\",\"2017-03\",\"2017-04\",\"2017-05\",\"2017-06\",\"2017-07\",\"2017-08\",\"2017-09\",\"2017-10\",\"2017-11\",\"2017-12\",\"2018-01\",\"2018-02\",\"2018-03\",\"2018-04\",\"2018-05\",\"2018-06\",\"2018-07\",\"2018-08\",\"2018-09\",\"2018-10\",\"2018-11\",\"2018-12\",\"2019-01\",\"2019-02\",\"2019-03\",\"2019-04\",\"2019-05\",\"2019-06\",\"2019-07\",\"2019-08\",\"2019-09\",\"2019-10\",\"2019-11\",\"2019-12\",\"2020-01\",\"2020-02\",\"2020-03\",\"2020-04\",\"2020-05\",\"2020-06\",\"2020-07\",\"2020-08\",\"2020-09\",\"2020-10\",\"2020-11\",\"2020-12\",\"2021-01\",\"2021-02\",\"2021-03\",\"2021-04\",\"2021-05\",\"2021-06\",\"2021-07\",\"2021-08\",\"2021-09\",\"2021-10\",\"2021-11\",\"2021-12\",\"2022-01\",\"2022-02\",\"2022-03\",\"2022-04\",\"2022-05\"],\"xaxis\":\"x\",\"y\":[2648.5842696629215,1685.3333333333333,312.3030303030303,87.76923076923077,237.82926829268294,910.4893617021277,120.20253164556962,851.9,50.127272727272725,90.45454545454545,598.3125,548.9887640449438,4524.857142857143,1850.764705882353,97.33333333333333,47.925233644859816,355.75,61.73,25.44,171.31521739130434,716.4683544303797,31.407894736842106,210.84158415841586,1551.36,2838.7625,339.5111111111111,29.043478260869566,308.41509433962267,18.68,22.98507462686567,36.723076923076924,13.54,51.07272727272727,8.605633802816902,35.54022988505747,35.375,1673.2916666666667,209.7887323943662,12.666666666666666,22.706666666666667,61.26190476190476,70.28888888888889,29.56896551724138,40.87234042553192,76.42,16.20967741935484,79.78333333333333,204.8125,2033.313432835821,78.85714285714286,289.4791666666667,196.2093023255814,133.65060240963857,34.24561403508772,210.15625,60.46774193548387,112.8780487804878,151.14102564102564,121.78688524590164,100.88333333333334,1176.2272727272727,242.67241379310346,537.4117647058823,222.47692307692307,77.22077922077922,41.4],\"yaxis\":\"y\",\"type\":\"scatter\"}],                        {\"template\":{\"data\":{\"bar\":[{\"error_x\":{\"color\":\"#2a3f5f\"},\"error_y\":{\"color\":\"#2a3f5f\"},\"marker\":{\"line\":{\"color\":\"#E5ECF6\",\"width\":0.5},\"pattern\":{\"fillmode\":\"overlay\",\"size\":10,\"solidity\":0.2}},\"type\":\"bar\"}],\"barpolar\":[{\"marker\":{\"line\":{\"color\":\"#E5ECF6\",\"width\":0.5},\"pattern\":{\"fillmode\":\"overlay\",\"size\":10,\"solidity\":0.2}},\"type\":\"barpolar\"}],\"carpet\":[{\"aaxis\":{\"endlinecolor\":\"#2a3f5f\",\"gridcolor\":\"white\",\"linecolor\":\"white\",\"minorgridcolor\":\"white\",\"startlinecolor\":\"#2a3f5f\"},\"baxis\":{\"endlinecolor\":\"#2a3f5f\",\"gridcolor\":\"white\",\"linecolor\":\"white\",\"minorgridcolor\":\"white\",\"startlinecolor\":\"#2a3f5f\"},\"type\":\"carpet\"}],\"choropleth\":[{\"colorbar\":{\"outlinewidth\":0,\"ticks\":\"\"},\"type\":\"choropleth\"}],\"contour\":[{\"colorbar\":{\"outlinewidth\":0,\"ticks\":\"\"},\"colorscale\":[[0.0,\"#0d0887\"],[0.1111111111111111,\"#46039f\"],[0.2222222222222222,\"#7201a8\"],[0.3333333333333333,\"#9c179e\"],[0.4444444444444444,\"#bd3786\"],[0.5555555555555556,\"#d8576b\"],[0.6666666666666666,\"#ed7953\"],[0.7777777777777778,\"#fb9f3a\"],[0.8888888888888888,\"#fdca26\"],[1.0,\"#f0f921\"]],\"type\":\"contour\"}],\"contourcarpet\":[{\"colorbar\":{\"outlinewidth\":0,\"ticks\":\"\"},\"type\":\"contourcarpet\"}],\"heatmap\":[{\"colorbar\":{\"outlinewidth\":0,\"ticks\":\"\"},\"colorscale\":[[0.0,\"#0d0887\"],[0.1111111111111111,\"#46039f\"],[0.2222222222222222,\"#7201a8\"],[0.3333333333333333,\"#9c179e\"],[0.4444444444444444,\"#bd3786\"],[0.5555555555555556,\"#d8576b\"],[0.6666666666666666,\"#ed7953\"],[0.7777777777777778,\"#fb9f3a\"],[0.8888888888888888,\"#fdca26\"],[1.0,\"#f0f921\"]],\"type\":\"heatmap\"}],\"heatmapgl\":[{\"colorbar\":{\"outlinewidth\":0,\"ticks\":\"\"},\"colorscale\":[[0.0,\"#0d0887\"],[0.1111111111111111,\"#46039f\"],[0.2222222222222222,\"#7201a8\"],[0.3333333333333333,\"#9c179e\"],[0.4444444444444444,\"#bd3786\"],[0.5555555555555556,\"#d8576b\"],[0.6666666666666666,\"#ed7953\"],[0.7777777777777778,\"#fb9f3a\"],[0.8888888888888888,\"#fdca26\"],[1.0,\"#f0f921\"]],\"type\":\"heatmapgl\"}],\"histogram\":[{\"marker\":{\"pattern\":{\"fillmode\":\"overlay\",\"size\":10,\"solidity\":0.2}},\"type\":\"histogram\"}],\"histogram2d\":[{\"colorbar\":{\"outlinewidth\":0,\"ticks\":\"\"},\"colorscale\":[[0.0,\"#0d0887\"],[0.1111111111111111,\"#46039f\"],[0.2222222222222222,\"#7201a8\"],[0.3333333333333333,\"#9c179e\"],[0.4444444444444444,\"#bd3786\"],[0.5555555555555556,\"#d8576b\"],[0.6666666666666666,\"#ed7953\"],[0.7777777777777778,\"#fb9f3a\"],[0.8888888888888888,\"#fdca26\"],[1.0,\"#f0f921\"]],\"type\":\"histogram2d\"}],\"histogram2dcontour\":[{\"colorbar\":{\"outlinewidth\":0,\"ticks\":\"\"},\"colorscale\":[[0.0,\"#0d0887\"],[0.1111111111111111,\"#46039f\"],[0.2222222222222222,\"#7201a8\"],[0.3333333333333333,\"#9c179e\"],[0.4444444444444444,\"#bd3786\"],[0.5555555555555556,\"#d8576b\"],[0.6666666666666666,\"#ed7953\"],[0.7777777777777778,\"#fb9f3a\"],[0.8888888888888888,\"#fdca26\"],[1.0,\"#f0f921\"]],\"type\":\"histogram2dcontour\"}],\"mesh3d\":[{\"colorbar\":{\"outlinewidth\":0,\"ticks\":\"\"},\"type\":\"mesh3d\"}],\"parcoords\":[{\"line\":{\"colorbar\":{\"outlinewidth\":0,\"ticks\":\"\"}},\"type\":\"parcoords\"}],\"pie\":[{\"automargin\":true,\"type\":\"pie\"}],\"scatter\":[{\"marker\":{\"colorbar\":{\"outlinewidth\":0,\"ticks\":\"\"}},\"type\":\"scatter\"}],\"scatter3d\":[{\"line\":{\"colorbar\":{\"outlinewidth\":0,\"ticks\":\"\"}},\"marker\":{\"colorbar\":{\"outlinewidth\":0,\"ticks\":\"\"}},\"type\":\"scatter3d\"}],\"scattercarpet\":[{\"marker\":{\"colorbar\":{\"outlinewidth\":0,\"ticks\":\"\"}},\"type\":\"scattercarpet\"}],\"scattergeo\":[{\"marker\":{\"colorbar\":{\"outlinewidth\":0,\"ticks\":\"\"}},\"type\":\"scattergeo\"}],\"scattergl\":[{\"marker\":{\"colorbar\":{\"outlinewidth\":0,\"ticks\":\"\"}},\"type\":\"scattergl\"}],\"scattermapbox\":[{\"marker\":{\"colorbar\":{\"outlinewidth\":0,\"ticks\":\"\"}},\"type\":\"scattermapbox\"}],\"scatterpolar\":[{\"marker\":{\"colorbar\":{\"outlinewidth\":0,\"ticks\":\"\"}},\"type\":\"scatterpolar\"}],\"scatterpolargl\":[{\"marker\":{\"colorbar\":{\"outlinewidth\":0,\"ticks\":\"\"}},\"type\":\"scatterpolargl\"}],\"scatterternary\":[{\"marker\":{\"colorbar\":{\"outlinewidth\":0,\"ticks\":\"\"}},\"type\":\"scatterternary\"}],\"surface\":[{\"colorbar\":{\"outlinewidth\":0,\"ticks\":\"\"},\"colorscale\":[[0.0,\"#0d0887\"],[0.1111111111111111,\"#46039f\"],[0.2222222222222222,\"#7201a8\"],[0.3333333333333333,\"#9c179e\"],[0.4444444444444444,\"#bd3786\"],[0.5555555555555556,\"#d8576b\"],[0.6666666666666666,\"#ed7953\"],[0.7777777777777778,\"#fb9f3a\"],[0.8888888888888888,\"#fdca26\"],[1.0,\"#f0f921\"]],\"type\":\"surface\"}],\"table\":[{\"cells\":{\"fill\":{\"color\":\"#EBF0F8\"},\"line\":{\"color\":\"white\"}},\"header\":{\"fill\":{\"color\":\"#C8D4E3\"},\"line\":{\"color\":\"white\"}},\"type\":\"table\"}]},\"layout\":{\"annotationdefaults\":{\"arrowcolor\":\"#2a3f5f\",\"arrowhead\":0,\"arrowwidth\":1},\"autotypenumbers\":\"strict\",\"coloraxis\":{\"colorbar\":{\"outlinewidth\":0,\"ticks\":\"\"}},\"colorscale\":{\"diverging\":[[0,\"#8e0152\"],[0.1,\"#c51b7d\"],[0.2,\"#de77ae\"],[0.3,\"#f1b6da\"],[0.4,\"#fde0ef\"],[0.5,\"#f7f7f7\"],[0.6,\"#e6f5d0\"],[0.7,\"#b8e186\"],[0.8,\"#7fbc41\"],[0.9,\"#4d9221\"],[1,\"#276419\"]],\"sequential\":[[0.0,\"#0d0887\"],[0.1111111111111111,\"#46039f\"],[0.2222222222222222,\"#7201a8\"],[0.3333333333333333,\"#9c179e\"],[0.4444444444444444,\"#bd3786\"],[0.5555555555555556,\"#d8576b\"],[0.6666666666666666,\"#ed7953\"],[0.7777777777777778,\"#fb9f3a\"],[0.8888888888888888,\"#fdca26\"],[1.0,\"#f0f921\"]],\"sequentialminus\":[[0.0,\"#0d0887\"],[0.1111111111111111,\"#46039f\"],[0.2222222222222222,\"#7201a8\"],[0.3333333333333333,\"#9c179e\"],[0.4444444444444444,\"#bd3786\"],[0.5555555555555556,\"#d8576b\"],[0.6666666666666666,\"#ed7953\"],[0.7777777777777778,\"#fb9f3a\"],[0.8888888888888888,\"#fdca26\"],[1.0,\"#f0f921\"]]},\"colorway\":[\"#636efa\",\"#EF553B\",\"#00cc96\",\"#ab63fa\",\"#FFA15A\",\"#19d3f3\",\"#FF6692\",\"#B6E880\",\"#FF97FF\",\"#FECB52\"],\"font\":{\"color\":\"#2a3f5f\"},\"geo\":{\"bgcolor\":\"white\",\"lakecolor\":\"white\",\"landcolor\":\"#E5ECF6\",\"showlakes\":true,\"showland\":true,\"subunitcolor\":\"white\"},\"hoverlabel\":{\"align\":\"left\"},\"hovermode\":\"closest\",\"mapbox\":{\"style\":\"light\"},\"paper_bgcolor\":\"white\",\"plot_bgcolor\":\"#E5ECF6\",\"polar\":{\"angularaxis\":{\"gridcolor\":\"white\",\"linecolor\":\"white\",\"ticks\":\"\"},\"bgcolor\":\"#E5ECF6\",\"radialaxis\":{\"gridcolor\":\"white\",\"linecolor\":\"white\",\"ticks\":\"\"}},\"scene\":{\"xaxis\":{\"backgroundcolor\":\"#E5ECF6\",\"gridcolor\":\"white\",\"gridwidth\":2,\"linecolor\":\"white\",\"showbackground\":true,\"ticks\":\"\",\"zerolinecolor\":\"white\"},\"yaxis\":{\"backgroundcolor\":\"#E5ECF6\",\"gridcolor\":\"white\",\"gridwidth\":2,\"linecolor\":\"white\",\"showbackground\":true,\"ticks\":\"\",\"zerolinecolor\":\"white\"},\"zaxis\":{\"backgroundcolor\":\"#E5ECF6\",\"gridcolor\":\"white\",\"gridwidth\":2,\"linecolor\":\"white\",\"showbackground\":true,\"ticks\":\"\",\"zerolinecolor\":\"white\"}},\"shapedefaults\":{\"line\":{\"color\":\"#2a3f5f\"}},\"ternary\":{\"aaxis\":{\"gridcolor\":\"white\",\"linecolor\":\"white\",\"ticks\":\"\"},\"baxis\":{\"gridcolor\":\"white\",\"linecolor\":\"white\",\"ticks\":\"\"},\"bgcolor\":\"#E5ECF6\",\"caxis\":{\"gridcolor\":\"white\",\"linecolor\":\"white\",\"ticks\":\"\"}},\"title\":{\"x\":0.05},\"xaxis\":{\"automargin\":true,\"gridcolor\":\"white\",\"linecolor\":\"white\",\"ticks\":\"\",\"title\":{\"standoff\":15},\"zerolinecolor\":\"white\",\"zerolinewidth\":2},\"yaxis\":{\"automargin\":true,\"gridcolor\":\"white\",\"linecolor\":\"white\",\"ticks\":\"\",\"title\":{\"standoff\":15},\"zerolinecolor\":\"white\",\"zerolinewidth\":2}}},\"xaxis\":{\"anchor\":\"y\",\"domain\":[0.0,1.0],\"title\":{\"text\":\"week_timestamp\"}},\"yaxis\":{\"anchor\":\"x\",\"domain\":[0.0,1.0],\"title\":{\"text\":\"date_diff\"}},\"legend\":{\"title\":{\"text\":\"label\"},\"tracegroupgap\":0},\"margin\":{\"t\":60}},                        {\"responsive\": true}                    ).then(function(){\n",
              "                            \n",
              "var gd = document.getElementById('f291ea6b-bbda-4ef5-9fa3-6938b390815d');\n",
              "var x = new MutationObserver(function (mutations, observer) {{\n",
              "        var display = window.getComputedStyle(gd).display;\n",
              "        if (!display || display === 'none') {{\n",
              "            console.log([gd, 'removed!']);\n",
              "            Plotly.purge(gd);\n",
              "            observer.disconnect();\n",
              "        }}\n",
              "}});\n",
              "\n",
              "// Listen for the removal of the full notebook cells\n",
              "var notebookContainer = gd.closest('#notebook-container');\n",
              "if (notebookContainer) {{\n",
              "    x.observe(notebookContainer, {childList: true});\n",
              "}}\n",
              "\n",
              "// Listen for the clearing of the current output cell\n",
              "var outputEl = gd.closest('.output');\n",
              "if (outputEl) {{\n",
              "    x.observe(outputEl, {childList: true});\n",
              "}}\n",
              "\n",
              "                        })                };                            </script>        </div>\n",
              "</body>\n",
              "</html>"
            ]
          },
          "metadata": {},
          "output_type": "display_data"
        }
      ],
      "source": [
        "data = pd.concat([df_pl, df], ignore_index=False)\n",
        "data = funcs.df_period_to_string(data)\n",
        "\n",
        "data_plot = data.groupby(['week_timestamp', 'label']).mean()\n",
        "\n",
        "px.line(data_plot.reset_index(), x='week_timestamp', y='date_diff', color='label')"
      ]
    },
    {
      "cell_type": "markdown",
      "metadata": {
        "id": "PFmronteBQgw"
      },
      "source": [
        "### Mediana"
      ]
    },
    {
      "cell_type": "code",
      "execution_count": null,
      "metadata": {
        "colab": {
          "base_uri": "https://localhost:8080/",
          "height": 542
        },
        "id": "KPjlMghtBQgw",
        "outputId": "5ec847be-6e70-43fa-d73c-e7182a260722"
      },
      "outputs": [
        {
          "data": {
            "text/html": [
              "<html>\n",
              "<head><meta charset=\"utf-8\" /></head>\n",
              "<body>\n",
              "    <div>            <script src=\"https://cdnjs.cloudflare.com/ajax/libs/mathjax/2.7.5/MathJax.js?config=TeX-AMS-MML_SVG\"></script><script type=\"text/javascript\">if (window.MathJax) {MathJax.Hub.Config({SVG: {font: \"STIX-Web\"}});}</script>                <script type=\"text/javascript\">window.PlotlyConfig = {MathJaxConfig: 'local'};</script>\n",
              "        <script src=\"https://cdn.plot.ly/plotly-2.8.3.min.js\"></script>                <div id=\"d0310c44-ebbc-4bfc-a95a-392c6fe8b8d6\" class=\"plotly-graph-div\" style=\"height:525px; width:100%;\"></div>            <script type=\"text/javascript\">                                    window.PLOTLYENV=window.PLOTLYENV || {};                                    if (document.getElementById(\"d0310c44-ebbc-4bfc-a95a-392c6fe8b8d6\")) {                    Plotly.newPlot(                        \"d0310c44-ebbc-4bfc-a95a-392c6fe8b8d6\",                        [{\"hovertemplate\":\"label=Spotify Global<br>week_timestamp=%{x}<br>date_diff=%{y}<extra></extra>\",\"legendgroup\":\"Spotify Global\",\"line\":{\"color\":\"#636efa\",\"dash\":\"solid\"},\"marker\":{\"symbol\":\"circle\"},\"mode\":\"lines\",\"name\":\"Spotify Global\",\"orientation\":\"v\",\"showlegend\":true,\"x\":[\"2016-12\",\"2017-01\",\"2017-02\",\"2017-03\",\"2017-04\",\"2017-05\",\"2017-06\",\"2017-07\",\"2017-08\",\"2017-09\",\"2017-10\",\"2017-11\",\"2017-12\",\"2018-01\",\"2018-02\",\"2018-03\",\"2018-04\",\"2018-05\",\"2018-06\",\"2018-07\",\"2018-08\",\"2018-09\",\"2018-10\",\"2018-11\",\"2018-12\",\"2019-01\",\"2019-02\",\"2019-03\",\"2019-04\",\"2019-05\",\"2019-06\",\"2019-07\",\"2019-08\",\"2019-09\",\"2019-10\",\"2019-11\",\"2019-12\",\"2020-01\",\"2020-02\",\"2020-03\",\"2020-04\",\"2020-05\",\"2020-06\",\"2020-07\",\"2020-08\",\"2020-09\",\"2020-10\",\"2020-11\",\"2020-12\",\"2021-01\",\"2021-02\",\"2021-03\",\"2021-04\",\"2021-05\",\"2021-06\",\"2021-07\",\"2021-08\",\"2021-09\",\"2021-10\",\"2021-11\",\"2021-12\",\"2022-01\",\"2022-02\",\"2022-03\",\"2022-04\",\"2022-05\"],\"xaxis\":\"x\",\"y\":[216.0,191.5,8.5,6.0,6.0,6.0,7.0,7.5,7.0,8.0,6.0,6.0,7.0,11.0,6.0,6.0,6.0,6.0,6.0,6.0,6.0,6.0,6.0,6.0,6.0,8.0,7.0,6.0,6.0,6.0,6.0,6.0,6.0,6.0,6.0,6.5,7.0,6.0,6.0,6.0,6.0,6.0,6.0,6.0,7.0,7.0,6.0,6.0,7.0,7.0,20.0,6.0,6.0,6.0,6.0,6.0,6.0,6.0,11.0,6.0,8.0,11.0,8.0,8.0,7.0,6.0],\"yaxis\":\"y\",\"type\":\"scatter\"},{\"hovertemplate\":\"label=Spotify Polska<br>week_timestamp=%{x}<br>date_diff=%{y}<extra></extra>\",\"legendgroup\":\"Spotify Polska\",\"line\":{\"color\":\"#EF553B\",\"dash\":\"solid\"},\"marker\":{\"symbol\":\"circle\"},\"mode\":\"lines\",\"name\":\"Spotify Polska\",\"orientation\":\"v\",\"showlegend\":true,\"x\":[\"2016-12\",\"2017-01\",\"2017-02\",\"2017-03\",\"2017-04\",\"2017-05\",\"2017-06\",\"2017-07\",\"2017-08\",\"2017-09\",\"2017-10\",\"2017-11\",\"2017-12\",\"2018-01\",\"2018-02\",\"2018-03\",\"2018-04\",\"2018-05\",\"2018-06\",\"2018-07\",\"2018-08\",\"2018-09\",\"2018-10\",\"2018-11\",\"2018-12\",\"2019-01\",\"2019-02\",\"2019-03\",\"2019-04\",\"2019-05\",\"2019-06\",\"2019-07\",\"2019-08\",\"2019-09\",\"2019-10\",\"2019-11\",\"2019-12\",\"2020-01\",\"2020-02\",\"2020-03\",\"2020-04\",\"2020-05\",\"2020-06\",\"2020-07\",\"2020-08\",\"2020-09\",\"2020-10\",\"2020-11\",\"2020-12\",\"2021-01\",\"2021-02\",\"2021-03\",\"2021-04\",\"2021-05\",\"2021-06\",\"2021-07\",\"2021-08\",\"2021-09\",\"2021-10\",\"2021-11\",\"2021-12\",\"2022-01\",\"2022-02\",\"2022-03\",\"2022-04\",\"2022-05\"],\"xaxis\":\"x\",\"y\":[315.0,132.0,55.0,6.0,6.0,7.0,8.0,9.0,7.0,6.0,7.0,6.0,1122.0,149.5,6.0,6.0,6.0,6.0,6.0,6.0,6.0,6.0,6.0,6.0,86.5,27.0,6.0,6.0,6.0,6.0,6.0,6.0,8.0,6.0,6.0,6.0,6.0,6.0,6.0,6.0,6.0,6.0,6.0,6.0,7.5,6.0,7.5,6.0,7.0,6.0,6.5,7.0,7.0,7.0,8.5,6.0,7.0,6.0,6.0,6.0,7.0,7.0,8.0,6.0,7.0,6.0],\"yaxis\":\"y\",\"type\":\"scatter\"}],                        {\"template\":{\"data\":{\"bar\":[{\"error_x\":{\"color\":\"#2a3f5f\"},\"error_y\":{\"color\":\"#2a3f5f\"},\"marker\":{\"line\":{\"color\":\"#E5ECF6\",\"width\":0.5},\"pattern\":{\"fillmode\":\"overlay\",\"size\":10,\"solidity\":0.2}},\"type\":\"bar\"}],\"barpolar\":[{\"marker\":{\"line\":{\"color\":\"#E5ECF6\",\"width\":0.5},\"pattern\":{\"fillmode\":\"overlay\",\"size\":10,\"solidity\":0.2}},\"type\":\"barpolar\"}],\"carpet\":[{\"aaxis\":{\"endlinecolor\":\"#2a3f5f\",\"gridcolor\":\"white\",\"linecolor\":\"white\",\"minorgridcolor\":\"white\",\"startlinecolor\":\"#2a3f5f\"},\"baxis\":{\"endlinecolor\":\"#2a3f5f\",\"gridcolor\":\"white\",\"linecolor\":\"white\",\"minorgridcolor\":\"white\",\"startlinecolor\":\"#2a3f5f\"},\"type\":\"carpet\"}],\"choropleth\":[{\"colorbar\":{\"outlinewidth\":0,\"ticks\":\"\"},\"type\":\"choropleth\"}],\"contour\":[{\"colorbar\":{\"outlinewidth\":0,\"ticks\":\"\"},\"colorscale\":[[0.0,\"#0d0887\"],[0.1111111111111111,\"#46039f\"],[0.2222222222222222,\"#7201a8\"],[0.3333333333333333,\"#9c179e\"],[0.4444444444444444,\"#bd3786\"],[0.5555555555555556,\"#d8576b\"],[0.6666666666666666,\"#ed7953\"],[0.7777777777777778,\"#fb9f3a\"],[0.8888888888888888,\"#fdca26\"],[1.0,\"#f0f921\"]],\"type\":\"contour\"}],\"contourcarpet\":[{\"colorbar\":{\"outlinewidth\":0,\"ticks\":\"\"},\"type\":\"contourcarpet\"}],\"heatmap\":[{\"colorbar\":{\"outlinewidth\":0,\"ticks\":\"\"},\"colorscale\":[[0.0,\"#0d0887\"],[0.1111111111111111,\"#46039f\"],[0.2222222222222222,\"#7201a8\"],[0.3333333333333333,\"#9c179e\"],[0.4444444444444444,\"#bd3786\"],[0.5555555555555556,\"#d8576b\"],[0.6666666666666666,\"#ed7953\"],[0.7777777777777778,\"#fb9f3a\"],[0.8888888888888888,\"#fdca26\"],[1.0,\"#f0f921\"]],\"type\":\"heatmap\"}],\"heatmapgl\":[{\"colorbar\":{\"outlinewidth\":0,\"ticks\":\"\"},\"colorscale\":[[0.0,\"#0d0887\"],[0.1111111111111111,\"#46039f\"],[0.2222222222222222,\"#7201a8\"],[0.3333333333333333,\"#9c179e\"],[0.4444444444444444,\"#bd3786\"],[0.5555555555555556,\"#d8576b\"],[0.6666666666666666,\"#ed7953\"],[0.7777777777777778,\"#fb9f3a\"],[0.8888888888888888,\"#fdca26\"],[1.0,\"#f0f921\"]],\"type\":\"heatmapgl\"}],\"histogram\":[{\"marker\":{\"pattern\":{\"fillmode\":\"overlay\",\"size\":10,\"solidity\":0.2}},\"type\":\"histogram\"}],\"histogram2d\":[{\"colorbar\":{\"outlinewidth\":0,\"ticks\":\"\"},\"colorscale\":[[0.0,\"#0d0887\"],[0.1111111111111111,\"#46039f\"],[0.2222222222222222,\"#7201a8\"],[0.3333333333333333,\"#9c179e\"],[0.4444444444444444,\"#bd3786\"],[0.5555555555555556,\"#d8576b\"],[0.6666666666666666,\"#ed7953\"],[0.7777777777777778,\"#fb9f3a\"],[0.8888888888888888,\"#fdca26\"],[1.0,\"#f0f921\"]],\"type\":\"histogram2d\"}],\"histogram2dcontour\":[{\"colorbar\":{\"outlinewidth\":0,\"ticks\":\"\"},\"colorscale\":[[0.0,\"#0d0887\"],[0.1111111111111111,\"#46039f\"],[0.2222222222222222,\"#7201a8\"],[0.3333333333333333,\"#9c179e\"],[0.4444444444444444,\"#bd3786\"],[0.5555555555555556,\"#d8576b\"],[0.6666666666666666,\"#ed7953\"],[0.7777777777777778,\"#fb9f3a\"],[0.8888888888888888,\"#fdca26\"],[1.0,\"#f0f921\"]],\"type\":\"histogram2dcontour\"}],\"mesh3d\":[{\"colorbar\":{\"outlinewidth\":0,\"ticks\":\"\"},\"type\":\"mesh3d\"}],\"parcoords\":[{\"line\":{\"colorbar\":{\"outlinewidth\":0,\"ticks\":\"\"}},\"type\":\"parcoords\"}],\"pie\":[{\"automargin\":true,\"type\":\"pie\"}],\"scatter\":[{\"marker\":{\"colorbar\":{\"outlinewidth\":0,\"ticks\":\"\"}},\"type\":\"scatter\"}],\"scatter3d\":[{\"line\":{\"colorbar\":{\"outlinewidth\":0,\"ticks\":\"\"}},\"marker\":{\"colorbar\":{\"outlinewidth\":0,\"ticks\":\"\"}},\"type\":\"scatter3d\"}],\"scattercarpet\":[{\"marker\":{\"colorbar\":{\"outlinewidth\":0,\"ticks\":\"\"}},\"type\":\"scattercarpet\"}],\"scattergeo\":[{\"marker\":{\"colorbar\":{\"outlinewidth\":0,\"ticks\":\"\"}},\"type\":\"scattergeo\"}],\"scattergl\":[{\"marker\":{\"colorbar\":{\"outlinewidth\":0,\"ticks\":\"\"}},\"type\":\"scattergl\"}],\"scattermapbox\":[{\"marker\":{\"colorbar\":{\"outlinewidth\":0,\"ticks\":\"\"}},\"type\":\"scattermapbox\"}],\"scatterpolar\":[{\"marker\":{\"colorbar\":{\"outlinewidth\":0,\"ticks\":\"\"}},\"type\":\"scatterpolar\"}],\"scatterpolargl\":[{\"marker\":{\"colorbar\":{\"outlinewidth\":0,\"ticks\":\"\"}},\"type\":\"scatterpolargl\"}],\"scatterternary\":[{\"marker\":{\"colorbar\":{\"outlinewidth\":0,\"ticks\":\"\"}},\"type\":\"scatterternary\"}],\"surface\":[{\"colorbar\":{\"outlinewidth\":0,\"ticks\":\"\"},\"colorscale\":[[0.0,\"#0d0887\"],[0.1111111111111111,\"#46039f\"],[0.2222222222222222,\"#7201a8\"],[0.3333333333333333,\"#9c179e\"],[0.4444444444444444,\"#bd3786\"],[0.5555555555555556,\"#d8576b\"],[0.6666666666666666,\"#ed7953\"],[0.7777777777777778,\"#fb9f3a\"],[0.8888888888888888,\"#fdca26\"],[1.0,\"#f0f921\"]],\"type\":\"surface\"}],\"table\":[{\"cells\":{\"fill\":{\"color\":\"#EBF0F8\"},\"line\":{\"color\":\"white\"}},\"header\":{\"fill\":{\"color\":\"#C8D4E3\"},\"line\":{\"color\":\"white\"}},\"type\":\"table\"}]},\"layout\":{\"annotationdefaults\":{\"arrowcolor\":\"#2a3f5f\",\"arrowhead\":0,\"arrowwidth\":1},\"autotypenumbers\":\"strict\",\"coloraxis\":{\"colorbar\":{\"outlinewidth\":0,\"ticks\":\"\"}},\"colorscale\":{\"diverging\":[[0,\"#8e0152\"],[0.1,\"#c51b7d\"],[0.2,\"#de77ae\"],[0.3,\"#f1b6da\"],[0.4,\"#fde0ef\"],[0.5,\"#f7f7f7\"],[0.6,\"#e6f5d0\"],[0.7,\"#b8e186\"],[0.8,\"#7fbc41\"],[0.9,\"#4d9221\"],[1,\"#276419\"]],\"sequential\":[[0.0,\"#0d0887\"],[0.1111111111111111,\"#46039f\"],[0.2222222222222222,\"#7201a8\"],[0.3333333333333333,\"#9c179e\"],[0.4444444444444444,\"#bd3786\"],[0.5555555555555556,\"#d8576b\"],[0.6666666666666666,\"#ed7953\"],[0.7777777777777778,\"#fb9f3a\"],[0.8888888888888888,\"#fdca26\"],[1.0,\"#f0f921\"]],\"sequentialminus\":[[0.0,\"#0d0887\"],[0.1111111111111111,\"#46039f\"],[0.2222222222222222,\"#7201a8\"],[0.3333333333333333,\"#9c179e\"],[0.4444444444444444,\"#bd3786\"],[0.5555555555555556,\"#d8576b\"],[0.6666666666666666,\"#ed7953\"],[0.7777777777777778,\"#fb9f3a\"],[0.8888888888888888,\"#fdca26\"],[1.0,\"#f0f921\"]]},\"colorway\":[\"#636efa\",\"#EF553B\",\"#00cc96\",\"#ab63fa\",\"#FFA15A\",\"#19d3f3\",\"#FF6692\",\"#B6E880\",\"#FF97FF\",\"#FECB52\"],\"font\":{\"color\":\"#2a3f5f\"},\"geo\":{\"bgcolor\":\"white\",\"lakecolor\":\"white\",\"landcolor\":\"#E5ECF6\",\"showlakes\":true,\"showland\":true,\"subunitcolor\":\"white\"},\"hoverlabel\":{\"align\":\"left\"},\"hovermode\":\"closest\",\"mapbox\":{\"style\":\"light\"},\"paper_bgcolor\":\"white\",\"plot_bgcolor\":\"#E5ECF6\",\"polar\":{\"angularaxis\":{\"gridcolor\":\"white\",\"linecolor\":\"white\",\"ticks\":\"\"},\"bgcolor\":\"#E5ECF6\",\"radialaxis\":{\"gridcolor\":\"white\",\"linecolor\":\"white\",\"ticks\":\"\"}},\"scene\":{\"xaxis\":{\"backgroundcolor\":\"#E5ECF6\",\"gridcolor\":\"white\",\"gridwidth\":2,\"linecolor\":\"white\",\"showbackground\":true,\"ticks\":\"\",\"zerolinecolor\":\"white\"},\"yaxis\":{\"backgroundcolor\":\"#E5ECF6\",\"gridcolor\":\"white\",\"gridwidth\":2,\"linecolor\":\"white\",\"showbackground\":true,\"ticks\":\"\",\"zerolinecolor\":\"white\"},\"zaxis\":{\"backgroundcolor\":\"#E5ECF6\",\"gridcolor\":\"white\",\"gridwidth\":2,\"linecolor\":\"white\",\"showbackground\":true,\"ticks\":\"\",\"zerolinecolor\":\"white\"}},\"shapedefaults\":{\"line\":{\"color\":\"#2a3f5f\"}},\"ternary\":{\"aaxis\":{\"gridcolor\":\"white\",\"linecolor\":\"white\",\"ticks\":\"\"},\"baxis\":{\"gridcolor\":\"white\",\"linecolor\":\"white\",\"ticks\":\"\"},\"bgcolor\":\"#E5ECF6\",\"caxis\":{\"gridcolor\":\"white\",\"linecolor\":\"white\",\"ticks\":\"\"}},\"title\":{\"x\":0.05},\"xaxis\":{\"automargin\":true,\"gridcolor\":\"white\",\"linecolor\":\"white\",\"ticks\":\"\",\"title\":{\"standoff\":15},\"zerolinecolor\":\"white\",\"zerolinewidth\":2},\"yaxis\":{\"automargin\":true,\"gridcolor\":\"white\",\"linecolor\":\"white\",\"ticks\":\"\",\"title\":{\"standoff\":15},\"zerolinecolor\":\"white\",\"zerolinewidth\":2}}},\"xaxis\":{\"anchor\":\"y\",\"domain\":[0.0,1.0],\"title\":{\"text\":\"week_timestamp\"}},\"yaxis\":{\"anchor\":\"x\",\"domain\":[0.0,1.0],\"title\":{\"text\":\"date_diff\"}},\"legend\":{\"title\":{\"text\":\"label\"},\"tracegroupgap\":0},\"margin\":{\"t\":60}},                        {\"responsive\": true}                    ).then(function(){\n",
              "                            \n",
              "var gd = document.getElementById('d0310c44-ebbc-4bfc-a95a-392c6fe8b8d6');\n",
              "var x = new MutationObserver(function (mutations, observer) {{\n",
              "        var display = window.getComputedStyle(gd).display;\n",
              "        if (!display || display === 'none') {{\n",
              "            console.log([gd, 'removed!']);\n",
              "            Plotly.purge(gd);\n",
              "            observer.disconnect();\n",
              "        }}\n",
              "}});\n",
              "\n",
              "// Listen for the removal of the full notebook cells\n",
              "var notebookContainer = gd.closest('#notebook-container');\n",
              "if (notebookContainer) {{\n",
              "    x.observe(notebookContainer, {childList: true});\n",
              "}}\n",
              "\n",
              "// Listen for the clearing of the current output cell\n",
              "var outputEl = gd.closest('.output');\n",
              "if (outputEl) {{\n",
              "    x.observe(outputEl, {childList: true});\n",
              "}}\n",
              "\n",
              "                        })                };                            </script>        </div>\n",
              "</body>\n",
              "</html>"
            ]
          },
          "metadata": {},
          "output_type": "display_data"
        }
      ],
      "source": [
        "data_plot = data.groupby(['week_timestamp', 'label']).median()\n",
        "\n",
        "px.line(data_plot.reset_index(), x='week_timestamp', y='date_diff', color='label')"
      ]
    },
    {
      "cell_type": "markdown",
      "metadata": {
        "id": "p12CxpqoBQgx"
      },
      "source": [
        "### Charakterystyka"
      ]
    },
    {
      "cell_type": "code",
      "execution_count": null,
      "metadata": {
        "colab": {
          "base_uri": "https://localhost:8080/",
          "height": 143
        },
        "id": "gZPJLLS8BQgy",
        "outputId": "cd81398e-8b8b-4386-ae3e-8843e6873724"
      },
      "outputs": [
        {
          "data": {
            "text/html": [
              "\n",
              "  <div id=\"df-a52f413c-c014-4f94-acc5-fbe3ff4af789\">\n",
              "    <div class=\"colab-df-container\">\n",
              "      <div>\n",
              "<style scoped>\n",
              "    .dataframe tbody tr th:only-of-type {\n",
              "        vertical-align: middle;\n",
              "    }\n",
              "\n",
              "    .dataframe tbody tr th {\n",
              "        vertical-align: top;\n",
              "    }\n",
              "\n",
              "    .dataframe thead th {\n",
              "        text-align: right;\n",
              "    }\n",
              "</style>\n",
              "<table border=\"1\" class=\"dataframe\">\n",
              "  <thead>\n",
              "    <tr style=\"text-align: right;\">\n",
              "      <th></th>\n",
              "      <th>count</th>\n",
              "      <th>mean</th>\n",
              "      <th>std</th>\n",
              "      <th>min</th>\n",
              "      <th>25%</th>\n",
              "      <th>50%</th>\n",
              "      <th>75%</th>\n",
              "      <th>max</th>\n",
              "    </tr>\n",
              "    <tr>\n",
              "      <th>label</th>\n",
              "      <th></th>\n",
              "      <th></th>\n",
              "      <th></th>\n",
              "      <th></th>\n",
              "      <th></th>\n",
              "      <th></th>\n",
              "      <th></th>\n",
              "      <th></th>\n",
              "    </tr>\n",
              "  </thead>\n",
              "  <tbody>\n",
              "    <tr>\n",
              "      <th>Spotify Global</th>\n",
              "      <td>4697.0</td>\n",
              "      <td>512.451778</td>\n",
              "      <td>2413.497847</td>\n",
              "      <td>1.0</td>\n",
              "      <td>6.0</td>\n",
              "      <td>6.0</td>\n",
              "      <td>24.0</td>\n",
              "      <td>27391.0</td>\n",
              "    </tr>\n",
              "    <tr>\n",
              "      <th>Spotify Polska</th>\n",
              "      <td>4336.0</td>\n",
              "      <td>546.886301</td>\n",
              "      <td>2399.676634</td>\n",
              "      <td>1.0</td>\n",
              "      <td>6.0</td>\n",
              "      <td>7.0</td>\n",
              "      <td>35.0</td>\n",
              "      <td>27391.0</td>\n",
              "    </tr>\n",
              "  </tbody>\n",
              "</table>\n",
              "</div>\n",
              "      <button class=\"colab-df-convert\" onclick=\"convertToInteractive('df-a52f413c-c014-4f94-acc5-fbe3ff4af789')\"\n",
              "              title=\"Convert this dataframe to an interactive table.\"\n",
              "              style=\"display:none;\">\n",
              "        \n",
              "  <svg xmlns=\"http://www.w3.org/2000/svg\" height=\"24px\"viewBox=\"0 0 24 24\"\n",
              "       width=\"24px\">\n",
              "    <path d=\"M0 0h24v24H0V0z\" fill=\"none\"/>\n",
              "    <path d=\"M18.56 5.44l.94 2.06.94-2.06 2.06-.94-2.06-.94-.94-2.06-.94 2.06-2.06.94zm-11 1L8.5 8.5l.94-2.06 2.06-.94-2.06-.94L8.5 2.5l-.94 2.06-2.06.94zm10 10l.94 2.06.94-2.06 2.06-.94-2.06-.94-.94-2.06-.94 2.06-2.06.94z\"/><path d=\"M17.41 7.96l-1.37-1.37c-.4-.4-.92-.59-1.43-.59-.52 0-1.04.2-1.43.59L10.3 9.45l-7.72 7.72c-.78.78-.78 2.05 0 2.83L4 21.41c.39.39.9.59 1.41.59.51 0 1.02-.2 1.41-.59l7.78-7.78 2.81-2.81c.8-.78.8-2.07 0-2.86zM5.41 20L4 18.59l7.72-7.72 1.47 1.35L5.41 20z\"/>\n",
              "  </svg>\n",
              "      </button>\n",
              "      \n",
              "  <style>\n",
              "    .colab-df-container {\n",
              "      display:flex;\n",
              "      flex-wrap:wrap;\n",
              "      gap: 12px;\n",
              "    }\n",
              "\n",
              "    .colab-df-convert {\n",
              "      background-color: #E8F0FE;\n",
              "      border: none;\n",
              "      border-radius: 50%;\n",
              "      cursor: pointer;\n",
              "      display: none;\n",
              "      fill: #1967D2;\n",
              "      height: 32px;\n",
              "      padding: 0 0 0 0;\n",
              "      width: 32px;\n",
              "    }\n",
              "\n",
              "    .colab-df-convert:hover {\n",
              "      background-color: #E2EBFA;\n",
              "      box-shadow: 0px 1px 2px rgba(60, 64, 67, 0.3), 0px 1px 3px 1px rgba(60, 64, 67, 0.15);\n",
              "      fill: #174EA6;\n",
              "    }\n",
              "\n",
              "    [theme=dark] .colab-df-convert {\n",
              "      background-color: #3B4455;\n",
              "      fill: #D2E3FC;\n",
              "    }\n",
              "\n",
              "    [theme=dark] .colab-df-convert:hover {\n",
              "      background-color: #434B5C;\n",
              "      box-shadow: 0px 1px 3px 1px rgba(0, 0, 0, 0.15);\n",
              "      filter: drop-shadow(0px 1px 2px rgba(0, 0, 0, 0.3));\n",
              "      fill: #FFFFFF;\n",
              "    }\n",
              "  </style>\n",
              "\n",
              "      <script>\n",
              "        const buttonEl =\n",
              "          document.querySelector('#df-a52f413c-c014-4f94-acc5-fbe3ff4af789 button.colab-df-convert');\n",
              "        buttonEl.style.display =\n",
              "          google.colab.kernel.accessAllowed ? 'block' : 'none';\n",
              "\n",
              "        async function convertToInteractive(key) {\n",
              "          const element = document.querySelector('#df-a52f413c-c014-4f94-acc5-fbe3ff4af789');\n",
              "          const dataTable =\n",
              "            await google.colab.kernel.invokeFunction('convertToInteractive',\n",
              "                                                     [key], {});\n",
              "          if (!dataTable) return;\n",
              "\n",
              "          const docLinkHtml = 'Like what you see? Visit the ' +\n",
              "            '<a target=\"_blank\" href=https://colab.research.google.com/notebooks/data_table.ipynb>data table notebook</a>'\n",
              "            + ' to learn more about interactive tables.';\n",
              "          element.innerHTML = '';\n",
              "          dataTable['output_type'] = 'display_data';\n",
              "          await google.colab.output.renderOutput(dataTable, element);\n",
              "          const docLink = document.createElement('div');\n",
              "          docLink.innerHTML = docLinkHtml;\n",
              "          element.appendChild(docLink);\n",
              "        }\n",
              "      </script>\n",
              "    </div>\n",
              "  </div>\n",
              "  "
            ],
            "text/plain": [
              "                 count        mean          std  min  25%  50%   75%      max\n",
              "label                                                                        \n",
              "Spotify Global  4697.0  512.451778  2413.497847  1.0  6.0  6.0  24.0  27391.0\n",
              "Spotify Polska  4336.0  546.886301  2399.676634  1.0  6.0  7.0  35.0  27391.0"
            ]
          },
          "execution_count": 38,
          "metadata": {},
          "output_type": "execute_result"
        }
      ],
      "source": [
        "data.groupby(['label'])['date_diff'].describe()"
      ]
    },
    {
      "cell_type": "markdown",
      "metadata": {
        "id": "CEGGx1EpBQgy"
      },
      "source": [
        "### Wpływ czynników zewnętrznych (Tiktok)"
      ]
    },
    {
      "cell_type": "markdown",
      "metadata": {
        "id": "G2aSuqCxBQgz"
      },
      "source": [
        "Można znaleźć przypadki, gdy utwór trafia do notowań Top 100 nawet kiedy jego premiera odbyła się rok lub więcej temu. Warto zaznaczyć wpływ czynników zewnętrznych na ranking.\n",
        "\n",
        "Wybierając z danych ostatnią zescrapowaną piosenkę, widzimy:"
      ]
    },
    {
      "cell_type": "code",
      "execution_count": null,
      "metadata": {
        "colab": {
          "base_uri": "https://localhost:8080/"
        },
        "id": "KrTpDczkBQgz",
        "outputId": "784b7e37-d34e-4086-88c8-6891058da32a",
        "tags": []
      },
      "outputs": [
        {
          "data": {
            "text/plain": [
              "week_timestamp                               2022-05\n",
              "track_name              Only Love Can Hurt Like This\n",
              "track_uri                     62ke5zFUJN6RvtXZgVH0F8\n",
              "artist_1_name                           Paloma Faith\n",
              "artist_2_name                                    NaN\n",
              "artist_3_name                                    NaN\n",
              "artist_1_uri                  4fwuXg6XQHfdlOdmw36OHa\n",
              "artist_2_uri                                     NaN\n",
              "artist_3_uri                                     NaN\n",
              "total_streams                                5682774\n",
              "genre_1                                 british soul\n",
              "genre_2                                    dance pop\n",
              "genre_3                                      europop\n",
              "genre_4                                     neo soul\n",
              "genre_5                                          NaN\n",
              "this_position_streak                               1\n",
              "total_streak                                       1\n",
              "release_date                     2014-03-10 00:00:00\n",
              "peak_date                        2022-05-26 00:00:00\n",
              "date_diff                                       2999\n",
              "label                                 Spotify Global\n",
              "Name: 56588, dtype: object"
            ]
          },
          "execution_count": 39,
          "metadata": {},
          "output_type": "execute_result"
        }
      ],
      "source": [
        "df.iloc[-1]"
      ]
    },
    {
      "cell_type": "markdown",
      "metadata": {
        "id": "p9CTiqR1BQg0"
      },
      "source": [
        "Piosenka miała premierę 8 lat temu (!), ale w Top 100 na Spotify pojawiła się dopiero 26 maja 2022 roku. Możemy się zastanowić czemu tak się stało."
      ]
    },
    {
      "cell_type": "markdown",
      "metadata": {
        "id": "lyO4m9pHBQg0"
      },
      "source": [
        "#### Google Trends"
      ]
    },
    {
      "cell_type": "markdown",
      "metadata": {
        "id": "9wf6vMJ_BQg1"
      },
      "source": [
        "Analizując trendy wyszukiwań Google'a w poszukiwaniu przyczyny renesansu utworu \"Only Love Can Hurt Like This\", widać wyraźny skok zainteresowania w roku 2022. Pierwotne zainteresowanie piosenką trwało dwa lata (od premiery w marcu 2014 do marca 2016). W lutym 2022 piosenka nagle znowu się staje popularna."
      ]
    },
    {
      "cell_type": "code",
      "execution_count": null,
      "metadata": {
        "colab": {
          "base_uri": "https://localhost:8080/",
          "height": 542
        },
        "id": "69UKdaULBQg1",
        "outputId": "36f54751-d4b2-43cb-c1ae-da7bc0da5697",
        "tags": []
      },
      "outputs": [
        {
          "data": {
            "text/html": [
              "<html>\n",
              "<head><meta charset=\"utf-8\" /></head>\n",
              "<body>\n",
              "    <div>            <script src=\"https://cdnjs.cloudflare.com/ajax/libs/mathjax/2.7.5/MathJax.js?config=TeX-AMS-MML_SVG\"></script><script type=\"text/javascript\">if (window.MathJax) {MathJax.Hub.Config({SVG: {font: \"STIX-Web\"}});}</script>                <script type=\"text/javascript\">window.PlotlyConfig = {MathJaxConfig: 'local'};</script>\n",
              "        <script src=\"https://cdn.plot.ly/plotly-2.8.3.min.js\"></script>                <div id=\"91070a19-640f-4410-9608-b4d1cd889cc9\" class=\"plotly-graph-div\" style=\"height:525px; width:100%;\"></div>            <script type=\"text/javascript\">                                    window.PLOTLYENV=window.PLOTLYENV || {};                                    if (document.getElementById(\"91070a19-640f-4410-9608-b4d1cd889cc9\")) {                    Plotly.newPlot(                        \"91070a19-640f-4410-9608-b4d1cd889cc9\",                        [{\"hovertemplate\":\"Data=%{x}<br>Zainteresowanie=%{y}<extra></extra>\",\"legendgroup\":\"\",\"line\":{\"color\":\"#636efa\",\"dash\":\"solid\"},\"marker\":{\"symbol\":\"circle\"},\"mode\":\"lines\",\"name\":\"\",\"orientation\":\"v\",\"showlegend\":false,\"x\":[\"2004-02\",\"2004-03\",\"2004-04\",\"2004-05\",\"2004-06\",\"2004-07\",\"2004-08\",\"2004-09\",\"2004-10\",\"2004-11\",\"2004-12\",\"2005-01\",\"2005-02\",\"2005-03\",\"2005-04\",\"2005-05\",\"2005-06\",\"2005-07\",\"2005-08\",\"2005-09\",\"2005-10\",\"2005-11\",\"2005-12\",\"2006-01\",\"2006-02\",\"2006-03\",\"2006-04\",\"2006-05\",\"2006-06\",\"2006-07\",\"2006-08\",\"2006-09\",\"2006-10\",\"2006-11\",\"2006-12\",\"2007-01\",\"2007-02\",\"2007-03\",\"2007-04\",\"2007-05\",\"2007-06\",\"2007-07\",\"2007-08\",\"2007-09\",\"2007-10\",\"2007-11\",\"2007-12\",\"2008-01\",\"2008-02\",\"2008-03\",\"2008-04\",\"2008-05\",\"2008-06\",\"2008-07\",\"2008-08\",\"2008-09\",\"2008-10\",\"2008-11\",\"2008-12\",\"2009-01\",\"2009-02\",\"2009-03\",\"2009-04\",\"2009-05\",\"2009-06\",\"2009-07\",\"2009-08\",\"2009-09\",\"2009-10\",\"2009-11\",\"2009-12\",\"2010-01\",\"2010-02\",\"2010-03\",\"2010-04\",\"2010-05\",\"2010-06\",\"2010-07\",\"2010-08\",\"2010-09\",\"2010-10\",\"2010-11\",\"2010-12\",\"2011-01\",\"2011-02\",\"2011-03\",\"2011-04\",\"2011-05\",\"2011-06\",\"2011-07\",\"2011-08\",\"2011-09\",\"2011-10\",\"2011-11\",\"2011-12\",\"2012-01\",\"2012-02\",\"2012-03\",\"2012-04\",\"2012-05\",\"2012-06\",\"2012-07\",\"2012-08\",\"2012-09\",\"2012-10\",\"2012-11\",\"2012-12\",\"2013-01\",\"2013-02\",\"2013-03\",\"2013-04\",\"2013-05\",\"2013-06\",\"2013-07\",\"2013-08\",\"2013-09\",\"2013-10\",\"2013-11\",\"2013-12\",\"2014-01\",\"2014-02\",\"2014-03\",\"2014-04\",\"2014-05\",\"2014-06\",\"2014-07\",\"2014-08\",\"2014-09\",\"2014-10\",\"2014-11\",\"2014-12\",\"2015-01\",\"2015-02\",\"2015-03\",\"2015-04\",\"2015-05\",\"2015-06\",\"2015-07\",\"2015-08\",\"2015-09\",\"2015-10\",\"2015-11\",\"2015-12\",\"2016-01\",\"2016-02\",\"2016-03\",\"2016-04\",\"2016-05\",\"2016-06\",\"2016-07\",\"2016-08\",\"2016-09\",\"2016-10\",\"2016-11\",\"2016-12\",\"2017-01\",\"2017-02\",\"2017-03\",\"2017-04\",\"2017-05\",\"2017-06\",\"2017-07\",\"2017-08\",\"2017-09\",\"2017-10\",\"2017-11\",\"2017-12\",\"2018-01\",\"2018-02\",\"2018-03\",\"2018-04\",\"2018-05\",\"2018-06\",\"2018-07\",\"2018-08\",\"2018-09\",\"2018-10\",\"2018-11\",\"2018-12\",\"2019-01\",\"2019-02\",\"2019-03\",\"2019-04\",\"2019-05\",\"2019-06\",\"2019-07\",\"2019-08\",\"2019-09\",\"2019-10\",\"2019-11\",\"2019-12\",\"2020-01\",\"2020-02\",\"2020-03\",\"2020-04\",\"2020-05\",\"2020-06\",\"2020-07\",\"2020-08\",\"2020-09\",\"2020-10\",\"2020-11\",\"2020-12\",\"2021-01\",\"2021-02\",\"2021-03\",\"2021-04\",\"2021-05\",\"2021-06\",\"2021-07\",\"2021-08\",\"2021-09\",\"2021-10\",\"2021-11\",\"2021-12\",\"2022-01\",\"2022-02\",\"2022-03\",\"2022-04\",\"2022-05\",\"2022-06\"],\"xaxis\":\"x\",\"y\":[0,0,0,0,0,0,0,0,0,0,0,0,0,0,0,0,0,0,0,0,0,0,0,0,0,0,0,0,0,0,0,0,0,0,0,0,0,1,0,0,0,0,0,0,0,0,0,0,0,0,0,0,0,0,0,0,1,0,1,0,0,0,0,0,0,0,0,0,0,0,1,0,0,0,0,0,0,1,0,0,0,0,0,1,0,0,0,0,1,0,0,0,0,1,0,1,1,1,0,0,0,0,0,0,0,1,0,0,0,0,0,0,0,0,0,0,1,0,0,1,1,4,9,46,37,52,65,47,38,28,24,21,25,31,24,19,17,18,17,16,13,11,9,11,10,10,7,7,7,7,6,7,7,7,6,7,6,5,5,6,6,5,5,5,5,6,4,4,4,4,5,5,4,4,5,5,5,4,4,4,4,3,3,4,4,4,4,4,4,3,3,3,4,4,3,4,3,4,3,3,3,3,3,2,3,3,3,3,2,3,3,3,3,2,9,31,24,28,44,86,100],\"yaxis\":\"y\",\"type\":\"scatter\"}],                        {\"template\":{\"data\":{\"bar\":[{\"error_x\":{\"color\":\"#2a3f5f\"},\"error_y\":{\"color\":\"#2a3f5f\"},\"marker\":{\"line\":{\"color\":\"#E5ECF6\",\"width\":0.5},\"pattern\":{\"fillmode\":\"overlay\",\"size\":10,\"solidity\":0.2}},\"type\":\"bar\"}],\"barpolar\":[{\"marker\":{\"line\":{\"color\":\"#E5ECF6\",\"width\":0.5},\"pattern\":{\"fillmode\":\"overlay\",\"size\":10,\"solidity\":0.2}},\"type\":\"barpolar\"}],\"carpet\":[{\"aaxis\":{\"endlinecolor\":\"#2a3f5f\",\"gridcolor\":\"white\",\"linecolor\":\"white\",\"minorgridcolor\":\"white\",\"startlinecolor\":\"#2a3f5f\"},\"baxis\":{\"endlinecolor\":\"#2a3f5f\",\"gridcolor\":\"white\",\"linecolor\":\"white\",\"minorgridcolor\":\"white\",\"startlinecolor\":\"#2a3f5f\"},\"type\":\"carpet\"}],\"choropleth\":[{\"colorbar\":{\"outlinewidth\":0,\"ticks\":\"\"},\"type\":\"choropleth\"}],\"contour\":[{\"colorbar\":{\"outlinewidth\":0,\"ticks\":\"\"},\"colorscale\":[[0.0,\"#0d0887\"],[0.1111111111111111,\"#46039f\"],[0.2222222222222222,\"#7201a8\"],[0.3333333333333333,\"#9c179e\"],[0.4444444444444444,\"#bd3786\"],[0.5555555555555556,\"#d8576b\"],[0.6666666666666666,\"#ed7953\"],[0.7777777777777778,\"#fb9f3a\"],[0.8888888888888888,\"#fdca26\"],[1.0,\"#f0f921\"]],\"type\":\"contour\"}],\"contourcarpet\":[{\"colorbar\":{\"outlinewidth\":0,\"ticks\":\"\"},\"type\":\"contourcarpet\"}],\"heatmap\":[{\"colorbar\":{\"outlinewidth\":0,\"ticks\":\"\"},\"colorscale\":[[0.0,\"#0d0887\"],[0.1111111111111111,\"#46039f\"],[0.2222222222222222,\"#7201a8\"],[0.3333333333333333,\"#9c179e\"],[0.4444444444444444,\"#bd3786\"],[0.5555555555555556,\"#d8576b\"],[0.6666666666666666,\"#ed7953\"],[0.7777777777777778,\"#fb9f3a\"],[0.8888888888888888,\"#fdca26\"],[1.0,\"#f0f921\"]],\"type\":\"heatmap\"}],\"heatmapgl\":[{\"colorbar\":{\"outlinewidth\":0,\"ticks\":\"\"},\"colorscale\":[[0.0,\"#0d0887\"],[0.1111111111111111,\"#46039f\"],[0.2222222222222222,\"#7201a8\"],[0.3333333333333333,\"#9c179e\"],[0.4444444444444444,\"#bd3786\"],[0.5555555555555556,\"#d8576b\"],[0.6666666666666666,\"#ed7953\"],[0.7777777777777778,\"#fb9f3a\"],[0.8888888888888888,\"#fdca26\"],[1.0,\"#f0f921\"]],\"type\":\"heatmapgl\"}],\"histogram\":[{\"marker\":{\"pattern\":{\"fillmode\":\"overlay\",\"size\":10,\"solidity\":0.2}},\"type\":\"histogram\"}],\"histogram2d\":[{\"colorbar\":{\"outlinewidth\":0,\"ticks\":\"\"},\"colorscale\":[[0.0,\"#0d0887\"],[0.1111111111111111,\"#46039f\"],[0.2222222222222222,\"#7201a8\"],[0.3333333333333333,\"#9c179e\"],[0.4444444444444444,\"#bd3786\"],[0.5555555555555556,\"#d8576b\"],[0.6666666666666666,\"#ed7953\"],[0.7777777777777778,\"#fb9f3a\"],[0.8888888888888888,\"#fdca26\"],[1.0,\"#f0f921\"]],\"type\":\"histogram2d\"}],\"histogram2dcontour\":[{\"colorbar\":{\"outlinewidth\":0,\"ticks\":\"\"},\"colorscale\":[[0.0,\"#0d0887\"],[0.1111111111111111,\"#46039f\"],[0.2222222222222222,\"#7201a8\"],[0.3333333333333333,\"#9c179e\"],[0.4444444444444444,\"#bd3786\"],[0.5555555555555556,\"#d8576b\"],[0.6666666666666666,\"#ed7953\"],[0.7777777777777778,\"#fb9f3a\"],[0.8888888888888888,\"#fdca26\"],[1.0,\"#f0f921\"]],\"type\":\"histogram2dcontour\"}],\"mesh3d\":[{\"colorbar\":{\"outlinewidth\":0,\"ticks\":\"\"},\"type\":\"mesh3d\"}],\"parcoords\":[{\"line\":{\"colorbar\":{\"outlinewidth\":0,\"ticks\":\"\"}},\"type\":\"parcoords\"}],\"pie\":[{\"automargin\":true,\"type\":\"pie\"}],\"scatter\":[{\"marker\":{\"colorbar\":{\"outlinewidth\":0,\"ticks\":\"\"}},\"type\":\"scatter\"}],\"scatter3d\":[{\"line\":{\"colorbar\":{\"outlinewidth\":0,\"ticks\":\"\"}},\"marker\":{\"colorbar\":{\"outlinewidth\":0,\"ticks\":\"\"}},\"type\":\"scatter3d\"}],\"scattercarpet\":[{\"marker\":{\"colorbar\":{\"outlinewidth\":0,\"ticks\":\"\"}},\"type\":\"scattercarpet\"}],\"scattergeo\":[{\"marker\":{\"colorbar\":{\"outlinewidth\":0,\"ticks\":\"\"}},\"type\":\"scattergeo\"}],\"scattergl\":[{\"marker\":{\"colorbar\":{\"outlinewidth\":0,\"ticks\":\"\"}},\"type\":\"scattergl\"}],\"scattermapbox\":[{\"marker\":{\"colorbar\":{\"outlinewidth\":0,\"ticks\":\"\"}},\"type\":\"scattermapbox\"}],\"scatterpolar\":[{\"marker\":{\"colorbar\":{\"outlinewidth\":0,\"ticks\":\"\"}},\"type\":\"scatterpolar\"}],\"scatterpolargl\":[{\"marker\":{\"colorbar\":{\"outlinewidth\":0,\"ticks\":\"\"}},\"type\":\"scatterpolargl\"}],\"scatterternary\":[{\"marker\":{\"colorbar\":{\"outlinewidth\":0,\"ticks\":\"\"}},\"type\":\"scatterternary\"}],\"surface\":[{\"colorbar\":{\"outlinewidth\":0,\"ticks\":\"\"},\"colorscale\":[[0.0,\"#0d0887\"],[0.1111111111111111,\"#46039f\"],[0.2222222222222222,\"#7201a8\"],[0.3333333333333333,\"#9c179e\"],[0.4444444444444444,\"#bd3786\"],[0.5555555555555556,\"#d8576b\"],[0.6666666666666666,\"#ed7953\"],[0.7777777777777778,\"#fb9f3a\"],[0.8888888888888888,\"#fdca26\"],[1.0,\"#f0f921\"]],\"type\":\"surface\"}],\"table\":[{\"cells\":{\"fill\":{\"color\":\"#EBF0F8\"},\"line\":{\"color\":\"white\"}},\"header\":{\"fill\":{\"color\":\"#C8D4E3\"},\"line\":{\"color\":\"white\"}},\"type\":\"table\"}]},\"layout\":{\"annotationdefaults\":{\"arrowcolor\":\"#2a3f5f\",\"arrowhead\":0,\"arrowwidth\":1},\"autotypenumbers\":\"strict\",\"coloraxis\":{\"colorbar\":{\"outlinewidth\":0,\"ticks\":\"\"}},\"colorscale\":{\"diverging\":[[0,\"#8e0152\"],[0.1,\"#c51b7d\"],[0.2,\"#de77ae\"],[0.3,\"#f1b6da\"],[0.4,\"#fde0ef\"],[0.5,\"#f7f7f7\"],[0.6,\"#e6f5d0\"],[0.7,\"#b8e186\"],[0.8,\"#7fbc41\"],[0.9,\"#4d9221\"],[1,\"#276419\"]],\"sequential\":[[0.0,\"#0d0887\"],[0.1111111111111111,\"#46039f\"],[0.2222222222222222,\"#7201a8\"],[0.3333333333333333,\"#9c179e\"],[0.4444444444444444,\"#bd3786\"],[0.5555555555555556,\"#d8576b\"],[0.6666666666666666,\"#ed7953\"],[0.7777777777777778,\"#fb9f3a\"],[0.8888888888888888,\"#fdca26\"],[1.0,\"#f0f921\"]],\"sequentialminus\":[[0.0,\"#0d0887\"],[0.1111111111111111,\"#46039f\"],[0.2222222222222222,\"#7201a8\"],[0.3333333333333333,\"#9c179e\"],[0.4444444444444444,\"#bd3786\"],[0.5555555555555556,\"#d8576b\"],[0.6666666666666666,\"#ed7953\"],[0.7777777777777778,\"#fb9f3a\"],[0.8888888888888888,\"#fdca26\"],[1.0,\"#f0f921\"]]},\"colorway\":[\"#636efa\",\"#EF553B\",\"#00cc96\",\"#ab63fa\",\"#FFA15A\",\"#19d3f3\",\"#FF6692\",\"#B6E880\",\"#FF97FF\",\"#FECB52\"],\"font\":{\"color\":\"#2a3f5f\"},\"geo\":{\"bgcolor\":\"white\",\"lakecolor\":\"white\",\"landcolor\":\"#E5ECF6\",\"showlakes\":true,\"showland\":true,\"subunitcolor\":\"white\"},\"hoverlabel\":{\"align\":\"left\"},\"hovermode\":\"closest\",\"mapbox\":{\"style\":\"light\"},\"paper_bgcolor\":\"white\",\"plot_bgcolor\":\"#E5ECF6\",\"polar\":{\"angularaxis\":{\"gridcolor\":\"white\",\"linecolor\":\"white\",\"ticks\":\"\"},\"bgcolor\":\"#E5ECF6\",\"radialaxis\":{\"gridcolor\":\"white\",\"linecolor\":\"white\",\"ticks\":\"\"}},\"scene\":{\"xaxis\":{\"backgroundcolor\":\"#E5ECF6\",\"gridcolor\":\"white\",\"gridwidth\":2,\"linecolor\":\"white\",\"showbackground\":true,\"ticks\":\"\",\"zerolinecolor\":\"white\"},\"yaxis\":{\"backgroundcolor\":\"#E5ECF6\",\"gridcolor\":\"white\",\"gridwidth\":2,\"linecolor\":\"white\",\"showbackground\":true,\"ticks\":\"\",\"zerolinecolor\":\"white\"},\"zaxis\":{\"backgroundcolor\":\"#E5ECF6\",\"gridcolor\":\"white\",\"gridwidth\":2,\"linecolor\":\"white\",\"showbackground\":true,\"ticks\":\"\",\"zerolinecolor\":\"white\"}},\"shapedefaults\":{\"line\":{\"color\":\"#2a3f5f\"}},\"ternary\":{\"aaxis\":{\"gridcolor\":\"white\",\"linecolor\":\"white\",\"ticks\":\"\"},\"baxis\":{\"gridcolor\":\"white\",\"linecolor\":\"white\",\"ticks\":\"\"},\"bgcolor\":\"#E5ECF6\",\"caxis\":{\"gridcolor\":\"white\",\"linecolor\":\"white\",\"ticks\":\"\"}},\"title\":{\"x\":0.05},\"xaxis\":{\"automargin\":true,\"gridcolor\":\"white\",\"linecolor\":\"white\",\"ticks\":\"\",\"title\":{\"standoff\":15},\"zerolinecolor\":\"white\",\"zerolinewidth\":2},\"yaxis\":{\"automargin\":true,\"gridcolor\":\"white\",\"linecolor\":\"white\",\"ticks\":\"\",\"title\":{\"standoff\":15},\"zerolinecolor\":\"white\",\"zerolinewidth\":2}}},\"xaxis\":{\"anchor\":\"y\",\"domain\":[0.0,1.0],\"title\":{\"text\":\"Data\"}},\"yaxis\":{\"anchor\":\"x\",\"domain\":[0.0,1.0],\"title\":{\"text\":\"Zainteresowanie\"}},\"legend\":{\"tracegroupgap\":0},\"title\":{\"text\":\"Zainteresowanie w czasie fraz\\u0105 \\\"Only Love Can Hurt Like This\\\"\"}},                        {\"responsive\": true}                    ).then(function(){\n",
              "                            \n",
              "var gd = document.getElementById('91070a19-640f-4410-9608-b4d1cd889cc9');\n",
              "var x = new MutationObserver(function (mutations, observer) {{\n",
              "        var display = window.getComputedStyle(gd).display;\n",
              "        if (!display || display === 'none') {{\n",
              "            console.log([gd, 'removed!']);\n",
              "            Plotly.purge(gd);\n",
              "            observer.disconnect();\n",
              "        }}\n",
              "}});\n",
              "\n",
              "// Listen for the removal of the full notebook cells\n",
              "var notebookContainer = gd.closest('#notebook-container');\n",
              "if (notebookContainer) {{\n",
              "    x.observe(notebookContainer, {childList: true});\n",
              "}}\n",
              "\n",
              "// Listen for the clearing of the current output cell\n",
              "var outputEl = gd.closest('.output');\n",
              "if (outputEl) {{\n",
              "    x.observe(outputEl, {childList: true});\n",
              "}}\n",
              "\n",
              "                        })                };                            </script>        </div>\n",
              "</body>\n",
              "</html>"
            ]
          },
          "metadata": {},
          "output_type": "display_data"
        }
      ],
      "source": [
        "trends = pd.read_csv('trends.csv')\n",
        "\n",
        "px.line(trends, x='Data', y='Zainteresowanie', title='Zainteresowanie w czasie frazą \"Only Love Can Hurt Like This\"')"
      ]
    },
    {
      "cell_type": "markdown",
      "metadata": {
        "id": "52Y4D5coBQg2"
      },
      "source": [
        "Analizując przy okazji komentarze na serwisie Youtube, możemy zauważyć wiele komentarzy tego typu:\n",
        "\n",
        "![e](https://i.imgur.com/8BTTnTK.png)\n",
        "\n",
        "Komentarz sprzed 5 miesięcy temu pokrywa się ze skokiem zainteresowania w Google Trends. Zatem możemy sformułować hipotezę, że serwisy jak Tiktok nie pozostają bez znaczenia w kształtowaniu obecnych rankigów przebojów i przyczyniaja się do globalizacji mniej popularnych artystów. W obecnych czasach popularność może przyjść nawet do nieznanego nikomu artysty przy odrobinie szczęścia."
      ]
    },
    {
      "cell_type": "markdown",
      "metadata": {
        "id": "tMsg15Q8BQg2",
        "tags": []
      },
      "source": [
        "## Niektóre wnioski"
      ]
    },
    {
      "cell_type": "markdown",
      "metadata": {
        "id": "T5H5blCfBQg3"
      },
      "source": [
        "\n",
        "* 50% (lub mniej) piosenek, które stają się hitami zazwyczaj trafiają do rankingu Spotify w ciągu tygodnia od premiery, a 75% (lub mniej) w ciągu miesiąca od premiery\n",
        "    * (poniekąd) okres do miesiąca po premierze jest najważniejszy dla piosenki czy stanie się hitem\n",
        "* Serwisy typu Tiktok przyczyniają się do popularności piosenek w rankingach\n",
        "* W okresie świątecznym cały świat pogrąża się w świątecznym klimacie dzięki kolędom\n",
        "* W Polsce na Spotify obecnie topowymi gatunkami jest polski rap/hip-hop. Dopiero dalej jest pop i rock.\n",
        "    * przed 2018 dominował pop\n",
        "* Na świecie najbardziej popularny pop, rap i muzyka latino."
      ]
    },
    {
      "cell_type": "markdown",
      "metadata": {
        "id": "Z6AXfPz2BQg3"
      },
      "source": [
        "# Podsumowanie"
      ]
    },
    {
      "cell_type": "markdown",
      "metadata": {
        "id": "omlaQiU3BQg4"
      },
      "source": [
        "### Strona techniczna"
      ]
    },
    {
      "cell_type": "markdown",
      "metadata": {
        "id": "CFMsjKezBQg5"
      },
      "source": [
        "Do analizy zostały wykorzystane trzy źródła danych:\n",
        "1. Billboard Top 100 - amerykański ranking przebojów\n",
        "2. Lista przebojów Trójki - polski ranking, w którym na utwory głosują słuchacze radia (voluntary response bias)\n",
        "3. Spotify Charts Weekly - cotygodniowe podsumowanie najpopularniejszych utworów w serwisie streamingowym Spotify ( https://charts.spotify.com/charts/view/regional-global-weekly/2016-12-29 )\n",
        "\n",
        "Zbiór danych dla (1) zawiera 500k elementów. (3) dla Polski i Świata 120k elementów.\n",
        "\n",
        "Dane zostały pobrane wskutek scrapowania HTMLa (1) albo z publicznie dostępnego API (2, 3).\n",
        "\n"
      ]
    },
    {
      "cell_type": "markdown",
      "metadata": {
        "id": "lSisFkOBBQg5"
      },
      "source": [
        "### Problemy"
      ]
    },
    {
      "cell_type": "markdown",
      "metadata": {
        "id": "_oykbGEKBQg6",
        "tags": []
      },
      "source": [
        "### LP3 jest przykładem stronniczości próby złożonej z ochotników"
      ]
    },
    {
      "cell_type": "markdown",
      "metadata": {
        "id": "Pq2AqdXwBQg6"
      },
      "source": [
        "Próbka respodentów głosujących na Listę przebojów Trójki nieodwzwierciedla ogółu populacji. Co widać w porównaniu LP3 vs Spotify (LP3 ma większy udział rocka i ogólnie uznawanych \"klasyków\"). Ranking LP3 odwzwierciedla jedynie preferencje słuchaczy Trójki."
      ]
    },
    {
      "cell_type": "markdown",
      "metadata": {
        "id": "1Y96XEL_BQg7"
      },
      "source": [
        "### Spotify jest obiektywniejszym rankingiem, ale nadal nie jest statystycznie reprezentacyjna"
      ]
    },
    {
      "cell_type": "markdown",
      "metadata": {
        "id": "xHiEcOI7BQg7"
      },
      "source": [
        "Różnica w gustach muzycznych, które widać w porównaniu LP3 vs Spotify wynika prawdopodobnie z różnicy wieku użytkowników serwisu."
      ]
    },
    {
      "cell_type": "markdown",
      "metadata": {
        "id": "hkwf7CkABQg7"
      },
      "source": [
        "#### Brak łatwego dostępu na określenie gatunku przynależącego do danego utworu"
      ]
    },
    {
      "cell_type": "markdown",
      "metadata": {
        "id": "0TSvUyJMBQg8"
      },
      "source": [
        "W internecie nie ma usług tego typu. Nawet jeżeli by były - napotkamy problem różnych identyfikatorów w dwóch zbiorach danych. Dopasowanie po nazwie zawsze będzie podatne na błędy."
      ]
    },
    {
      "cell_type": "markdown",
      "metadata": {
        "id": "hXRE0LySBQg8"
      },
      "source": [
        "#### Brak ustandaryzowanych gatunków i problem przetwarzania ich"
      ]
    },
    {
      "cell_type": "markdown",
      "metadata": {
        "id": "xbXWDZ9hBQg9"
      },
      "source": [
        "Jedynym łatwym sposobem na określenie było Spotify. Spotify zaś zwraca listę przypisanych gatunków dla danego artysty. Pojawia się tu kilka problemów:\n",
        "1. Zwracana jest lista gatunków\n",
        "    * w jaki sposób to przechowywać w kolumnie? - przechowywanie listy jest złą praktyką\n",
        "    * ilu elementów w liście się spodziewać? - jeżeli przyjmujemy, że rozdzielimy listę na kolumny to musimy się ograniczyć do **n** elementów i liczyć się z utratą informacji\n",
        "2. Zwracane gatunki nie są \"ustandaryzowane\"\n",
        "    * czy dream pop to podgatunek popu? czym się różni southern rap od missouri rap?\n",
        "    * jeżeli elementy w zwracanej liście są posortowane losowo, w jaki sposób przyjąć \"główny gatunek\" dla danego utworu bez ręcznego mapowania?\n",
        "    * by łatwo zwizualizować powyższe zależności wymagana jest hierarchiczna struktura danych. W przypadku tej analizy jest to zadanie wymagające ręcznej ingerencji, a zatem zbyt czasochłonne\n",
        "4. Występy gościnne\n",
        "    * jeżeli w utworze występuje 2 czy 3 artystów to mogą być oni gatunkowo różni - którego artystę przyjmiemy za punkt odniesienia dla gatunków?\n",
        "5. Rate limiting API\n",
        "    * mając 500k elementów pojawia się problem z nałożonym limitem zapytań dla pojedynczego użytkownika "
      ]
    },
    {
      "cell_type": "code",
      "execution_count": null,
      "metadata": {
        "id": "WebSt0CBBQhB"
      },
      "outputs": [],
      "source": []
    }
  ],
  "metadata": {
    "colab": {
      "collapsed_sections": [],
      "name": "Untitled3.ipynb",
      "provenance": [],
      "toc_visible": true
    },
    "kernelspec": {
      "display_name": "Python 3 (ipykernel)",
      "language": "python",
      "name": "python3"
    },
    "language_info": {
      "codemirror_mode": {
        "name": "ipython",
        "version": 3
      },
      "file_extension": ".py",
      "mimetype": "text/x-python",
      "name": "python",
      "nbconvert_exporter": "python",
      "pygments_lexer": "ipython3",
      "version": "3.10.4"
    },
    "toc-autonumbering": false,
    "toc-showcode": false,
    "toc-showmarkdowntxt": false,
    "toc-showtags": false
  },
  "nbformat": 4,
  "nbformat_minor": 0
}
